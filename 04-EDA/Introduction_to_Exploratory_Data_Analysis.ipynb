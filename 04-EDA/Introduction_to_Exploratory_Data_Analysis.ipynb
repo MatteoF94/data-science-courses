{
  "cells": [
    {
      "cell_type": "markdown",
      "id": "5042f06b",
      "metadata": {
        "id": "5042f06b"
      },
      "source": [
        "<table width=100%>\n",
        "<tr>\n",
        "    <td><h1 style=\"text-align: left; font-size:300%;\">\n",
        "        Introduction to Exploratory Data Analysis\n",
        "    </h1></td>\n",
        "    <td width=\"30%\">\n",
        "    <div style=\"text-align: right\">\n",
        "    <b> Practical Data Science Lessons</b><br><br>\n",
        "    <b> Matteo Frosi</b><br>\n",
        "    <a href=\"mailto:matteo.frosi@polimi.it\">matteo.frosi@polimi.it</a><br>\n",
        "    </div>\n",
        "</tr>\n",
        "</table>"
      ]
    },
    {
      "cell_type": "markdown",
      "id": "b5e0b198",
      "metadata": {
        "id": "b5e0b198"
      },
      "source": [
        "## Learning outcomes 🔎\n",
        "\n",
        "*   [What is Exploratory Data Analysis (EDA)?](#what_is_eda)\n",
        "*   [Preliminary Exploration](#preliminary_exp)\n",
        "*   [Descriptive Statistics](#descr_stat)\n",
        "*   [Data Visualization](#data_viz)\n",
        "*   [Pandas, Seaborn or Matplotlib?](#pandas_seaborn_matplotlib)\n",
        "*   [Summary of functions](#summary)\n",
        "\n",
        "#### Resources:\n",
        "*   *[Harvard 2021 CS109-A: Introduction to Data Science](https://harvard-iacs.github.io/2021-CS109A/)*"
      ]
    },
    {
      "cell_type": "markdown",
      "id": "2bed09e7",
      "metadata": {
        "id": "2bed09e7"
      },
      "source": [
        "<a id='what_is_eda'></a>\n",
        "## What is Exploratory Data Analysis (EDA)?\n",
        "Exploratory Data Analysis (EDA) is a critical phase in the data analysis process where the primary goal is **to understand the characteristics of the data at hand**. It involves **visually and statistically summarizing** the main features of a dataset, often using graphical representations, to uncover patterns, trends, anomalies, and insights. EDA helps analysts and data scientists form hypotheses, identify relationships between variables, and guide the direction of further analysis."
      ]
    },
    {
      "cell_type": "code",
      "execution_count": null,
      "id": "e353675d",
      "metadata": {
        "id": "e353675d"
      },
      "outputs": [],
      "source": [
        "from IPython.core.interactiveshell import InteractiveShell\n",
        "InteractiveShell.ast_node_interactivity = \"all\""
      ]
    },
    {
      "cell_type": "code",
      "execution_count": null,
      "id": "ee8fa2a3",
      "metadata": {
        "id": "ee8fa2a3"
      },
      "outputs": [],
      "source": [
        "import pandas as pd\n",
        "import seaborn as sns\n",
        "import matplotlib.pyplot as plt"
      ]
    },
    {
      "cell_type": "markdown",
      "id": "14f93099",
      "metadata": {
        "id": "14f93099"
      },
      "source": [
        "## Load data\n",
        "\n",
        "The file *quartets.csv* contains 4 different tiny datasets that we will use to quickly understand the value of plotting."
      ]
    },
    {
      "cell_type": "code",
      "execution_count": null,
      "id": "3394fe06",
      "metadata": {
        "id": "3394fe06"
      },
      "outputs": [],
      "source": [
        "quartets = pd.read_csv('data/quartets.csv', index_col=0)"
      ]
    },
    {
      "cell_type": "markdown",
      "id": "0008283c",
      "metadata": {
        "id": "0008283c"
      },
      "source": [
        "<a id='preliminary_exp'></a>\n",
        "## Preliminary Exploration"
      ]
    },
    {
      "cell_type": "code",
      "execution_count": null,
      "id": "07fb0da8",
      "metadata": {
        "id": "07fb0da8"
      },
      "outputs": [],
      "source": [
        "quartets.info()"
      ]
    },
    {
      "cell_type": "markdown",
      "id": "e0ce30cc",
      "metadata": {
        "id": "e0ce30cc"
      },
      "source": [
        "We see there are 44 entries, two numerical columns x and y and one column to potentially identify every quartet dataset."
      ]
    },
    {
      "cell_type": "markdown",
      "id": "dbcfc2a0",
      "metadata": {
        "id": "dbcfc2a0"
      },
      "source": [
        "How does this dataframe look like?"
      ]
    },
    {
      "cell_type": "code",
      "execution_count": null,
      "id": "b0ba5ca3",
      "metadata": {
        "id": "b0ba5ca3"
      },
      "outputs": [],
      "source": [
        "quartets.head()"
      ]
    },
    {
      "cell_type": "markdown",
      "id": "15593fd5",
      "metadata": {
        "id": "15593fd5"
      },
      "source": [
        "How do random samples look like?"
      ]
    },
    {
      "cell_type": "code",
      "execution_count": null,
      "id": "56e26661",
      "metadata": {
        "id": "56e26661"
      },
      "outputs": [],
      "source": [
        "quartets.sample(5)"
      ]
    },
    {
      "cell_type": "markdown",
      "id": "ff2e0945",
      "metadata": {
        "id": "ff2e0945"
      },
      "source": [
        "Quartet's names"
      ]
    },
    {
      "cell_type": "code",
      "execution_count": null,
      "id": "9419d20e",
      "metadata": {
        "id": "9419d20e"
      },
      "outputs": [],
      "source": [
        "quartets['quartet'].unique().tolist()"
      ]
    },
    {
      "cell_type": "markdown",
      "id": "2a09815f",
      "metadata": {
        "id": "2a09815f"
      },
      "source": [
        "Display the first 3 samples from every dataset"
      ]
    },
    {
      "cell_type": "code",
      "execution_count": null,
      "id": "ee1be0b3",
      "metadata": {
        "id": "ee1be0b3"
      },
      "outputs": [],
      "source": [
        "quartets.groupby('quartet').head(3)"
      ]
    },
    {
      "cell_type": "markdown",
      "id": "d647e112",
      "metadata": {
        "id": "d647e112"
      },
      "source": [
        "Display 2 random samples from every dataset"
      ]
    },
    {
      "cell_type": "code",
      "execution_count": null,
      "id": "f4ff768a",
      "metadata": {
        "id": "f4ff768a"
      },
      "outputs": [],
      "source": [
        "quartets.groupby('quartet').sample(2)"
      ]
    },
    {
      "cell_type": "markdown",
      "id": "aada0911",
      "metadata": {
        "id": "aada0911"
      },
      "source": [
        "Display every quartet's dataset size"
      ]
    },
    {
      "cell_type": "code",
      "execution_count": null,
      "id": "ddc40359",
      "metadata": {
        "id": "ddc40359"
      },
      "outputs": [],
      "source": [
        "quartets.groupby('quartet').size()"
      ]
    },
    {
      "cell_type": "markdown",
      "id": "02aa85e2",
      "metadata": {
        "id": "02aa85e2"
      },
      "source": [
        "<a id='descr_stat'></a>\n",
        "## Descriptive Statistics"
      ]
    },
    {
      "cell_type": "code",
      "execution_count": null,
      "id": "6ac0dcc5",
      "metadata": {
        "id": "6ac0dcc5"
      },
      "outputs": [],
      "source": [
        "# agg() is a method to ggregate using one or more operations over the specified axis\n",
        "quartets.groupby('quartet').agg(['mean', 'std']).round(3)"
      ]
    },
    {
      "cell_type": "markdown",
      "id": "bb5545b0",
      "metadata": {
        "id": "bb5545b0"
      },
      "source": [
        "Almost same mean and standard deviation for every quartet.  \n",
        "This looks like all quartets samples could be sampled from the same distribution.  \n",
        "These are tiny datasets so we could read them all!"
      ]
    },
    {
      "cell_type": "code",
      "execution_count": null,
      "id": "c466f861",
      "metadata": {
        "id": "c466f861"
      },
      "outputs": [],
      "source": [
        "quartets[quartets['quartet'] == 'I']"
      ]
    },
    {
      "cell_type": "code",
      "execution_count": null,
      "id": "a72fd9d0",
      "metadata": {
        "id": "a72fd9d0"
      },
      "outputs": [],
      "source": [
        "quartets[quartets['quartet'] == 'II']"
      ]
    },
    {
      "cell_type": "code",
      "execution_count": null,
      "id": "78df5113",
      "metadata": {
        "id": "78df5113"
      },
      "outputs": [],
      "source": [
        "quartets[quartets['quartet'] == 'III']"
      ]
    },
    {
      "cell_type": "code",
      "execution_count": null,
      "id": "a9b32de0",
      "metadata": {
        "id": "a9b32de0"
      },
      "outputs": [],
      "source": [
        "quartets[quartets['quartet'] == 'IV']"
      ]
    },
    {
      "cell_type": "markdown",
      "id": "6e509d8c",
      "metadata": {
        "id": "6e509d8c"
      },
      "source": [
        "### Central Tendency and Dispersion\n",
        "\n",
        "When doing descriptive / statistical analysis we are interested on central tendency and dispersion, of which, mean and standard deviation are special cases. **Central tendency** measures summarize the **center or average of the data**, while **dispersion** measures indicate **how spread out** or variable the data points are.\n",
        "\n",
        "1. Central Tendency:\n",
        "\n",
        "    **Mean (Average)**: The mean is the sum of all values divided by the number of observations. It represents the center of the distribution.\n",
        "    $ \\text{Mean} = \\frac{\\sum_{i=1}^{n} X_i}{n} $\n",
        "\n",
        "    **Median**: The median is the middle value when the data is sorted. It is less sensitive to outliers than the mean and provides a measure of the central position.\n",
        "    $ \\text{Median} = \\text{Middle value in sorted data} $\n",
        "\n",
        "    **Mode**: The mode is the most frequently occurring value in the dataset. A distribution can be unimodal (one mode), bimodal (two modes), or multimodal (more than two modes).\n",
        "    $ \\text{Mode} = \\text{Most frequently occurring value} $\n",
        "\n",
        "2. Dispersion:\n",
        "\n",
        "    **Range**: The range is the difference between the maximum and minimum values in the dataset. It provides a simple measure of the spread but is sensitive to outliers.\n",
        "    $ \\text{Range} = \\text{Max} - \\text{Min} $\n",
        "\n",
        "    **Variance**: Variance measures the average squared difference of each data point from the mean. A higher variance indicates greater dispersion.\n",
        "    $ \\text{Variance} = \\frac{\\sum_{i=1}^{n} (X_i - \\text{Mean})^2}{n} $\n",
        "\n",
        "    **Standard Deviation**: The standard deviation is the square root of the variance. It provides a more interpretable measure of dispersion in the original units of the data.\n",
        "    $ \\text{Standard Deviation} = \\sqrt{\\text{Variance}} $\n",
        "\n",
        "    **Interquartile Range (IQR)**: IQR is the range between the first quartile (Q1) and the third quartile (Q3). It is less sensitive to outliers than the range.\n",
        "    $ \\text{IQR} = Q3 - Q1 $\n",
        "\n",
        "Understanding:\n",
        "* If the mean, median, and mode are close, the distribution is likely symmetric.\n",
        "* If the mean is greater than the median, the distribution may be right-skewed (positively skewed), and vice versa.\n",
        "* A large range, variance, or standard deviation indicates higher dispersion.\n",
        "* IQR is useful for identifying the spread of the middle 50% of the data."
      ]
    },
    {
      "cell_type": "markdown",
      "id": "4b072d8e",
      "metadata": {
        "id": "4b072d8e"
      },
      "source": [
        "<a id='data_viz'></a>\n",
        "## Data Visualization\n",
        "\n",
        "Pandas by default comes with matplotlib incorporated.\n",
        "\n",
        "*Seaborn is a Python data visualization library based on matplotlib. It provides a high-level interface for drawing attractive and informative statistical graphics.*"
      ]
    },
    {
      "cell_type": "markdown",
      "id": "52b145ac",
      "metadata": {
        "id": "52b145ac"
      },
      "source": [
        "### BoxPlot\n",
        "\n",
        "Box plots provide a summary of the distribution, including the median, quartiles, and potential outliers. The box represents the interquartile range (IQR), and the whiskers extend to the minimum and maximum values within a certain range. By default, they extend no more than 1.5 * IQR (IQR = Q3 - Q1) from the edges of the box, ending at the farthest data point within that interval. Outliers are plotted as separate dots."
      ]
    },
    {
      "cell_type": "code",
      "execution_count": null,
      "id": "3c620d8b",
      "metadata": {
        "id": "3c620d8b"
      },
      "outputs": [],
      "source": [
        "quartets.groupby('quartet').boxplot(grid=False);"
      ]
    },
    {
      "cell_type": "markdown",
      "id": "74b29bc6",
      "metadata": {
        "id": "74b29bc6"
      },
      "source": [
        "### [Seaborn's palettes](https://seaborn.pydata.org/tutorial/color_palettes.html)"
      ]
    },
    {
      "cell_type": "code",
      "execution_count": null,
      "id": "afde7198",
      "metadata": {
        "id": "afde7198"
      },
      "outputs": [],
      "source": [
        "sns.color_palette()"
      ]
    },
    {
      "cell_type": "code",
      "execution_count": null,
      "id": "ba840cb0",
      "metadata": {
        "id": "ba840cb0"
      },
      "outputs": [],
      "source": [
        "sns.color_palette('pastel')"
      ]
    },
    {
      "cell_type": "code",
      "execution_count": null,
      "id": "dfd3b124",
      "metadata": {
        "id": "dfd3b124"
      },
      "outputs": [],
      "source": [
        "palette = 'pastel'"
      ]
    },
    {
      "cell_type": "markdown",
      "id": "ea4ef3c1",
      "metadata": {
        "id": "ea4ef3c1"
      },
      "source": [
        "**Seaborn's boxplots**\n",
        "\n",
        "Similar boxplots with Matplotlib and Seaborn"
      ]
    },
    {
      "cell_type": "code",
      "execution_count": null,
      "id": "0d1f77e2",
      "metadata": {
        "id": "0d1f77e2"
      },
      "outputs": [],
      "source": [
        "fig, axes = plt.subplots(2, 2, figsize=(8,7))\n",
        "axes = axes.flatten().tolist()\n",
        "for quartet, g in quartets.groupby('quartet'):\n",
        "    ax = axes.pop(0)\n",
        "    sns.boxplot(data=g, ax=ax, palette=palette);\n",
        "    ax.set_title(f'quartet {quartet}')\n",
        "plt.suptitle(\"Quartets' boxplots\");"
      ]
    },
    {
      "cell_type": "markdown",
      "id": "e3dd0ea6",
      "metadata": {
        "id": "e3dd0ea6"
      },
      "source": [
        "Using seaborn boxplots to compare quartes's shared features\n",
        "\n",
        "- [seaborn.boxplot()](https://seaborn.pydata.org/generated/seaborn.boxplot.html)\n",
        "- [pandas.melt()](https://pandas.pydata.org/docs/reference/api/pandas.melt.html)"
      ]
    },
    {
      "cell_type": "code",
      "execution_count": null,
      "id": "e6872b9f",
      "metadata": {
        "id": "e6872b9f"
      },
      "outputs": [],
      "source": [
        "fig, ax = plt.subplots(1, 1, figsize=(16,4))\n",
        "sns.boxplot(x='x', y='value', hue='quartet',\n",
        "            data=pd.melt(quartets, id_vars='quartet', var_name='x', value_name='value'),\n",
        "            ax=ax, palette=palette)\n",
        "ax.set_title(\"quartets' features\");"
      ]
    },
    {
      "cell_type": "code",
      "execution_count": null,
      "id": "61f127ee",
      "metadata": {
        "id": "61f127ee"
      },
      "outputs": [],
      "source": [
        "pd.melt(quartets, id_vars='quartet', var_name='x', value_name='value')"
      ]
    },
    {
      "cell_type": "markdown",
      "id": "f80e8df2",
      "metadata": {
        "id": "f80e8df2"
      },
      "source": [
        "The problem with the plot above is that we are forcing different features (like `x` and `y`) to share the same y-axis.\n",
        "\n",
        "So, another way to acomplish the goal could be this one"
      ]
    },
    {
      "cell_type": "code",
      "execution_count": null,
      "id": "7055f601",
      "metadata": {
        "id": "7055f601"
      },
      "outputs": [],
      "source": [
        "fig, axes = plt.subplots(1, 2, figsize=(16,4))\n",
        "for i, col in enumerate(['x', 'y']):\n",
        "    sns.boxplot(x='quartet', y=col, data=quartets, ax=axes[i], palette=palette);\n",
        "    axes[i].set_title(f'variable {col}')"
      ]
    },
    {
      "cell_type": "markdown",
      "id": "ffc1e9d3",
      "metadata": {
        "id": "ffc1e9d3"
      },
      "source": [
        "### Histograms\n",
        "\n",
        "Histograms provide a visual representation of the distribution of a continuous variable. The data is divided into bins, and the height of each bar represents the frequency or count of observations within that bin."
      ]
    },
    {
      "cell_type": "markdown",
      "id": "33ace789",
      "metadata": {
        "id": "33ace789"
      },
      "source": [
        "Pandas let us easily plot the individual quartet's feature histogram in one line of code."
      ]
    },
    {
      "cell_type": "code",
      "execution_count": null,
      "id": "94c21c48",
      "metadata": {
        "id": "94c21c48"
      },
      "outputs": [],
      "source": [
        "quartets.groupby('quartet').hist();"
      ]
    },
    {
      "cell_type": "markdown",
      "id": "4732905b",
      "metadata": {
        "id": "4732905b"
      },
      "source": [
        "The histograms allows us to start to see some differences"
      ]
    },
    {
      "cell_type": "markdown",
      "id": "9ab0efc3",
      "metadata": {
        "id": "9ab0efc3"
      },
      "source": [
        "**Seaborn's histograms**\n",
        "\n",
        "[seaborn.histplot()](https://seaborn.pydata.org/generated/seaborn.histplot.html)\n",
        "\n",
        "We could do the same with seaborn with this code"
      ]
    },
    {
      "cell_type": "code",
      "execution_count": null,
      "id": "f8605398",
      "metadata": {
        "id": "f8605398"
      },
      "outputs": [],
      "source": [
        "for quartet, g in quartets.groupby('quartet'):\n",
        "    fig, axes = plt.subplots(1 , 2, figsize=(8, 2.5))\n",
        "    sns.histplot(data=g, x=\"x\", hue='quartet', ax=axes[0], palette=palette, bins=10, kde=True);\n",
        "    sns.histplot(data=g, x=\"y\", hue='quartet', ax=axes[1], palette=palette, bins=10, kde=True);\n",
        "    plt.suptitle(f'Quartet {quartet}')"
      ]
    },
    {
      "cell_type": "markdown",
      "id": "950316b1",
      "metadata": {
        "id": "950316b1"
      },
      "source": [
        "We can plot all quartets's two features `x` and `y` in two different plots moving out the subplots creation"
      ]
    },
    {
      "cell_type": "code",
      "execution_count": null,
      "id": "d4e25ed8",
      "metadata": {
        "id": "d4e25ed8"
      },
      "outputs": [],
      "source": [
        "# The 'element' parameter defines the visual representation of the histogram statistic\n",
        "# Possible values are 'bars' (default but too noisy when plotting so many features), 'step', 'poly'\n",
        "element = 'step'\n",
        "fig, axes = plt.subplots(1 , 2, figsize=(12, 5))\n",
        "legends = []\n",
        "for quartet, g in quartets.groupby('quartet'):\n",
        "    legends.append(f'quartet {quartet}')\n",
        "    sns.histplot(data=g, x=\"x\", hue='quartet', ax=axes[0], palette=palette, bins=10, kde=False, alpha=.2, element=element);\n",
        "    sns.histplot(data=g, x=\"y\", hue='quartet', ax=axes[1], palette=palette, bins=10, kde=False, alpha=.2, element=element);\n",
        "\n",
        "axes[0].legend(legends)\n",
        "axes[1].legend(legends);"
      ]
    },
    {
      "cell_type": "markdown",
      "id": "50c888b6",
      "metadata": {
        "id": "50c888b6"
      },
      "source": [
        "### FacetGrid\n",
        "\n",
        "This is a powerful tool that can be used in combination with plotting methods from seaborn or even matplotlib to plot multiple subplots based on some conditional relationship. **A Facet Grid allows you to create a grid of subplots based on the values of one or more categorical variables**. Each subplot in the grid represents a subset of the data based on the values of these variables. This makes it easy to compare different subsets of the data and identify patterns or trends.\n",
        "\n",
        "[`seaborn.FacetGrid()`](https://seaborn.pydata.org/generated/seaborn.FacetGrid.html): Multi-plot grid for plotting conditional relationships.\n",
        "\n",
        "**Grid of histograms**"
      ]
    },
    {
      "cell_type": "code",
      "execution_count": null,
      "id": "d560b660",
      "metadata": {
        "id": "d560b660"
      },
      "outputs": [],
      "source": [
        "for feature in ['x', 'y']:\n",
        "    # create the grid with condition quartet\n",
        "    g = sns.FacetGrid(quartets, col=\"quartet\", palette=palette, col_wrap=4)\n",
        "    # for every condition we are going to create a subplot for the grid for column \"feature\"\n",
        "    g.map(sns.histplot, feature, bins=10);\n",
        "\n",
        "# col_wrap define the number of columns. Change the value to 3 and 2 to understand visually its behaviour"
      ]
    },
    {
      "cell_type": "markdown",
      "id": "22c2e3ce",
      "metadata": {
        "id": "22c2e3ce"
      },
      "source": [
        "We can create one FacetGrid for all. For that we need to convert the dataframe to access values based on conditions."
      ]
    },
    {
      "cell_type": "code",
      "execution_count": null,
      "id": "c960d283",
      "metadata": {
        "id": "c960d283"
      },
      "outputs": [],
      "source": [
        "melted = pd.melt(quartets, id_vars='quartet', var_name='variable', value_name='value')\n",
        "melted"
      ]
    },
    {
      "cell_type": "code",
      "execution_count": null,
      "id": "f3e7b6ec",
      "metadata": {
        "id": "f3e7b6ec"
      },
      "outputs": [],
      "source": [
        "# create the grid with quartets as columns and variable as rows\n",
        "g = sns.FacetGrid(melted, row=\"variable\", col='quartet', palette=palette, sharex=False)\n",
        "g.map(sns.histplot, 'value', bins=10);\n",
        "# we need set sharex to False to avoid distorting shapes between rows (you can try changing it to True)"
      ]
    },
    {
      "cell_type": "markdown",
      "id": "edfa3c67",
      "metadata": {
        "id": "edfa3c67"
      },
      "source": [
        "### Scatter plots\n",
        "Knowing that we have `x` and `y` features, we can think about using other kind of helpful plots. Why not a scatter plot?"
      ]
    },
    {
      "cell_type": "code",
      "execution_count": null,
      "id": "d150621a",
      "metadata": {
        "id": "d150621a"
      },
      "outputs": [],
      "source": [
        "quartets.groupby('quartet').plot.scatter(x='x', y='y', s=50);"
      ]
    },
    {
      "cell_type": "markdown",
      "id": "fb10ae5b",
      "metadata": {
        "id": "fb10ae5b"
      },
      "source": [
        "**Scatter plots with seaborn**\n",
        "\n",
        "We can combine matplotlib with seaborn to improve the aesthetic."
      ]
    },
    {
      "cell_type": "code",
      "execution_count": null,
      "id": "d43d4ab9",
      "metadata": {
        "id": "d43d4ab9"
      },
      "outputs": [],
      "source": [
        "fig, axes = plt.subplots(2,2,figsize=(7,7))\n",
        "axes = axes.flatten().tolist()\n",
        "for quartet, g in quartets.groupby('quartet'):\n",
        "    ax = axes.pop(0)\n",
        "    sns.scatterplot(data=g, x='x', y='y', ax=ax)\n",
        "    ax.set_title(f'quartet {quartet}')\n",
        "plt.subplots_adjust(hspace=0.3);"
      ]
    },
    {
      "cell_type": "markdown",
      "id": "309dfcef",
      "metadata": {
        "id": "309dfcef"
      },
      "source": [
        "**Scatter plots with FacetGrid**\n",
        "\n",
        "FacetGrid is great to avoid writting too many lines of matplotlib code. In this case we can force the grid to share x and y domain to simplify features domains comparison."
      ]
    },
    {
      "cell_type": "code",
      "execution_count": null,
      "id": "f794517a",
      "metadata": {
        "id": "f794517a"
      },
      "outputs": [],
      "source": [
        "g = sns.FacetGrid(quartets, col='quartet', palette=palette, col_wrap=2, sharex=True, sharey=True)\n",
        "g.map(sns.scatterplot, 'x', 'y');"
      ]
    },
    {
      "cell_type": "markdown",
      "id": "7214df02",
      "metadata": {
        "id": "7214df02"
      },
      "source": [
        "### Line plots\n",
        "We could also use a lineplot but to do that we need to know that dots should be ordered in the x axis."
      ]
    },
    {
      "cell_type": "code",
      "execution_count": null,
      "id": "42b64a80",
      "metadata": {
        "id": "42b64a80"
      },
      "outputs": [],
      "source": [
        "quartets.sort_values(by='x').groupby('quartet').plot(x='x', y='y', marker='o', lw=.7);"
      ]
    },
    {
      "cell_type": "markdown",
      "id": "5f6e1982",
      "metadata": {
        "id": "5f6e1982"
      },
      "source": [
        "### All in one\n",
        "We also can use matplotlib to plot all groups in the same plot"
      ]
    },
    {
      "cell_type": "code",
      "execution_count": null,
      "id": "b8dd7faf",
      "metadata": {
        "id": "b8dd7faf"
      },
      "outputs": [],
      "source": [
        "# create one figure of 1 x 1 size.\n",
        "fig, ax = plt.subplots(1,1,figsize=(16,6))\n",
        "# plot all 4 quartets in the same ax\n",
        "quartets.sort_values(by='x').groupby('quartet').plot(x='x', y='y', marker='o', ms=10, lw=.7, alpha=.7, ax=ax)\n",
        "plt.ylabel('y')\n",
        "plt.title('All in one quartets');"
      ]
    },
    {
      "cell_type": "markdown",
      "id": "8c4ed14e",
      "metadata": {
        "id": "8c4ed14e"
      },
      "source": [
        "### Lineplots with seaborn\n",
        "\n",
        "[Seaborn.lineplot()](https://seaborn.pydata.org/generated/seaborn.lineplot.html) simplifies the creation of the same plot."
      ]
    },
    {
      "cell_type": "code",
      "execution_count": null,
      "id": "c0d80bd8",
      "metadata": {
        "id": "c0d80bd8"
      },
      "outputs": [],
      "source": [
        "fig, ax = plt.subplots(1,1,figsize=(16,6))\n",
        "sns.lineplot(data=quartets, x='x', y='y', hue='quartet', marker='o', ms=10, lw=.7, alpha=.7, ax=ax)\n",
        "plt.title('All in one quartets');"
      ]
    },
    {
      "cell_type": "markdown",
      "id": "c58ca7f5",
      "metadata": {
        "id": "c58ca7f5"
      },
      "source": [
        "And we can plot all quartets together (removing the conditional `hue` for seaborn)"
      ]
    },
    {
      "cell_type": "code",
      "execution_count": null,
      "id": "9f2fb152",
      "metadata": {
        "id": "9f2fb152"
      },
      "outputs": [],
      "source": [
        "fig, axes = plt.subplots(1,2,figsize=(16,4))\n",
        "sns.lineplot(data=quartets, x='x', y='y', lw=.7, ax=axes[0])\n",
        "axes[0].set_title('one line of seaborn')\n",
        "quartets.plot(x='x', y='y', lw=.7, ax=axes[1])\n",
        "axes[1].set_title('one line of matplotlib');"
      ]
    },
    {
      "cell_type": "markdown",
      "id": "5be35c10",
      "metadata": {
        "id": "5be35c10"
      },
      "source": [
        "#### 🗒 Exercise\n",
        "\n",
        "Seaborn is built on matplotlib, so modifying the function parameters should let you arrive to the same plot. Modify the parameters of the lineplot() Seaborn function such that the two plots are visually similar."
      ]
    },
    {
      "cell_type": "markdown",
      "id": "7418a8b5",
      "metadata": {
        "id": "7418a8b5"
      },
      "source": [
        "## Let´s use a different dataset\n",
        "\n",
        "We now load another dataset that consists of the marks secured by the students in various subjects. The aim is to understand the influence of the parents background, test preparation, etc. on students performance.\n",
        "\n",
        "Source: https://www.kaggle.com/spscientist/students-performance-in-exams  \n",
        "Original source generator: http://roycekimmons.com/tools/generated_data/exams\n",
        "\n",
        "If you go to the original source you will find this is a fictitious dataset created specifically for data science training purposes."
      ]
    },
    {
      "cell_type": "code",
      "execution_count": null,
      "id": "cbb0a5b2",
      "metadata": {
        "id": "cbb0a5b2"
      },
      "outputs": [],
      "source": [
        "df = pd.read_csv('data/StudentsPerformance.csv').rename(\n",
        "        columns={\n",
        "            'race/ethnicity': 'group',\n",
        "            'parental level of education': 'parental',\n",
        "            'test preparation course': 'course',\n",
        "            'math score': 'math',\n",
        "            'reading score': 'reading',\n",
        "            'writing score': 'writing'\n",
        "        }\n",
        "    )"
      ]
    },
    {
      "cell_type": "code",
      "execution_count": null,
      "id": "f3976c55",
      "metadata": {
        "id": "f3976c55"
      },
      "outputs": [],
      "source": [
        "df.info()"
      ]
    },
    {
      "cell_type": "code",
      "execution_count": null,
      "id": "bd453005",
      "metadata": {
        "id": "bd453005"
      },
      "outputs": [],
      "source": [
        "df.head()"
      ]
    },
    {
      "cell_type": "code",
      "execution_count": null,
      "id": "01bea5c6",
      "metadata": {
        "id": "01bea5c6"
      },
      "outputs": [],
      "source": [
        "df['group'].unique().tolist()"
      ]
    },
    {
      "cell_type": "markdown",
      "id": "97db89cc",
      "metadata": {
        "id": "97db89cc"
      },
      "source": [
        "### Let's simplify the dataframe\n",
        "\n",
        "We can simplify the group values to the group letter\n",
        "\n",
        "**Series.str**\n",
        "\n",
        "[`Series.str`](https://pandas.pydata.org/docs/reference/api/pandas.Series.str.html): Vectorized string functions for Series and Index."
      ]
    },
    {
      "cell_type": "code",
      "execution_count": null,
      "id": "59d91dd0",
      "metadata": {
        "id": "59d91dd0"
      },
      "outputs": [],
      "source": [
        "df['group'] = df['group'].str[-1]\n",
        "df['group'].unique().tolist()"
      ]
    },
    {
      "cell_type": "code",
      "execution_count": null,
      "id": "a00b7460",
      "metadata": {
        "id": "a00b7460"
      },
      "outputs": [],
      "source": [
        "df.head()"
      ]
    },
    {
      "cell_type": "code",
      "execution_count": null,
      "id": "d3a962ac",
      "metadata": {
        "id": "d3a962ac"
      },
      "outputs": [],
      "source": [
        "df['course'].unique()"
      ]
    },
    {
      "cell_type": "markdown",
      "id": "aebc97ce",
      "metadata": {
        "id": "aebc97ce"
      },
      "source": [
        "**Series.apply**\n",
        "\n",
        "[`Series.apply`](https://pandas.pydata.org/docs/reference/api/pandas.Series.apply.html): Invoke function on values of Series.\n",
        "\n",
        "```python\n",
        "Series.apply(func, convert_dtype=True, args=(), **kwargs)\n",
        "```"
      ]
    },
    {
      "cell_type": "code",
      "execution_count": null,
      "id": "edf7fa5c",
      "metadata": {
        "id": "edf7fa5c"
      },
      "outputs": [],
      "source": [
        "# we verify that we have never change this column values yet\n",
        "if 'completed' in df['course'].unique().tolist():\n",
        "    df['course'] = df['course'].apply(lambda x: 1 if x == 'completed' else 0)\n",
        "\n",
        "# we can change the column values type to boolean\n",
        "df['course'] = df['course'].astype(bool)\n",
        "df['course'].unique()"
      ]
    },
    {
      "cell_type": "code",
      "execution_count": null,
      "id": "836f4e15",
      "metadata": {
        "id": "836f4e15"
      },
      "outputs": [],
      "source": [
        "df.head()"
      ]
    },
    {
      "cell_type": "markdown",
      "id": "a7b2dd8b",
      "metadata": {
        "id": "a7b2dd8b"
      },
      "source": [
        "Are there missing values?"
      ]
    },
    {
      "cell_type": "code",
      "execution_count": null,
      "id": "1f3ef50b",
      "metadata": {
        "id": "1f3ef50b"
      },
      "outputs": [],
      "source": [
        "df.isna().sum()"
      ]
    },
    {
      "cell_type": "markdown",
      "id": "219ff437",
      "metadata": {
        "id": "219ff437"
      },
      "source": [
        "None of the column series present missing values"
      ]
    },
    {
      "cell_type": "markdown",
      "id": "cbca814b",
      "metadata": {
        "id": "cbca814b"
      },
      "source": [
        "**Some questions:**\n",
        "- Does gender affect math scores?\n",
        "- Does reading and writing scores affect math scores?\n",
        "- Do math scores affect reading and writing scores?\n",
        "- Does a group perform better at math than the rest?\n",
        "- Does parental level education affect math scores?"
      ]
    },
    {
      "cell_type": "code",
      "execution_count": null,
      "id": "399ae87c",
      "metadata": {
        "id": "399ae87c"
      },
      "outputs": [],
      "source": [
        "df[['reading','math']].sample(5)"
      ]
    },
    {
      "cell_type": "code",
      "execution_count": null,
      "id": "f8e8ff57",
      "metadata": {
        "id": "f8e8ff57"
      },
      "outputs": [],
      "source": [
        "df[['reading','math']].describe()"
      ]
    },
    {
      "cell_type": "markdown",
      "id": "c124f231",
      "metadata": {
        "id": "c124f231"
      },
      "source": [
        "It's not common at all to see a zero on scores. Here we see a 0 found at math"
      ]
    },
    {
      "cell_type": "code",
      "execution_count": null,
      "id": "de6d1f1b",
      "metadata": {
        "id": "de6d1f1b"
      },
      "outputs": [],
      "source": [
        "df[df['math'] == 0]"
      ]
    },
    {
      "cell_type": "markdown",
      "id": "91a5cb17",
      "metadata": {
        "id": "91a5cb17"
      },
      "source": [
        "Does this sample look possible? Why?"
      ]
    },
    {
      "cell_type": "markdown",
      "id": "b3dfe71e",
      "metadata": {
        "id": "b3dfe71e"
      },
      "source": [
        "#### Histograms for our selected variables"
      ]
    },
    {
      "cell_type": "code",
      "execution_count": null,
      "id": "efbb449e",
      "metadata": {
        "id": "efbb449e"
      },
      "outputs": [],
      "source": [
        "df[['reading', 'math']].hist(bins=50, grid=False);"
      ]
    },
    {
      "cell_type": "markdown",
      "id": "5b4906a7",
      "metadata": {
        "id": "5b4906a7"
      },
      "source": [
        "#### Histograms for our selected variables (seaborn)\n",
        "\n",
        "[seaborn.histplot()](https://seaborn.pydata.org/generated/seaborn.histplot.html)"
      ]
    },
    {
      "cell_type": "markdown",
      "id": "27eee349",
      "metadata": {
        "id": "27eee349"
      },
      "source": [
        "We can plot histogram in different plots using matplotlib subplots"
      ]
    },
    {
      "cell_type": "code",
      "execution_count": null,
      "id": "4f26c12b",
      "metadata": {
        "id": "4f26c12b"
      },
      "outputs": [],
      "source": [
        "plt.figure(figsize=(12,4))\n",
        "sns.histplot(df[['reading']], bins=50, ax=plt.subplot(121), palette=palette)\n",
        "sns.histplot(df[['math']], bins=50, ax=plt.subplot(122), palette=palette);"
      ]
    },
    {
      "cell_type": "markdown",
      "id": "17550423",
      "metadata": {
        "id": "17550423"
      },
      "source": [
        "But knowing that by default sns.histplot merges all features into the same plot, it could be simpler"
      ]
    },
    {
      "cell_type": "code",
      "execution_count": null,
      "id": "b52c2436",
      "metadata": {
        "id": "b52c2436"
      },
      "outputs": [],
      "source": [
        "sns.histplot(df[['reading', 'math']], bins=50, palette=palette);"
      ]
    },
    {
      "cell_type": "markdown",
      "id": "7d1a725c",
      "metadata": {
        "id": "7d1a725c"
      },
      "source": [
        "### Kernel Density Estimate\n",
        "A Kernel Density Estimate (KDE) plot is a non-parametric way to estimate the probability density function of a continuous random variable. It provides a smooth, continuous representation of the underlying distribution of data, similar to a histogram but without discretizing the data into bins."
      ]
    },
    {
      "cell_type": "code",
      "execution_count": null,
      "id": "89952ae9",
      "metadata": {
        "id": "89952ae9"
      },
      "outputs": [],
      "source": [
        "df[['reading', 'math']].plot.kde()\n",
        "plt.title('KDEs');"
      ]
    },
    {
      "cell_type": "markdown",
      "id": "aa0c3776",
      "metadata": {
        "id": "aa0c3776"
      },
      "source": [
        "Seaborn comes with the method [`seaborn.kdeplot()`](https://seaborn.pydata.org/generated/seaborn.kdeplot.html) to create Kernel Density Plots but we can just set the histplot params kde to True to combine them."
      ]
    },
    {
      "cell_type": "code",
      "execution_count": null,
      "id": "959570d9",
      "metadata": {
        "id": "959570d9"
      },
      "outputs": [],
      "source": [
        "sns.histplot(df[['reading', 'math']], bins=50, kde=True, palette=palette);"
      ]
    },
    {
      "cell_type": "markdown",
      "id": "ee2a1221",
      "metadata": {
        "id": "ee2a1221"
      },
      "source": [
        "### BoxPlot"
      ]
    },
    {
      "cell_type": "code",
      "execution_count": null,
      "id": "2eb414c4",
      "metadata": {
        "id": "2eb414c4"
      },
      "outputs": [],
      "source": [
        "df[['reading', 'math']].boxplot();"
      ]
    },
    {
      "cell_type": "markdown",
      "id": "2763aa8b",
      "metadata": {
        "id": "2763aa8b"
      },
      "source": [
        "At first glance distributions looks similar as one could expect. Math scores distribution looks a bit shifted down."
      ]
    },
    {
      "cell_type": "markdown",
      "id": "5621330d",
      "metadata": {
        "id": "5621330d"
      },
      "source": [
        "**Boxplots with seaborn**\n",
        "\n",
        "[`seanborn.boxplot()`](https://seaborn.pydata.org/generated/seaborn.boxplot.html)"
      ]
    },
    {
      "cell_type": "code",
      "execution_count": null,
      "id": "222783c9",
      "metadata": {
        "id": "222783c9"
      },
      "outputs": [],
      "source": [
        "sns.boxplot(data=df[['reading', 'math']], palette=palette);"
      ]
    },
    {
      "cell_type": "markdown",
      "id": "7ad01dab",
      "metadata": {
        "id": "7ad01dab"
      },
      "source": [
        "#### Boxplot on the whole dataframe"
      ]
    },
    {
      "cell_type": "code",
      "execution_count": null,
      "id": "05f78dfb",
      "metadata": {
        "id": "05f78dfb"
      },
      "outputs": [],
      "source": [
        "df.boxplot();"
      ]
    },
    {
      "cell_type": "markdown",
      "id": "306033d4",
      "metadata": {
        "id": "306033d4"
      },
      "source": [
        "### Boxenplots or Letter values\n",
        "\n",
        "A boxenplot, also known as a letter-value plot, is a variation of a box plot that provides additional information about the shape of the distribution, particularly in the tails. It is similar to a box plot but with more quantiles, resulting in a more detailed representation of the data distribution.\n",
        "\n",
        "[`seaborn.boxenplot()`](https://seaborn.pydata.org/generated/seaborn.boxenplot.html)"
      ]
    },
    {
      "cell_type": "code",
      "execution_count": null,
      "id": "a56840d1",
      "metadata": {
        "id": "a56840d1"
      },
      "outputs": [],
      "source": [
        "sns.boxenplot(data=df[['reading', 'math']], palette=palette);"
      ]
    },
    {
      "cell_type": "markdown",
      "id": "e2f0d1ef",
      "metadata": {
        "id": "e2f0d1ef"
      },
      "source": [
        "### Violinplots\n",
        "A violin plot is a type of data visualization that combines aspects of a box plot and a kernel density plot. It is used to visualize the distribution of a continuous variable or numerical data across different categories or groups.\n",
        "\n",
        "[`seaborn.violinplot()`](https://seaborn.pydata.org/generated/seaborn.violinplot.html)"
      ]
    },
    {
      "cell_type": "code",
      "execution_count": null,
      "id": "d4664cf0",
      "metadata": {
        "id": "d4664cf0"
      },
      "outputs": [],
      "source": [
        "sns.violinplot(data=df[['reading', 'math']], palette=palette);"
      ]
    },
    {
      "cell_type": "markdown",
      "id": "74f88517",
      "metadata": {
        "id": "74f88517"
      },
      "source": [
        "\n",
        "\n",
        "What about the relation between the scores? Do they interact?\n",
        "#### Scatter to the rescue"
      ]
    },
    {
      "cell_type": "code",
      "execution_count": null,
      "id": "082330d0",
      "metadata": {
        "id": "082330d0"
      },
      "outputs": [],
      "source": [
        "df.plot.scatter(x='reading', y='math', s=10, alpha=.5, figsize=(6,5))\n",
        "plt.title('reading vs math');"
      ]
    },
    {
      "cell_type": "markdown",
      "id": "741f8a34",
      "metadata": {
        "id": "741f8a34"
      },
      "source": [
        "There is visual correlation between these variables.\n",
        "\n",
        "### Correlation\n",
        "Pandas has implemented a method named `corr()`.\n",
        "\n",
        "`DataFrame.corr()`: Compute pairwise correlation of columns, excluding NA/null values.\n",
        "```python\n",
        "DataFrame.corr(method='pearson', min_periods=1)\n",
        "```\n"
      ]
    },
    {
      "cell_type": "code",
      "execution_count": null,
      "id": "27ad617b",
      "metadata": {
        "id": "27ad617b"
      },
      "outputs": [],
      "source": [
        "df[['reading', 'math']].corr()"
      ]
    },
    {
      "cell_type": "markdown",
      "id": "41e8f6ef",
      "metadata": {
        "id": "41e8f6ef"
      },
      "source": [
        "Pandas corr() offers different correlation methods. In most cases `pearson` or/and `spearman` are the methods to go."
      ]
    },
    {
      "cell_type": "code",
      "execution_count": null,
      "id": "d407a929",
      "metadata": {
        "id": "d407a929"
      },
      "outputs": [],
      "source": [
        "for method in ['pearson', 'kendall', 'spearman']:\n",
        "    # iloc is used to access value at first row second column.\n",
        "    corr = df[['reading', 'math']].corr(method=method).iloc[0,1]\n",
        "    print(f'{method} correlation: {corr:.3f}')"
      ]
    },
    {
      "cell_type": "markdown",
      "id": "57335158",
      "metadata": {
        "id": "57335158"
      },
      "source": [
        "We've confirmed there is a strong (linear) correlation between reading and math scores. Each variable could work as a proxy of the other variable."
      ]
    },
    {
      "cell_type": "markdown",
      "id": "db810490",
      "metadata": {
        "id": "db810490"
      },
      "source": [
        "#### Correlation between all variables"
      ]
    },
    {
      "cell_type": "code",
      "execution_count": null,
      "id": "bc1f2616",
      "metadata": {
        "id": "bc1f2616"
      },
      "outputs": [],
      "source": [
        "df.corr(numeric_only=True)"
      ]
    },
    {
      "cell_type": "markdown",
      "id": "0b277f14",
      "metadata": {
        "id": "0b277f14"
      },
      "source": [
        "Reading and writing have a really strong correlation."
      ]
    },
    {
      "cell_type": "markdown",
      "id": "070ef661",
      "metadata": {
        "id": "070ef661"
      },
      "source": [
        "**Of course one could use plots**"
      ]
    },
    {
      "cell_type": "code",
      "execution_count": null,
      "id": "cb15e91e",
      "metadata": {
        "id": "cb15e91e"
      },
      "outputs": [],
      "source": [
        "cols = ['math', 'reading', 'writing']\n",
        "for i, c1 in enumerate(cols):\n",
        "    c2 = cols[i+1] if i < len(cols)-1 else cols[0]\n",
        "    df.plot.scatter(x=c1, y=c2, s=10, alpha=.5)\n",
        "    plt.title(f'{c1} vs {c2}')"
      ]
    },
    {
      "cell_type": "markdown",
      "id": "aa0a7974",
      "metadata": {
        "id": "aa0a7974"
      },
      "source": [
        "**Scatter plots with seaborn**\n",
        "\n",
        "Seaborn comes with [`seaborn.scatterplot()`](https://seaborn.pydata.org/generated/seaborn.scatterplot.html)."
      ]
    },
    {
      "cell_type": "code",
      "execution_count": null,
      "id": "ea60f996",
      "metadata": {
        "id": "ea60f996"
      },
      "outputs": [],
      "source": [
        "sns.pairplot(df.select_dtypes('number'));"
      ]
    },
    {
      "cell_type": "markdown",
      "id": "2b0f8b91",
      "metadata": {
        "id": "2b0f8b91"
      },
      "source": [
        "### Pie plot"
      ]
    },
    {
      "cell_type": "code",
      "execution_count": null,
      "id": "ec6ec5ea",
      "metadata": {
        "id": "ec6ec5ea"
      },
      "outputs": [],
      "source": [
        "df['gender'].value_counts(normalize=True).plot.pie(figsize=(6,6));"
      ]
    },
    {
      "cell_type": "markdown",
      "id": "716c8fbb",
      "metadata": {
        "id": "716c8fbb"
      },
      "source": [
        "Seaborn doesn't come with a method to plot pie plots"
      ]
    },
    {
      "cell_type": "markdown",
      "id": "81e9f18e",
      "metadata": {
        "id": "81e9f18e"
      },
      "source": [
        "### Heatmap\n",
        "\n",
        "[`seaborn.heatmap()`](https://seaborn.pydata.org/generated/seaborn.heatmap.html): Plot rectangular data as a color-encoded matrix.\n",
        "\n",
        "Heatmap is a great tool for plotting features' correlations\n"
      ]
    },
    {
      "cell_type": "code",
      "execution_count": null,
      "id": "8552a0da",
      "metadata": {
        "id": "8552a0da"
      },
      "outputs": [],
      "source": [
        "fig, ax = plt.subplots(1, 1, figsize=(8,6))\n",
        "sns.heatmap(df.corr(numeric_only=True), annot=True, fmt='.2f', cmap='Blues', ax=ax);"
      ]
    },
    {
      "cell_type": "markdown",
      "id": "6eff0259",
      "metadata": {
        "id": "6eff0259"
      },
      "source": [
        "### We now want to compare the scores of the various skills by gender"
      ]
    },
    {
      "cell_type": "code",
      "execution_count": null,
      "id": "eb313ea4",
      "metadata": {
        "id": "eb313ea4"
      },
      "outputs": [],
      "source": [
        "df.head()"
      ]
    },
    {
      "cell_type": "code",
      "execution_count": null,
      "id": "293e4275",
      "metadata": {
        "id": "293e4275"
      },
      "outputs": [],
      "source": [
        "df.groupby('gender').mean(numeric_only=True)"
      ]
    },
    {
      "cell_type": "code",
      "execution_count": null,
      "id": "1a76e15d",
      "metadata": {
        "id": "1a76e15d"
      },
      "outputs": [],
      "source": [
        "df.groupby('gender').boxplot();"
      ]
    },
    {
      "cell_type": "markdown",
      "id": "8e8cb2c8",
      "metadata": {
        "id": "8e8cb2c8"
      },
      "source": [
        "pandas.melt() is a powerful method to unpivot a dataframe. We are going to use it to simplify use of some seaborn plots."
      ]
    },
    {
      "cell_type": "code",
      "execution_count": null,
      "id": "7c9636bc",
      "metadata": {
        "id": "7c9636bc"
      },
      "outputs": [],
      "source": [
        "score_cols = df.select_dtypes('number').columns.tolist()\n",
        "id_vars = [c for c in df.columns if c not in score_cols]\n",
        "score_cols, id_vars\n",
        "melted = pd.melt(df, id_vars=id_vars, var_name='skill', value_name='score')\n",
        "melted.head()"
      ]
    },
    {
      "cell_type": "markdown",
      "id": "ec960db6",
      "metadata": {
        "id": "ec960db6"
      },
      "source": [
        "When you make things easier to read for seaborn, seaborn will make the plots easier to read for you."
      ]
    },
    {
      "cell_type": "code",
      "execution_count": null,
      "id": "39c271bc",
      "metadata": {
        "id": "39c271bc"
      },
      "outputs": [],
      "source": [
        "for func in [sns.boxplot, sns.boxenplot, sns.violinplot]:\n",
        "    g = sns.FacetGrid(melted, col=\"skill\")\n",
        "    g.map(func, 'score', 'gender', order=None, palette=palette);"
      ]
    },
    {
      "cell_type": "code",
      "execution_count": null,
      "id": "06fa45fb",
      "metadata": {
        "id": "06fa45fb"
      },
      "outputs": [],
      "source": [
        "sns.pairplot(df, palette=palette, hue='gender');"
      ]
    },
    {
      "cell_type": "code",
      "execution_count": null,
      "id": "394870a5",
      "metadata": {
        "id": "394870a5"
      },
      "outputs": [],
      "source": [
        "df.groupby('gender').plot.kde();"
      ]
    },
    {
      "cell_type": "code",
      "execution_count": null,
      "id": "4cb3a18d",
      "metadata": {
        "id": "4cb3a18d"
      },
      "outputs": [],
      "source": [
        "df['is_female'] = df['gender'].apply(lambda x: 1 if x == 'female' else 0)\n",
        "df['is_female'] = df['is_female'].astype(float)\n",
        "\n",
        "df['is_male'] = df['gender'].apply(lambda x: 1 if x == 'male' else 0)\n",
        "df['is_male'] = df['is_male'].astype(float)\n",
        "\n",
        "df.head()"
      ]
    },
    {
      "cell_type": "markdown",
      "id": "2175acb0",
      "metadata": {
        "id": "2175acb0"
      },
      "source": [
        "Instead of looking at correlation between all variables we want to see how this new variables `is_female` correlates with the scores. Pandas gives us the method `DataFrame.corrwith()` for this kind of cases."
      ]
    },
    {
      "cell_type": "code",
      "execution_count": null,
      "id": "215e2d24",
      "metadata": {
        "id": "215e2d24"
      },
      "outputs": [],
      "source": [
        "df[['math', 'reading', 'writing']].corrwith(df['is_female'])"
      ]
    },
    {
      "cell_type": "code",
      "execution_count": null,
      "id": "624090e6",
      "metadata": {
        "id": "624090e6"
      },
      "outputs": [],
      "source": [
        "df[['math', 'reading', 'writing']].corrwith(df['is_male'])"
      ]
    },
    {
      "cell_type": "markdown",
      "id": "34f0e466",
      "metadata": {
        "id": "34f0e466"
      },
      "source": [
        "### Who will approve?"
      ]
    },
    {
      "cell_type": "code",
      "execution_count": null,
      "id": "108ea6c5",
      "metadata": {
        "id": "108ea6c5"
      },
      "outputs": [],
      "source": [
        "approval_threshold = 40"
      ]
    },
    {
      "cell_type": "code",
      "execution_count": null,
      "id": "40060b19",
      "metadata": {
        "id": "40060b19"
      },
      "outputs": [],
      "source": [
        "df['approved'] = df['math'] >= approval_threshold\n",
        "df['approved'] = df['approved'].astype(int)\n",
        "df.head()"
      ]
    },
    {
      "cell_type": "code",
      "execution_count": null,
      "id": "4db26a3a",
      "metadata": {
        "id": "4db26a3a"
      },
      "outputs": [],
      "source": [
        "df['approved'].value_counts(normalize=True).plot.bar();"
      ]
    },
    {
      "cell_type": "markdown",
      "id": "728157f8",
      "metadata": {
        "id": "728157f8"
      },
      "source": [
        "Seaborn has a method for plotting counts of feature's values."
      ]
    },
    {
      "cell_type": "code",
      "execution_count": null,
      "id": "3e289b78",
      "metadata": {
        "id": "3e289b78"
      },
      "outputs": [],
      "source": [
        "sns.countplot(data=df, x='group', palette=palette);"
      ]
    },
    {
      "cell_type": "markdown",
      "id": "2856c25a",
      "metadata": {
        "id": "2856c25a"
      },
      "source": [
        "The problem is that the countplot method doesn't *count* with a normalize parameter. So trying to plot a normalized version is not as simple as when using pandas (```Series.value_counts(normalize=True).plot.bar()```)"
      ]
    },
    {
      "cell_type": "code",
      "execution_count": null,
      "id": "28295606",
      "metadata": {
        "id": "28295606"
      },
      "outputs": [],
      "source": [
        "df['approved'].value_counts(normalize=True).to_frame()"
      ]
    },
    {
      "cell_type": "code",
      "execution_count": null,
      "id": "7b39cbb8",
      "metadata": {
        "id": "7b39cbb8"
      },
      "outputs": [],
      "source": [
        "sns.barplot(data=((df['approved'].value_counts(normalize=True)*100).to_frame()\n",
        "                     .reset_index().rename(columns={'approved': '%', 'index': 'approved'})),\n",
        "            x='%',\n",
        "            y='proportion',\n",
        "            palette=palette);"
      ]
    },
    {
      "cell_type": "code",
      "execution_count": null,
      "id": "b667c590",
      "metadata": {
        "id": "b667c590"
      },
      "outputs": [],
      "source": [
        "df[['gender', 'course', 'reading', 'writing', 'math']].groupby('gender').corrwith(df['approved'])"
      ]
    },
    {
      "cell_type": "code",
      "execution_count": null,
      "id": "2a0fd32a",
      "metadata": {
        "id": "2a0fd32a"
      },
      "outputs": [],
      "source": [
        "df.groupby('approved')['gender'].value_counts(normalize=True).plot.bar();"
      ]
    },
    {
      "cell_type": "markdown",
      "id": "754bc349",
      "metadata": {
        "id": "754bc349"
      },
      "source": [
        "We will try to do the same plot with seaborn"
      ]
    },
    {
      "cell_type": "code",
      "execution_count": null,
      "id": "433f1270",
      "metadata": {
        "id": "433f1270"
      },
      "outputs": [],
      "source": [
        "df.groupby('approved')['gender'].value_counts(normalize=True).to_frame()"
      ]
    },
    {
      "cell_type": "code",
      "execution_count": null,
      "id": "ce7e5ca3",
      "metadata": {
        "id": "ce7e5ca3"
      },
      "outputs": [],
      "source": [
        "tmp = (df.groupby('approved')['gender'].value_counts(normalize=True).to_frame().rename(columns={'gender': '%'})*100).reset_index()\n",
        "sns.barplot(data=tmp, x='approved', y='proportion', hue='gender', palette=palette);"
      ]
    },
    {
      "cell_type": "markdown",
      "id": "286bb191",
      "metadata": {
        "id": "286bb191"
      },
      "source": [
        "<a id='pandas_seaborn_matplotlib'></a>\n",
        "## Pandas, Seaborn or Matplotlib?"
      ]
    },
    {
      "cell_type": "markdown",
      "id": "cec11c14",
      "metadata": {
        "id": "cec11c14"
      },
      "source": [
        "When plotting you can think of using one of these four approaches:\n",
        "\n",
        "- Pandas\n",
        "- Pandas + Matplotlib\n",
        "- Pandas + Seaborn\n",
        "- Pandas + Seaborn + Matplotlib\n",
        "\n",
        "**Pandas**  \n",
        "- Learning: easy\n",
        "- Default Visual: bad\n",
        "- Custom Visual: regular\n",
        "- TIP: just knowing what are the plotting methods implemented in pandas is enough to start plotting many things to extract information for you (but maybe not for a presentation).\n",
        "\n",
        "**Pandas + Matplotlib**  \n",
        "- Learning: difficult\n",
        "- Default Visual: regular\n",
        "- Custom Visual: excellent but tricky (it's all about learning matplotlib, not easy to start from scratch)\n",
        "- TIP: Think the plot you want and then using DataFrame.groupby or some condition applied to the dataframe will be enough to feed your plots.\n",
        "\n",
        "**Pandas + Seaborn**   \n",
        "- Learning: good\n",
        "- Default Visual: good\n",
        "- Custom Visual: very good\n",
        "- TIP: Seaborn is almost about preparing a DataFrame to feed the seaborn plot you are looking for. So you need to learn about Seaborn's available plots and probably expend some time learning pandas methods like `melt` and `pivot` to transform the dataframe in an input kind of the ones seaborn likes.\n",
        "\n",
        "**Pandas + Matplotlib + Seaborn**   \n",
        "- Learning: difficult\n",
        "- Default Visual: good\n",
        "- Custom Visual: excellent\n",
        "- TIP: Sky is the limit. Remember that seaborn was built on matplotlib."
      ]
    },
    {
      "cell_type": "code",
      "execution_count": null,
      "id": "3409e3cb",
      "metadata": {
        "id": "3409e3cb"
      },
      "outputs": [],
      "source": [
        "sns.countplot(data=df, x='approved', hue='gender', palette=palette);"
      ]
    },
    {
      "cell_type": "code",
      "execution_count": null,
      "id": "757dafc7",
      "metadata": {
        "id": "757dafc7"
      },
      "outputs": [],
      "source": [
        "ax = plt.subplot()\n",
        "for group, g in df.groupby(['approved','gender']):\n",
        "    g[['math']].hist(bins=50, ax=ax, alpha=.3, label=f'{group[0]} {group[1]}');\n",
        "plt.legend();"
      ]
    },
    {
      "cell_type": "markdown",
      "id": "b33e5d15",
      "metadata": {
        "id": "b33e5d15"
      },
      "source": [
        "To do the same plot with seaborn we will need to convert the dataframe like the melted one and add some new column that represents a combination of gender and approved. Sometimes it's better to look for alternatives that let us do the same analysis without too much coding."
      ]
    },
    {
      "cell_type": "code",
      "execution_count": null,
      "id": "76c60d34",
      "metadata": {
        "id": "76c60d34"
      },
      "outputs": [],
      "source": [
        "g = sns.FacetGrid(df, col='approved', row='gender')\n",
        "g.map(sns.histplot, 'math', palette=palette);"
      ]
    },
    {
      "cell_type": "code",
      "execution_count": null,
      "id": "fed58ca7",
      "metadata": {
        "id": "fed58ca7"
      },
      "outputs": [],
      "source": [
        "g = sns.FacetGrid(df, col='approved', row='gender')\n",
        "g.map(sns.histplot, 'reading', palette=palette);"
      ]
    },
    {
      "cell_type": "code",
      "execution_count": null,
      "id": "f7dfafb4",
      "metadata": {
        "id": "f7dfafb4"
      },
      "outputs": [],
      "source": [
        "g = sns.FacetGrid(df, col='approved', row='gender')\n",
        "g.map(sns.histplot, 'writing', palette=palette);"
      ]
    },
    {
      "cell_type": "code",
      "execution_count": null,
      "id": "3b0c78a7",
      "metadata": {
        "id": "3b0c78a7"
      },
      "outputs": [],
      "source": [
        "# let's repeat the three features with violinplots\n",
        "for feature in ['reading', 'writing', 'math']:\n",
        "    g = sns.FacetGrid(df, col='approved', row='gender', sharex=True, sharey=True)\n",
        "    g.map(sns.violinplot, feature, order=None, palette=palette);"
      ]
    },
    {
      "cell_type": "markdown",
      "id": "29e15619",
      "metadata": {
        "id": "29e15619"
      },
      "source": [
        "If we prepare data for seaborn, seaborn will give what we want. For instance, `seaborn.violinplot()` permits to split the violin distribution using a secondary binary `hue` feature. But this just can be done when using parameters `x` and `y`. In this case we can use a dummy feature to plot what we want. Knowing this will help us to improve our previous plot."
      ]
    },
    {
      "cell_type": "code",
      "execution_count": null,
      "id": "8b88ac04",
      "metadata": {
        "id": "8b88ac04"
      },
      "outputs": [],
      "source": [
        "df['dummy'] = ''\n",
        "# let's repeat the three features with violinplots\n",
        "for feature in ['reading', 'writing', 'math']:\n",
        "    g = sns.FacetGrid(df, col='approved', sharey=True)\n",
        "    g.map(sns.violinplot, data=df, x='dummy', y=feature, hue='gender', split=True, order=None, palette=palette);\n",
        "    g.add_legend() # we want to display the gender legend\n",
        "    g.set_ylabels('score')\n",
        "    g.fig.subplots_adjust(top=0.8)\n",
        "    g.fig.suptitle(f'feature: {feature}', fontsize=12, font='verdana')\n",
        "del df['dummy']"
      ]
    },
    {
      "cell_type": "markdown",
      "id": "c9a698b3",
      "metadata": {
        "id": "c9a698b3"
      },
      "source": [
        "### PairGrid\n",
        "\n",
        "seaborn.PairGrid() is a great tool that let us extend seaborn plots easily."
      ]
    },
    {
      "cell_type": "code",
      "execution_count": null,
      "id": "77bf94b3",
      "metadata": {
        "id": "77bf94b3"
      },
      "outputs": [],
      "source": [
        "# this should do something similar to pairplot() but without setting the histogram in the diagonal\n",
        "g = sns.PairGrid(df)\n",
        "g.map(sns.scatterplot);"
      ]
    },
    {
      "cell_type": "code",
      "execution_count": null,
      "id": "55fb3053",
      "metadata": {
        "id": "55fb3053"
      },
      "outputs": [],
      "source": [
        "del df['is_female']\n",
        "del df['is_male']"
      ]
    },
    {
      "cell_type": "markdown",
      "id": "eb38d915",
      "metadata": {
        "id": "eb38d915"
      },
      "source": [
        "Maybe you didn't see the power of PairGrids. Let's try again with a new custom PairGrid plot with multivariate KDE subplots"
      ]
    },
    {
      "cell_type": "code",
      "execution_count": null,
      "id": "85ca1f6b",
      "metadata": {
        "id": "85ca1f6b"
      },
      "outputs": [],
      "source": [
        "# Create a cubehelix colormap to use with kdeplot\n",
        "cmap = sns.cubehelix_palette(start=0, light=.95, as_cmap=True)\n",
        "g = sns.PairGrid(df, diag_sharey=False)\n",
        "g.map_upper(sns.kdeplot, cmap=cmap, fill=True)\n",
        "g.map_lower(sns.kdeplot, cmap=cmap, fill=True)\n",
        "g.map_diag(sns.kdeplot, color='#aa0000', fill=True);"
      ]
    },
    {
      "cell_type": "markdown",
      "id": "ced7d702",
      "metadata": {
        "id": "ced7d702"
      },
      "source": [
        "<a id='summary'></a>\n",
        "## Summary of functions"
      ]
    },
    {
      "cell_type": "markdown",
      "id": "d019908a",
      "metadata": {
        "id": "d019908a"
      },
      "source": [
        "**Pandas**\n",
        "- pandas.read_csv()\n",
        "- pandas.concat()\n",
        "- pandas.get_dummies()\n",
        "- DataFrame.info()\n",
        "- DataFrame.head()\n",
        "- DataFrame.sample()\n",
        "- DataFrame.describe()\n",
        "- DataFrame.unique()\n",
        "- DataFrame.str\n",
        "- DataFrame.grouby()\n",
        "- DataFrame.sourt_values()\n",
        "- DataFrame.corr()\n",
        "- DataFrame.corrwith()\n",
        "- DataFrameGroupBy.size()\n",
        "\n",
        "**Pandas (plotting)**\n",
        "- DataFrame.boxplot()\n",
        "- DataFrame.hist()\n",
        "- DataFrame.plot()\n",
        "- DataFrame.plot.kde()\n",
        "- DataFrame.plot.pie()\n",
        "- DataFrame.plot.scatter()\n",
        "\n",
        "**matplotlib**\n",
        "- matplotlib.pyplot.subplots()\n",
        "- matplotlib.pyplot.title()\n",
        "- matplotlib.pyplot.plot()\n",
        "- matplotlib.pyplot.suptitle()\n",
        "- matplotlib.pyplot.subplot()\n",
        "- matplotlib.pyplot.subplots_adjust()\n",
        "- matplotlib.pyplot.ylabel()\n",
        "- matplotlib.pyplot.legend()\n",
        "- matplotlib.pyplot.figure()\n",
        "\n",
        "**seaborn**\n",
        "- seaborn.boxplot()\n",
        "- seaborn.boxenplot()\n",
        "- seaborn.histplot()\n",
        "- seaborn.barplot()\n",
        "- seaborn.countplot()\n",
        "- seaborn.scatterplot()\n",
        "- seaborn.violinplot()\n",
        "- seaborn.lineplot()\n",
        "- seaborn.pairplot()\n",
        "- seaborn.heatmap()\n",
        "- seaborn.kdeplot()\n",
        "- seaborn.FacetGrid()\n",
        "- seaborn.PairGrid()"
      ]
    }
  ],
  "metadata": {
    "kernelspec": {
      "display_name": "Python 3 (ipykernel)",
      "language": "python",
      "name": "python3"
    },
    "language_info": {
      "codemirror_mode": {
        "name": "ipython",
        "version": 3
      },
      "file_extension": ".py",
      "mimetype": "text/x-python",
      "name": "python",
      "nbconvert_exporter": "python",
      "pygments_lexer": "ipython3",
      "version": "3.11.5"
    },
    "colab": {
      "provenance": []
    }
  },
  "nbformat": 4,
  "nbformat_minor": 5
}