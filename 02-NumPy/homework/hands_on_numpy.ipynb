{
  "cells": [
    {
      "cell_type": "markdown",
      "id": "f44a2f2b",
      "metadata": {
        "id": "f44a2f2b"
      },
      "source": [
        "<table width=100%>\n",
        "<tr>\n",
        "    <td><h1 style=\"text-align: left; font-size:300%;\">\n",
        "        NumPy - Hands On\n",
        "    </h1></td>\n",
        "    <td width=\"50%\">\n",
        "    <div style=\"text-align: right\">\n",
        "    <b> Practical Data Science Lessons</b><br><br>\n",
        "    <b> Matteo Frosi</b><br>\n",
        "    <a href=\"mailto:matteo.frosi@polimi.it\">matteo.frosi@polimi.it</a><br>\n",
        "    </div>\n",
        "</tr>\n",
        "</table>"
      ]
    },
    {
      "cell_type": "markdown",
      "id": "9b162bbe",
      "metadata": {
        "id": "9b162bbe"
      },
      "source": [
        "The following exercises are a selection from [this larger set.](https://github.com/rougier/numpy-100)"
      ]
    },
    {
      "cell_type": "markdown",
      "id": "d98aa35a",
      "metadata": {
        "id": "d98aa35a"
      },
      "source": [
        "#### -> 1. Import the numpy package under the name `np`"
      ]
    },
    {
      "cell_type": "code",
      "execution_count": null,
      "id": "66d86f6b",
      "metadata": {
        "id": "66d86f6b"
      },
      "outputs": [],
      "source": [
        "### YOUR CODE GOES HERE ###\n",
        "\n"
      ]
    },
    {
      "cell_type": "markdown",
      "id": "572c1bdb",
      "metadata": {
        "id": "572c1bdb"
      },
      "source": [
        "#### 2. Create a vector of zeroes of size 10"
      ]
    },
    {
      "cell_type": "code",
      "execution_count": null,
      "id": "31c9f6a5",
      "metadata": {
        "id": "31c9f6a5",
        "outputId": "77d7b684-ed53-4dc8-e213-d53dbe39fa5e"
      },
      "outputs": [
        {
          "name": "stdout",
          "output_type": "stream",
          "text": [
            "[0. 0. 0. 0. 0. 0. 0. 0. 0. 0.]\n"
          ]
        }
      ],
      "source": [
        "### YOUR CODE GOES HERE ###\n",
        "\n"
      ]
    },
    {
      "cell_type": "markdown",
      "id": "163dd668",
      "metadata": {
        "id": "163dd668"
      },
      "source": [
        "#### 3. Create a vector of zeroes of size 10 whose fifth value is 1"
      ]
    },
    {
      "cell_type": "code",
      "execution_count": null,
      "id": "5c519ea5",
      "metadata": {
        "id": "5c519ea5",
        "outputId": "5b0e2a82-952a-4cf2-d8ff-3d705765f29a"
      },
      "outputs": [
        {
          "name": "stdout",
          "output_type": "stream",
          "text": [
            "[0. 0. 0. 0. 1. 0. 0. 0. 0. 0.]\n"
          ]
        }
      ],
      "source": [
        "### YOUR CODE GOES HERE ###\n",
        "\n"
      ]
    },
    {
      "cell_type": "markdown",
      "id": "cfc46304",
      "metadata": {
        "id": "cfc46304"
      },
      "source": [
        "#### -> 4. Create a vector with values ranging from 10 to 49"
      ]
    },
    {
      "cell_type": "code",
      "execution_count": null,
      "id": "d8b86640",
      "metadata": {
        "id": "d8b86640",
        "outputId": "87c88a68-7051-4190-cff1-566d6acc46dc"
      },
      "outputs": [
        {
          "name": "stdout",
          "output_type": "stream",
          "text": [
            "[10 11 12 13 14 15 16 17 18 19 20 21 22 23 24 25 26 27 28 29 30 31 32 33\n",
            " 34 35 36 37 38 39 40 41 42 43 44 45 46 47 48 49]\n"
          ]
        }
      ],
      "source": [
        "### YOUR CODE GOES HERE ###\n",
        "\n"
      ]
    },
    {
      "cell_type": "markdown",
      "id": "0cc200be",
      "metadata": {
        "id": "0cc200be"
      },
      "source": [
        "#### -> 5. Reverse the given 'Z' vector (first element becomes last)"
      ]
    },
    {
      "cell_type": "code",
      "execution_count": null,
      "id": "07112e14",
      "metadata": {
        "id": "07112e14"
      },
      "outputs": [],
      "source": [
        "Z = np.arange(50)"
      ]
    },
    {
      "cell_type": "code",
      "execution_count": null,
      "id": "ec044bb5",
      "metadata": {
        "id": "ec044bb5",
        "outputId": "6ee3cf10-969e-409d-abdd-96eafc195b48"
      },
      "outputs": [
        {
          "name": "stdout",
          "output_type": "stream",
          "text": [
            "[49 48 47 46 45 44 43 42 41 40 39 38 37 36 35 34 33 32 31 30 29 28 27 26\n",
            " 25 24 23 22 21 20 19 18 17 16 15 14 13 12 11 10  9  8  7  6  5  4  3  2\n",
            "  1  0]\n"
          ]
        }
      ],
      "source": [
        "### YOUR CODE GOES HERE ###\n",
        "\n"
      ]
    },
    {
      "cell_type": "markdown",
      "id": "29d9ede4",
      "metadata": {
        "id": "29d9ede4"
      },
      "source": [
        "#### 6. Create a 3x3 matrix with values ranging from 0 to 8"
      ]
    },
    {
      "cell_type": "code",
      "execution_count": null,
      "id": "d9e39043",
      "metadata": {
        "id": "d9e39043",
        "outputId": "433bbb98-ded4-4808-cadc-9208e0522b91"
      },
      "outputs": [
        {
          "name": "stdout",
          "output_type": "stream",
          "text": [
            "[[0 1 2]\n",
            " [3 4 5]\n",
            " [6 7 8]]\n"
          ]
        }
      ],
      "source": [
        "### YOUR CODE GOES HERE ###\n",
        "\n"
      ]
    },
    {
      "cell_type": "markdown",
      "id": "88905ceb",
      "metadata": {
        "id": "88905ceb"
      },
      "source": [
        "#### -> 7. Find indices of non-zero elements from [1,2,0,0,4,0]\n",
        "Note: Look for the `nonzero()` function in the documentation: https://numpy.org/doc/stable/reference/generated/numpy.nonzero.html"
      ]
    },
    {
      "cell_type": "code",
      "execution_count": null,
      "id": "b2f3c90a",
      "metadata": {
        "id": "b2f3c90a",
        "outputId": "281318e9-4947-4c54-ad6d-c14eac07d4ec"
      },
      "outputs": [
        {
          "name": "stdout",
          "output_type": "stream",
          "text": [
            "(array([0, 1, 4], dtype=int64),)\n"
          ]
        }
      ],
      "source": [
        "### YOUR CODE GOES HERE ###\n",
        "\n"
      ]
    },
    {
      "cell_type": "markdown",
      "id": "49603e91",
      "metadata": {
        "id": "49603e91"
      },
      "source": [
        "#### 8. Create a 3x3 identity matrix"
      ]
    },
    {
      "cell_type": "code",
      "execution_count": null,
      "id": "5b607b5c",
      "metadata": {
        "id": "5b607b5c",
        "outputId": "a5233e73-78b2-4bb4-a7c5-b78c575c2af8"
      },
      "outputs": [
        {
          "name": "stdout",
          "output_type": "stream",
          "text": [
            "[[1. 0. 0.]\n",
            " [0. 1. 0.]\n",
            " [0. 0. 1.]]\n"
          ]
        }
      ],
      "source": [
        "### YOUR CODE GOES HERE ###\n",
        "\n"
      ]
    },
    {
      "cell_type": "markdown",
      "id": "e15c249a",
      "metadata": {
        "id": "e15c249a"
      },
      "source": [
        "#### 9. Create a 3x3x3 array with random values (sampled from a “continuous uniform” distribution)"
      ]
    },
    {
      "cell_type": "code",
      "execution_count": null,
      "id": "ab21ed50",
      "metadata": {
        "id": "ab21ed50",
        "outputId": "f0760977-ea21-412b-fa37-aba5d0351a6b"
      },
      "outputs": [
        {
          "name": "stdout",
          "output_type": "stream",
          "text": [
            "[[[0.45059526 0.08074638 0.06255285]\n",
            "  [0.22266509 0.3656692  0.16084157]\n",
            "  [0.18029007 0.14357548 0.07871257]]\n",
            "\n",
            " [[0.69530935 0.66198249 0.83583885]\n",
            "  [0.04919942 0.96146067 0.04786715]\n",
            "  [0.16127372 0.5417555  0.47235918]]\n",
            "\n",
            " [[0.72241346 0.04439576 0.42072192]\n",
            "  [0.06935264 0.03137439 0.0180724 ]\n",
            "  [0.0920472  0.61804877 0.0919691 ]]]\n"
          ]
        }
      ],
      "source": [
        "### YOUR CODE GOES HERE ###\n",
        "\n"
      ]
    },
    {
      "cell_type": "markdown",
      "id": "157a129c",
      "metadata": {
        "id": "157a129c"
      },
      "source": [
        "#### 10. Create a 10x10 array with random values and find the minimum and maximum values"
      ]
    },
    {
      "cell_type": "code",
      "execution_count": null,
      "id": "c0066de5",
      "metadata": {
        "id": "c0066de5",
        "outputId": "0b89edf4-f6b9-403c-faa5-c33d5da78f08"
      },
      "outputs": [
        {
          "name": "stdout",
          "output_type": "stream",
          "text": [
            "0.005624724780527113 0.9905854784119231\n"
          ]
        }
      ],
      "source": [
        "### YOUR CODE GOES HERE ###\n",
        "\n"
      ]
    },
    {
      "cell_type": "markdown",
      "id": "d92d7b32",
      "metadata": {
        "id": "d92d7b32"
      },
      "source": [
        "#### 11. Create a random vector of size 30 and find the mean value"
      ]
    },
    {
      "cell_type": "code",
      "execution_count": null,
      "id": "9672d023",
      "metadata": {
        "id": "9672d023",
        "outputId": "8e2edf91-ea9e-4f35-cfb4-94702388879e"
      },
      "outputs": [
        {
          "name": "stdout",
          "output_type": "stream",
          "text": [
            "0.4981251889557534\n"
          ]
        }
      ],
      "source": [
        "### YOUR CODE GOES HERE ###\n",
        "\n"
      ]
    },
    {
      "cell_type": "markdown",
      "id": "f361efc0",
      "metadata": {
        "id": "f361efc0"
      },
      "source": [
        "#### -> 12. Create a 2D array with 1's on the border and 0's inside"
      ]
    },
    {
      "cell_type": "code",
      "execution_count": null,
      "id": "a55b6666",
      "metadata": {
        "id": "a55b6666"
      },
      "outputs": [],
      "source": [
        "### YOUR CODE GOES HERE ###\n",
        "\n"
      ]
    },
    {
      "cell_type": "markdown",
      "id": "475808cb",
      "metadata": {
        "id": "475808cb"
      },
      "source": [
        "#### 13. Add a border (filled with 0's) around the Z array\n",
        "Note: look for the `pad()` Numpy function in the official documentation"
      ]
    },
    {
      "cell_type": "code",
      "execution_count": null,
      "id": "c27eee34",
      "metadata": {
        "id": "c27eee34"
      },
      "outputs": [],
      "source": [
        "Z = np.ones((5,5))"
      ]
    },
    {
      "cell_type": "code",
      "execution_count": null,
      "id": "b2df3a8a",
      "metadata": {
        "id": "b2df3a8a",
        "outputId": "9edddf60-e3ba-4577-d613-a71cf87a3330"
      },
      "outputs": [
        {
          "name": "stdout",
          "output_type": "stream",
          "text": [
            "[[0. 0. 0. 0. 0. 0. 0.]\n",
            " [0. 1. 1. 1. 1. 1. 0.]\n",
            " [0. 1. 1. 1. 1. 1. 0.]\n",
            " [0. 1. 1. 1. 1. 1. 0.]\n",
            " [0. 1. 1. 1. 1. 1. 0.]\n",
            " [0. 1. 1. 1. 1. 1. 0.]\n",
            " [0. 0. 0. 0. 0. 0. 0.]]\n"
          ]
        }
      ],
      "source": [
        "### YOUR CODE GOES HERE ###\n",
        "\n"
      ]
    },
    {
      "cell_type": "markdown",
      "id": "9717649f",
      "metadata": {
        "id": "9717649f"
      },
      "source": [
        "#### -> 14. Add a border (filled with 0's) inside the Z array\n",
        "Note: use fancy indexing"
      ]
    },
    {
      "cell_type": "code",
      "execution_count": null,
      "id": "af084624",
      "metadata": {
        "id": "af084624"
      },
      "outputs": [],
      "source": [
        "Z = np.ones((5,5))"
      ]
    },
    {
      "cell_type": "code",
      "execution_count": null,
      "id": "d3185a5f",
      "metadata": {
        "id": "d3185a5f",
        "outputId": "1e12be24-d141-48d0-c578-6849261f6db4"
      },
      "outputs": [
        {
          "name": "stdout",
          "output_type": "stream",
          "text": [
            "[[0. 0. 0. 0. 0.]\n",
            " [0. 1. 1. 1. 0.]\n",
            " [0. 1. 1. 1. 0.]\n",
            " [0. 1. 1. 1. 0.]\n",
            " [0. 0. 0. 0. 0.]]\n"
          ]
        }
      ],
      "source": [
        "### YOUR CODE GOES HERE ###\n",
        "\n"
      ]
    },
    {
      "cell_type": "markdown",
      "id": "6a235316",
      "metadata": {
        "id": "6a235316"
      },
      "source": [
        "#### 15. Create a 5x5 matrix with values 1,2,3,4 just below the diagonal\n",
        "Note: look for the `diag()` function"
      ]
    },
    {
      "cell_type": "code",
      "execution_count": null,
      "id": "f2e6cfa6",
      "metadata": {
        "id": "f2e6cfa6",
        "outputId": "02ba3852-b82e-4cba-dbd1-5fa827c95b3a"
      },
      "outputs": [
        {
          "name": "stdout",
          "output_type": "stream",
          "text": [
            "[[0 0 0 0 0]\n",
            " [1 0 0 0 0]\n",
            " [0 2 0 0 0]\n",
            " [0 0 3 0 0]\n",
            " [0 0 0 4 0]]\n"
          ]
        }
      ],
      "source": [
        "### YOUR CODE GOES HERE ###\n",
        "\n"
      ]
    },
    {
      "cell_type": "markdown",
      "id": "b83d706c",
      "metadata": {
        "id": "b83d706c"
      },
      "source": [
        "#### Let's now create an array to work with"
      ]
    },
    {
      "cell_type": "code",
      "execution_count": null,
      "id": "e9505537",
      "metadata": {
        "id": "e9505537",
        "outputId": "94ec80ce-6127-4512-d89c-1f61659b4133"
      },
      "outputs": [
        {
          "data": {
            "text/plain": [
              "array([[351401, 100880, 203246,  95817, 437783],\n",
              "       [424236,  84435,  33868, 342377, 437512],\n",
              "       [ 53923,  33202, 252512,  43596,  35542],\n",
              "       [332848, 404288, 294176, 445147, 203157],\n",
              "       [172157, 478837, 383782, 182952, 251076],\n",
              "       [111719, 121605,  21419, 488300, 118836],\n",
              "       [244072, 323111, 401387, 278050, 413243],\n",
              "       [349053,  16640, 449860, 238918, 119897],\n",
              "       [ 91439, 433607, 116064,  93396, 448634],\n",
              "       [409632, 371139, 364113, 116277, 281839],\n",
              "       [392141, 257075, 143493,  51931, 150848],\n",
              "       [392400, 161330, 407336, 423936,  60335],\n",
              "       [170633, 356787, 196078, 111099, 392464],\n",
              "       [161514, 471433, 420600, 222610, 492439],\n",
              "       [250617,  31227, 206710, 429642, 288442],\n",
              "       [ 22378, 295279, 464637, 315867,  18879],\n",
              "       [ 35924, 458849, 497196, 439073, 261659],\n",
              "       [480755,  23433, 284237, 239359, 400523],\n",
              "       [437033, 161827, 300349, 296586, 350967],\n",
              "       [ 14310,  29511, 449623,  80327, 221204]])"
            ]
          },
          "execution_count": 3,
          "metadata": {},
          "output_type": "execute_result"
        }
      ],
      "source": [
        "rng = np.random.default_rng(seed=16)\n",
        "random_integers = rng.integers(low=1, high=500000, size=(20, 5))\n",
        "random_integers"
      ]
    },
    {
      "cell_type": "markdown",
      "id": "0f70b2de",
      "metadata": {
        "id": "0f70b2de"
      },
      "source": [
        "#### 16. Compute the average value of the second column"
      ]
    },
    {
      "cell_type": "code",
      "execution_count": null,
      "id": "fb0d31fa",
      "metadata": {
        "id": "fb0d31fa"
      },
      "outputs": [],
      "source": [
        "### YOUR CODE GOES HERE ###\n"
      ]
    },
    {
      "cell_type": "markdown",
      "id": "5187795b",
      "metadata": {
        "id": "5187795b"
      },
      "source": [
        "#### -> 17. Compute the average value for each of the first 5 rows considering only the third and fourth columns"
      ]
    },
    {
      "cell_type": "code",
      "execution_count": null,
      "id": "a8475e59",
      "metadata": {
        "id": "a8475e59"
      },
      "outputs": [],
      "source": [
        "### YOUR CODE GOES HERE ###\n"
      ]
    }
  ],
  "metadata": {
    "kernelspec": {
      "display_name": "Python 3 (ipykernel)",
      "language": "python",
      "name": "python3"
    },
    "language_info": {
      "codemirror_mode": {
        "name": "ipython",
        "version": 3
      },
      "file_extension": ".py",
      "mimetype": "text/x-python",
      "name": "python",
      "nbconvert_exporter": "python",
      "pygments_lexer": "ipython3",
      "version": "3.11.5"
    },
    "colab": {
      "provenance": []
    }
  },
  "nbformat": 4,
  "nbformat_minor": 5
}