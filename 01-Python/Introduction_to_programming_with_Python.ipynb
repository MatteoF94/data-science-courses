{
  "cells": [
    {
      "cell_type": "markdown",
      "metadata": {
        "id": "tFrHUeO5mBhH"
      },
      "source": [
        "<table width=100%>\n",
        "<tr>\n",
        "    <td><h1 style=\"text-align: left; font-size:300%;\">\n",
        "        Introduction to programming with Python\n",
        "    </h1></td>\n",
        "    <td width=\"50%\">\n",
        "    <div style=\"text-align: right\">\n",
        "    <b> Practical Data Science Lessons</b><br><br>\n",
        "    <b> Matteo Frosi</b><br>\n",
        "    <a href=\"mailto:matteo.frosi@polimi.it\">matteo.frosi@polimi.it</a><br>\n",
        "    </div>\n",
        "</tr>\n",
        "</table>"
      ]
    },
    {
      "cell_type": "markdown",
      "metadata": {
        "id": "MQqBj5L_vRsx"
      },
      "source": [
        "## Learning outcomes 🔎\n",
        "\n",
        "\n",
        "*   What is programming?\n",
        "*   Python\n",
        "*   Variables and Types\n",
        "*   Lists\n",
        "*   Tuples\n",
        "*   Basic Operators\n",
        "*   Conditions\n",
        "*   Loops\n",
        "*   Functions\n",
        "*   Dictionaries\n",
        "*   Classes and Objects\n",
        "*   Basic String Operations\n",
        "*   String Formatting\n",
        "*   Scopes and Namespaces\n",
        "*   Modules and Packages\n",
        "\n",
        "\n",
        "#### More difficult topics are marked with the climbing icon 🧗\n",
        "**Nerdy stuff is marked with** 🤓\n",
        "\n",
        "#### Resources:\n",
        "*   *[learnpython.org](https://www.learnpython.org)*\n",
        "*   *[Real Python](https://realpython.com)*\n",
        "*   *[Official tutorial](https://docs.python.org/3/tutorial/index.html#tutorial-index)*"
      ]
    },
    {
      "cell_type": "markdown",
      "metadata": {
        "id": "At-lyYN8tkYs"
      },
      "source": [
        "## What is programming? 🍳\n",
        "*   Programming is the process of writing instructions that a computer can execute to perform a specific task.\n",
        "*   It involves breaking down a problem into smaller, more manageable steps and creating a sequence of instructions or algorithms that can solve the problem.\n",
        "*   An algorithm is a set of instructions that a computer can follow to complete a task.\n",
        "*   It can be compared to a recipe, where each step is a specific instruction that, when followed in order, produces a desired outcome.\n",
        "*   In programming, algorithms are written using programming languages such as Python, which allow us to write instructions that a computer can understand and execute.\n",
        "\n",
        "<img src='https://res.cloudinary.com/practicaldev/image/fetch/s--ayKwv0ZG--/c_limit%2Cf_auto%2Cfl_progressive%2Cq_auto%2Cw_880/https://dev-to-uploads.s3.amazonaws.com/uploads/articles/i5rooknycvnwtyvpmky0.png'>\n",
        "\n",
        "[Image source](https://dev.to/rishalhurbans/algorithms-are-like-recipes-cfd)"
      ]
    },
    {
      "cell_type": "code",
      "execution_count": null,
      "metadata": {
        "id": "Tme10AcuM5Nk"
      },
      "outputs": [],
      "source": [
        "# This code serves for having the multi-output\n",
        "from IPython.core.interactiveshell import InteractiveShell\n",
        "InteractiveShell.ast_node_interactivity = 'all'"
      ]
    },
    {
      "cell_type": "markdown",
      "metadata": {
        "id": "rdjATF0hz5A2"
      },
      "source": [
        "## Python **🐍**\n",
        "Python is a popular high-level programming language that is known for its simplicity, flexibility, and extensibility. It was first released in 1991 and has since become one of the most widely used programming languages in the world. Python's simple and **easy-to-learn syntax** makes it a great language for beginners, yet its **powerful features** and libraries make it suitable for more complex projects."
      ]
    },
    {
      "cell_type": "markdown",
      "metadata": {
        "id": "03hz4bmq0W-F"
      },
      "source": [
        "The simplest instruction in Python is the `print` directive - it simply prints out a line"
      ]
    },
    {
      "cell_type": "code",
      "execution_count": null,
      "metadata": {
        "id": "he9-FdFk0t_k"
      },
      "outputs": [],
      "source": [
        "print(\"This line will be printed.\")"
      ]
    },
    {
      "cell_type": "markdown",
      "metadata": {
        "id": "Fz8VtaOj50wW"
      },
      "source": [
        "#### 🗒 Exercise\n",
        "\n",
        "Use the `print` function to print the line \"Hello, World!\"."
      ]
    },
    {
      "cell_type": "code",
      "execution_count": null,
      "metadata": {
        "id": "ombt-GjR6Fww"
      },
      "outputs": [],
      "source": [
        "# Your code here\n"
      ]
    },
    {
      "cell_type": "markdown",
      "metadata": {
        "id": "yh7lXoY5M5Nr"
      },
      "source": [
        "### 🤓 Python features\n",
        "Python is an **interpreted language**. In general, the source code of a programming language can be executed using an interpreter or a compiler. In a compiled language, a compiler will translate the source code directly into binary machine code. This machine code is specific to that target machine since each machine can have a different operating system and hardware. After compilation, the target machine will directly run the machine code.\n",
        "\n",
        "In an interpreted language, the source code is not directly run by the target machine. There is another program called the interpreter that reads and executes the source code directly. The interpreter, which is specific to the target machine, translates each statement of the source code into machine code and runs it.\n",
        "\n",
        "Python is usually called an interpreted language, however, it combines compiling and interpreting. When we execute a source code (a file with a .py extension), Python first compiles it into a bytecode. The bytecode is a low-level platform-independent representation of your source code, however, it is not the binary machine code and cannot be run by the target machine directly. In fact, it is a set of instructions for a virtual machine which is called the Python Virtual Machine (PVM). After compilation, the bytecode is sent for execution to the PVM. The PVM is an interpreter that runs the bytecode and is part of the Python system.\n",
        "\n",
        "The bytecode is platform-independent, but PVM is specific to the target machine. The default implementation of the Python programming language is CPython which is written in the C programming language. CPython compiles the python source code into the bytecode, and this bytecode is then executed by the CPython virtual machine."
      ]
    },
    {
      "cell_type": "markdown",
      "metadata": {
        "id": "OWGVcANDM5Ns"
      },
      "source": [
        "![python_interpreted.JPG](attachment:python_interpreted.JPG)"
      ]
    },
    {
      "cell_type": "markdown",
      "metadata": {
        "id": "bKTG6NTEuqw4"
      },
      "source": [
        "## Variables and types\n",
        "> A variable is a named storage location that stores a value\n",
        "\n",
        "*   Variables are used to hold values that may change during the execution of a program.\n",
        "*   They can represent various data types such as numbers, strings, and Boolean values.\n",
        "*   Variables are essential in programming because **they allow us to reuse values, manipulate data, and store results of calculations**.\n",
        "*   When we declare a variable, we give it a name that we can use to refer to it later in our code.\n",
        "*   The value stored in a variable can be updated or changed as the program runs.\n",
        "\n",
        "📦 A variable is like a drawer or a box that has a label (name) and can store something inside (value). You can change what is inside the drawer or box, and you can use the label to refer to it later"
      ]
    },
    {
      "cell_type": "markdown",
      "metadata": {
        "id": "14mio4d9ywFC"
      },
      "source": [
        "> Data types are used to define the type of data that a variable can store.\n",
        "\n",
        "A data type determines what values a variable can hold, how much memory it occupies, and what operations can be performed on it.\n",
        "The most common data types in programming include:\n",
        "*   **integers (whole numbers)**: -2, 3 0, 59, ...\n",
        "*   **floating-point numbers (numbers with decimal points)**: 6.89, 3.33333, ...\n",
        "*   **strings (text)**: \"hello\", \"home\", \"Riccardo\", ...\n",
        "*   **booleans (true/false values)**"
      ]
    },
    {
      "cell_type": "markdown",
      "metadata": {
        "id": "aDy2jCnN6U7G"
      },
      "source": [
        "To define an **integer** in Python, use the following syntax:"
      ]
    },
    {
      "cell_type": "code",
      "execution_count": null,
      "metadata": {
        "id": "qtSEKSw2l_C5"
      },
      "outputs": [],
      "source": [
        "myint = 7\n",
        "print(myint)"
      ]
    },
    {
      "cell_type": "markdown",
      "metadata": {
        "id": "DXRxifNL8O65"
      },
      "source": [
        "To define a **floating point number**, use the following syntax:"
      ]
    },
    {
      "cell_type": "code",
      "execution_count": null,
      "metadata": {
        "id": "i6BbmKH28XAq"
      },
      "outputs": [],
      "source": [
        "myfloat = 7.0\n",
        "print(myfloat)"
      ]
    },
    {
      "cell_type": "markdown",
      "metadata": {
        "id": "etuy5inE8nRk"
      },
      "source": [
        "**Strings** are defined either with a single quote or a double quotes."
      ]
    },
    {
      "cell_type": "code",
      "execution_count": null,
      "metadata": {
        "id": "o5aMEADS8pzu"
      },
      "outputs": [],
      "source": [
        "mystring = 'hello'\n",
        "print(mystring)\n",
        "mystring = \"hello\"\n",
        "print(mystring)"
      ]
    },
    {
      "cell_type": "markdown",
      "metadata": {
        "id": "MgrCNFAo8vHY"
      },
      "source": [
        "The difference between the two is that using double quotes makes it easy to include apostrophes (whereas these would terminate the string if using single quotes)"
      ]
    },
    {
      "cell_type": "code",
      "execution_count": null,
      "metadata": {
        "id": "SVqInPkN9Kjh"
      },
      "outputs": [],
      "source": [
        "mystring = \"Don't worry about apostrophes\"\n",
        "print(mystring)"
      ]
    },
    {
      "cell_type": "markdown",
      "metadata": {
        "id": "527OFGjk95tK"
      },
      "source": [
        "There are additional variations on defining strings that make it easier to include things such as carriage returns, backslashes and Unicode characters. These are beyond the scope of this tutorial, but are covered in the [Python documentation](https://docs.python.org/3/tutorial/introduction.html#strings)."
      ]
    },
    {
      "cell_type": "markdown",
      "metadata": {
        "id": "VAevKT-0M5N0"
      },
      "source": [
        "### 🤓 Typing\n",
        "\n",
        "Python is **dynamically typed**. This means that\n",
        "- we don't have to specify the type of each variable (statically, i.e., before code execution) at initialization\n",
        "- we can also modify their type at run-time"
      ]
    },
    {
      "cell_type": "code",
      "execution_count": null,
      "metadata": {
        "id": "NdXf0yP_M5N0"
      },
      "outputs": [],
      "source": [
        "# Change the type of a variable at run-time\n",
        "x = 123\n",
        "type(x)\n",
        "\n",
        "x = \"123\"\n",
        "type(x)\n",
        "\n",
        "x"
      ]
    },
    {
      "cell_type": "markdown",
      "metadata": {
        "id": "HNB6YCyHM5N2"
      },
      "source": [
        "Contrary to compiled languages, **there is no compiler that checks if an operation can be performed on a specific variable** based on its type. Since type can change dynamically, this check is only performed just before executing the operation."
      ]
    },
    {
      "cell_type": "code",
      "execution_count": null,
      "metadata": {
        "id": "A4mp--ndM5N3"
      },
      "outputs": [],
      "source": [
        "# Python does not statically (before execution) check that code is correct, since variables may change type\n",
        "# during execution. What does the following cell give as result?\n",
        "x = 123\n",
        "x.split(\"2\") # split is method specific for string types"
      ]
    },
    {
      "cell_type": "code",
      "execution_count": null,
      "metadata": {
        "id": "oJ9tssMRM5N3"
      },
      "outputs": [],
      "source": [
        "str(x).split(\"2\")"
      ]
    },
    {
      "cell_type": "code",
      "execution_count": null,
      "metadata": {
        "id": "uabNOh-8M5N4"
      },
      "outputs": [],
      "source": [
        "# you can do type conversion with the cast functions\n",
        "# casting int to string\n",
        "str(1)"
      ]
    },
    {
      "cell_type": "code",
      "execution_count": null,
      "metadata": {
        "id": "64TSP-pYM5N4"
      },
      "outputs": [],
      "source": [
        "# casting string to int\n",
        "int(\"1\")"
      ]
    },
    {
      "cell_type": "markdown",
      "metadata": {
        "id": "bS8pSnhFBbGO"
      },
      "source": [
        "## Lists\n",
        "\n",
        "> Arrays are are a collection of elements of the same data type\n",
        "\n",
        "Each element in an array is identified by an index, which represents its position in the array.\n",
        "\n",
        "**Lists** are very similar to arrays with the difference that they can contain different types of data."
      ]
    },
    {
      "cell_type": "markdown",
      "metadata": {
        "id": "RpuDe0H2FxUe"
      },
      "source": [
        "Here is an example of how to build a list:"
      ]
    },
    {
      "cell_type": "code",
      "execution_count": null,
      "metadata": {
        "id": "2LQC2LneEJAi"
      },
      "outputs": [],
      "source": [
        "mylist = []\n",
        "\n",
        "mylist.append(1)\n",
        "mylist.append(2)\n",
        "mylist.append(3)\n",
        "\n",
        "print(mylist[0]) # prints 1\n",
        "print(mylist[1]) # prints 2\n",
        "print(mylist[2]) # prints 3\n",
        "\n",
        "# prints out 1,2,3\n",
        "for x in mylist:\n",
        "    print(x)"
      ]
    },
    {
      "cell_type": "markdown",
      "metadata": {
        "id": "-Sq_od67GAG1"
      },
      "source": [
        "Accessing an index which does not exist generates an exception (an error)"
      ]
    },
    {
      "cell_type": "code",
      "execution_count": null,
      "metadata": {
        "id": "aWwLtBJpGCZV"
      },
      "outputs": [],
      "source": [
        "mylist = [1,2,3]\n",
        "\n",
        "print(mylist[10])"
      ]
    },
    {
      "cell_type": "markdown",
      "metadata": {
        "id": "1s6dWFu4M5N5"
      },
      "source": [
        "### 🤓 Immutable objects\n",
        "Strings are immutable in Python; they cannot be changed in place after they are created. In other words, you can never overwrite the values of immutable objects."
      ]
    },
    {
      "cell_type": "code",
      "execution_count": null,
      "metadata": {
        "id": "eDKjNZDnM5N6"
      },
      "outputs": [],
      "source": [
        "# immutable objects cannot be changed\n",
        "first_name[0] = 'c'"
      ]
    },
    {
      "cell_type": "markdown",
      "metadata": {
        "id": "BPlY8sRCM5N6"
      },
      "source": [
        "Every object in Python is classified as either immutable (unchangeable) or not. In terms of the core types, numbers, strings, and tuples are immutable; lists, dictionaries, and sets are not."
      ]
    },
    {
      "cell_type": "markdown",
      "metadata": {
        "id": "QrKuwV4sGFyw"
      },
      "source": [
        "#### 🗒 Exercise\n",
        "\n",
        "In this exercise, you will need to add numbers and strings to the correct lists using the \"append\" list method. You must add the numbers 1, 2, and 3 to the \"numbers\" list, and the words 'hello' and 'world' to the strings variable.\n",
        "\n",
        "You will also have to fill in the variable `second_name` with the second name in the names list, using the brackets operator []. Note that the index is zero-based, so if you want to access the second item in the list, its index will be 1."
      ]
    },
    {
      "cell_type": "code",
      "execution_count": null,
      "metadata": {
        "id": "LOF8J442GUGr"
      },
      "outputs": [],
      "source": [
        "numbers = []\n",
        "strings = []\n",
        "names = [\"John\", \"Eric\", \"Jessica\"]\n",
        "\n",
        "# write your code here\n",
        "second_name = None\n",
        "\n",
        "\n",
        "# this code should write out the filled arrays and the second name in the names list (Eric).\n",
        "print(numbers)\n",
        "print(strings)\n",
        "print(f\"The second name on the names list is {second_name}\")"
      ]
    },
    {
      "cell_type": "markdown",
      "metadata": {
        "id": "NebhV5HfM5OB"
      },
      "source": [
        "## Tuples\n",
        "The tuple object is roughly like a list that cannot be changed—tuples **are sequences, like lists, but they are immutable**, like strings. Functionally, they’re used to represent fixed collections of items: the components of a specific calendar date, for instance. Syntactically, they are normally coded in parentheses instead of square brackets, and they support arbitrary types, arbitrary nesting, and the usual sequence operations."
      ]
    },
    {
      "cell_type": "code",
      "execution_count": null,
      "metadata": {
        "id": "rO_hY6taM5OB"
      },
      "outputs": [],
      "source": [
        "# A 4-item tuple\n",
        "T = (1, 2, 3, 4)\n",
        "len(T) # Length\n",
        "\n",
        "# Concatenation\n",
        "T + (5, 6)\n",
        "\n",
        "# Indexing, slicing, and more\n",
        "T[0]"
      ]
    },
    {
      "cell_type": "markdown",
      "metadata": {
        "id": "-W8aRiMSGrix"
      },
      "source": [
        "## Basic operators\n",
        "\n",
        "> Operators are symbols or keywords used to perform operations on values or variables\n",
        "\n",
        "They can be used to perform arithmetic, comparison, logical, and assignment operations. For example, the plus sign (+) is an arithmetic operator used to add two values together, the greater than symbol (>) is a comparison operator used to compare two values, and the equal sign (=) is an assignment operator used to assign a value to a variable."
      ]
    },
    {
      "cell_type": "markdown",
      "metadata": {
        "id": "kGgZX3oQ0L-7"
      },
      "source": [
        "### Arithmetic operators ➕ ➖ ✖️ ➗\n",
        "\n",
        "Just as any other programming languages, the addition, subtraction, multiplication, and division operators can be used with numbers."
      ]
    },
    {
      "cell_type": "code",
      "execution_count": null,
      "metadata": {
        "id": "rVYI9KfF1KSe"
      },
      "outputs": [],
      "source": [
        "number = 1 + 2 * 3 / 4.0\n",
        "print(number)"
      ]
    },
    {
      "cell_type": "markdown",
      "metadata": {
        "id": "m2RjVV8s1bQ4"
      },
      "source": [
        "Another operator available is the modulo (%) operator, which returns the integer remainder of the division. dividend % divisor = remainder."
      ]
    },
    {
      "cell_type": "code",
      "execution_count": null,
      "metadata": {
        "id": "7pt8eA6V15el"
      },
      "outputs": [],
      "source": [
        "remainder = 11 % 3\n",
        "print(remainder)"
      ]
    },
    {
      "cell_type": "markdown",
      "metadata": {
        "id": "70SMTu-T17z7"
      },
      "source": [
        "Using two multiplication symbols makes a power relationship."
      ]
    },
    {
      "cell_type": "code",
      "execution_count": null,
      "metadata": {
        "id": "Z3j7_rg12W9q"
      },
      "outputs": [],
      "source": [
        "squared = 7 ** 2\n",
        "cubed = 2 ** 3\n",
        "print(squared)\n",
        "print(cubed)"
      ]
    },
    {
      "cell_type": "markdown",
      "metadata": {
        "id": "ECkGY_38M5OG"
      },
      "source": [
        "Pay attention:\n",
        "* '//' returns only the integer part of the result (result rounded down)\n",
        "* '/' returns a float result"
      ]
    },
    {
      "cell_type": "code",
      "execution_count": null,
      "metadata": {
        "id": "gG6K35lFM5OH"
      },
      "outputs": [],
      "source": [
        "6 // 10\n",
        "6/10"
      ]
    },
    {
      "cell_type": "markdown",
      "metadata": {
        "id": "_4bzz8Xc2-YP"
      },
      "source": [
        "### List operators\n",
        "\n",
        "Lists can be joined with the addition operators:"
      ]
    },
    {
      "cell_type": "code",
      "execution_count": null,
      "metadata": {
        "id": "V-8f_9993ITx"
      },
      "outputs": [],
      "source": [
        "even_numbers = [2,4,6,8]\n",
        "odd_numbers = [1,3,5,7]\n",
        "all_numbers = odd_numbers + even_numbers\n",
        "print(all_numbers)"
      ]
    },
    {
      "cell_type": "markdown",
      "metadata": {
        "id": "B5n9xDwz3Kw3"
      },
      "source": [
        "Just as in strings, Python supports forming new lists with a repeating sequence using the multiplication operator:"
      ]
    },
    {
      "cell_type": "code",
      "execution_count": null,
      "metadata": {
        "id": "jkhaeq_Q3QFw"
      },
      "outputs": [],
      "source": [
        "print([1,2,3] * 3)"
      ]
    },
    {
      "cell_type": "markdown",
      "metadata": {
        "id": "97mJ14YnM5OH"
      },
      "source": [
        "#### Slicing\n",
        "\n",
        "In Python we refer to slicing as the operation of selecting a set of elements from a list.\n",
        "\n",
        "```python\n",
        "list[start_idx:end_idx:every]\n",
        "```"
      ]
    },
    {
      "cell_type": "code",
      "execution_count": null,
      "metadata": {
        "id": "j7Td8sgTM5OI"
      },
      "outputs": [],
      "source": [
        "lst = ['home', 'cat', 'dog', 'hello', 'snake', 'python']\n",
        "\n",
        "# select from index 1 (start) to index 3 (end) every 1\n",
        "lst[1:3:1]"
      ]
    },
    {
      "cell_type": "code",
      "execution_count": null,
      "metadata": {
        "id": "3F4LpggJM5OI"
      },
      "outputs": [],
      "source": [
        "# select from index 0 (start) to index 5 (end) every 2\n",
        "lst[0:5:2]"
      ]
    },
    {
      "cell_type": "markdown",
      "metadata": {
        "id": "KY4B_dOgM5OI"
      },
      "source": [
        "It is not required to provide all the fields. Indeed, if not provided, the following will be used as default:\n",
        "\n",
        "```python\n",
        "list[0:len(list):1]\n",
        "```"
      ]
    },
    {
      "cell_type": "code",
      "execution_count": null,
      "metadata": {
        "id": "JZRnu9r9M5OI"
      },
      "outputs": [],
      "source": [
        "# Select from start and then the remaining\n",
        "# end = len(lst), every = 1\n",
        "lst[2:]"
      ]
    },
    {
      "cell_type": "code",
      "execution_count": null,
      "metadata": {
        "id": "-vMBtl8VM5OJ"
      },
      "outputs": [],
      "source": [
        "# Select from the beginning until end (excluded)\n",
        "# start = 0, every = 1\n",
        "lst[:4]"
      ]
    },
    {
      "cell_type": "code",
      "execution_count": null,
      "metadata": {
        "id": "K87X6JiuM5OJ"
      },
      "outputs": [],
      "source": [
        "# Select from 0 to len(lst) every 1\n",
        "lst[:]\n",
        "lst[::]"
      ]
    },
    {
      "cell_type": "code",
      "execution_count": null,
      "metadata": {
        "id": "x_nyCwYuM5OJ"
      },
      "outputs": [],
      "source": [
        "# Select all, every 2 elements\n",
        "lst[::2]"
      ]
    },
    {
      "cell_type": "code",
      "execution_count": null,
      "metadata": {
        "id": "MbnLYnoxM5OK"
      },
      "outputs": [],
      "source": [
        "# Select all, every -1 elements\n",
        "lst[::-1]"
      ]
    },
    {
      "cell_type": "markdown",
      "metadata": {
        "id": "ZoeGE2XsM5OK"
      },
      "source": [
        "#### Replace elements"
      ]
    },
    {
      "cell_type": "code",
      "execution_count": null,
      "metadata": {
        "id": "OLfuQDCwM5OK"
      },
      "outputs": [],
      "source": [
        "i = 2\n",
        "value = \"z\"\n",
        "\n",
        "lst[i] = value\n",
        "lst"
      ]
    },
    {
      "cell_type": "markdown",
      "metadata": {
        "id": "A3i6CdDSM5OL"
      },
      "source": [
        "We can also combine slicing with assign, by providing a list of elements (**not necessarily** having the same length of the slice)"
      ]
    },
    {
      "cell_type": "code",
      "execution_count": null,
      "metadata": {
        "id": "9L6iYlbsM5OL"
      },
      "outputs": [],
      "source": [
        "# Replace elements from 0 to 3 (excluded) with 100, 200, 300 respectively\n",
        "lst[0:3] = [100,200,300]\n",
        "lst"
      ]
    },
    {
      "cell_type": "markdown",
      "metadata": {
        "id": "65OxFk4nM5OL"
      },
      "source": [
        "#### Insert elements"
      ]
    },
    {
      "cell_type": "code",
      "execution_count": null,
      "metadata": {
        "id": "Fp8InlugM5OM"
      },
      "outputs": [],
      "source": [
        "# add **one** item at the end of a list with append()\n",
        "elem = \"new\"\n",
        "\n",
        "lst.append(elem)\n",
        "lst"
      ]
    },
    {
      "cell_type": "code",
      "execution_count": null,
      "metadata": {
        "id": "_J4eitLzM5OM"
      },
      "outputs": [],
      "source": [
        "# insert() adds an element at a specific position (after the provided index)\n",
        "i = 3\n",
        "elem = 0\n",
        "\n",
        "lst.insert(i, elem)\n",
        "lst"
      ]
    },
    {
      "cell_type": "markdown",
      "metadata": {
        "id": "fcf6ltiKM5OM"
      },
      "source": [
        "#### Remove elements"
      ]
    },
    {
      "cell_type": "code",
      "execution_count": null,
      "metadata": {
        "id": "Q2jRqadWM5OM"
      },
      "outputs": [],
      "source": [
        "# remove an element with pop() at the given index\n",
        "lst.pop(0) # remove the first element\n",
        "lst"
      ]
    },
    {
      "cell_type": "markdown",
      "metadata": {
        "id": "OnDppeqJM5OM"
      },
      "source": [
        "#### Nesting\n",
        "By nesting lists into lists we can create n-dimensional matrix"
      ]
    },
    {
      "cell_type": "code",
      "execution_count": null,
      "metadata": {
        "id": "_yvHTj66M5OM"
      },
      "outputs": [],
      "source": [
        "# A 3 × 3 matrix, as nested lists\n",
        "M = [[1, 2, 3],\n",
        "     [4, 5, 6], # Code can span lines if bracketed\n",
        "     [7, 8, 9]]"
      ]
    },
    {
      "cell_type": "code",
      "execution_count": null,
      "metadata": {
        "id": "X4MTxSMXM5ON"
      },
      "outputs": [],
      "source": [
        "# get the second row\n",
        "M[1]"
      ]
    },
    {
      "cell_type": "code",
      "execution_count": null,
      "metadata": {
        "id": "rnS1JgUzM5ON"
      },
      "outputs": [],
      "source": [
        "# get the third element of the second row\n",
        "M[1][2]"
      ]
    },
    {
      "cell_type": "markdown",
      "metadata": {
        "id": "zxKZoFLE3S5w"
      },
      "source": [
        "#### 🗒 Exercise\n",
        "\n",
        "The target of this exercise is to create two lists called `x_list` and `y_list`, which contain 10 instances of the variables x and y, respectively. You are also required to create a list called `big_list`, which contains the variables `x` and `y`, 10 times each, by concatenating the two lists you have created."
      ]
    },
    {
      "cell_type": "code",
      "execution_count": null,
      "metadata": {
        "id": "XsvLsgJd3ohx"
      },
      "outputs": [],
      "source": [
        "x = object()\n",
        "y = object()\n",
        "\n",
        "# TODO: change this code\n",
        "x_list = [x]\n",
        "y_list = [y]\n",
        "big_list = []\n",
        "\n",
        "print(\"x_list contains %d objects\" % len(x_list))\n",
        "print(\"y_list contains %d objects\" % len(y_list))\n",
        "print(\"big_list contains %d objects\" % len(big_list))\n",
        "\n",
        "# testing code\n",
        "if x_list.count(x) == 10 and y_list.count(y) == 10:\n",
        "    print(\"Almost there...\")\n",
        "if big_list.count(x) == 10 and big_list.count(y) == 10:\n",
        "    print(\"Great!\")"
      ]
    },
    {
      "cell_type": "markdown",
      "metadata": {
        "id": "wwX5agJz2eu5"
      },
      "source": [
        "### String operators\n",
        "\n",
        "Python supports concatenating strings using the addition operator:"
      ]
    },
    {
      "cell_type": "code",
      "execution_count": null,
      "metadata": {
        "id": "C9JriQEI2o05"
      },
      "outputs": [],
      "source": [
        "helloworld = \"hello\" + \" \" + \"world\"\n",
        "print(helloworld)"
      ]
    },
    {
      "cell_type": "markdown",
      "metadata": {
        "id": "Kf561pd-243Q"
      },
      "source": [
        "Python also supports multiplying strings to form a string with a repeating sequence:"
      ]
    },
    {
      "cell_type": "code",
      "execution_count": null,
      "metadata": {
        "id": "ji0Knvo824Fm"
      },
      "outputs": [],
      "source": [
        "lotsofhellos = \"hello\" * 10\n",
        "print(lotsofhellos)"
      ]
    },
    {
      "cell_type": "markdown",
      "metadata": {
        "id": "TZc7k4ewM5OP"
      },
      "source": [
        "**Note that strings are list of characters**"
      ]
    },
    {
      "cell_type": "code",
      "execution_count": null,
      "metadata": {
        "id": "w5o9STG4M5OP"
      },
      "outputs": [],
      "source": [
        "s = \"abcde\""
      ]
    },
    {
      "cell_type": "code",
      "execution_count": null,
      "metadata": {
        "id": "4MG8GympM5OQ"
      },
      "outputs": [],
      "source": [
        "s[0]"
      ]
    },
    {
      "cell_type": "code",
      "execution_count": null,
      "metadata": {
        "id": "-Qra0ykhM5OQ"
      },
      "outputs": [],
      "source": [
        "s[::-1]"
      ]
    },
    {
      "cell_type": "code",
      "execution_count": null,
      "metadata": {
        "id": "yTDtIS7OM5OS"
      },
      "outputs": [],
      "source": [
        "s + \" hello\""
      ]
    },
    {
      "cell_type": "markdown",
      "metadata": {
        "id": "ERR6PCqN7FFd"
      },
      "source": [
        "## Conditions\n",
        "> Conditions are used to control the flow of a program based on whether a certain condition is true or false\n",
        "\n",
        "*   Conditions are created using comparison operators such as \"equals to\" (==), \"less than\" (<), and \"greater than\" (>).\n",
        "*   These operators compare two values and return a Boolean value (True or False) indicating whether the comparison is true or false.\n",
        "*   Conditions are commonly used in if statements, which allow for conditional execution of code based on the result of a condition.\n",
        "*   For example, if the condition is true, the code inside the if statement will be executed, and if the condition is false, the code inside the if statement will be skipped."
      ]
    },
    {
      "cell_type": "markdown",
      "metadata": {
        "id": "OuV9R_ol7FCT"
      },
      "source": [
        "Python uses boolean logic to evaluate conditions. The boolean values True and False are returned when an expression is compared or evaluated. For example:"
      ]
    },
    {
      "cell_type": "code",
      "execution_count": null,
      "metadata": {
        "id": "vjpkNaYT-YDX"
      },
      "outputs": [],
      "source": [
        "x = 2\n",
        "print(x == 2) # prints out True\n",
        "print(x == 3) # prints out False\n",
        "print(x < 3) # prints out True"
      ]
    },
    {
      "cell_type": "markdown",
      "metadata": {
        "id": "HiBHdDy2_RWi"
      },
      "source": [
        "Notice that variable assignment is done using a single equals operator \"=\", whereas comparison between two variables is done using the double equals operator \"==\". The \"not equals\" operator is marked as \"!=\"."
      ]
    },
    {
      "cell_type": "markdown",
      "metadata": {
        "id": "BvQsoc1k_ow8"
      },
      "source": [
        "### Boolean operators\n",
        "\n",
        "The \"and\" and \"or\" boolean operators allow building complex boolean expressions, for example:"
      ]
    },
    {
      "cell_type": "code",
      "execution_count": null,
      "metadata": {
        "id": "Tq5VY18S_Skr"
      },
      "outputs": [],
      "source": [
        "name = \"John\"\n",
        "age = 23\n",
        "if name == \"John\" and age == 23:\n",
        "    print(\"Your name is John, and you are also 23 years old.\")\n",
        "\n",
        "if name == \"John\" or name == \"Rick\":\n",
        "    print(\"Your name is either John or Rick.\")"
      ]
    },
    {
      "cell_type": "markdown",
      "metadata": {
        "id": "4r99_Rj_BZqa"
      },
      "source": [
        "### The \"not\" operator\n",
        "\n",
        "Using \"not\" before a boolean expression inverts it:"
      ]
    },
    {
      "cell_type": "code",
      "execution_count": null,
      "metadata": {
        "id": "vIIbCsYoBxAT"
      },
      "outputs": [],
      "source": [
        "print(not False) # Prints out True\n",
        "print((not False) == (False)) # Prints out False"
      ]
    },
    {
      "cell_type": "markdown",
      "metadata": {
        "id": "-tsKDh0uACd-"
      },
      "source": [
        "### The \"in\" operator\n",
        "\n",
        "The \"in\" operator could be used to check if a specified object exists within an iterable object container, such as a list:"
      ]
    },
    {
      "cell_type": "code",
      "execution_count": null,
      "metadata": {
        "id": "_XcidSSpAGqg"
      },
      "outputs": [],
      "source": [
        "name = \"John\"\n",
        "if name in [\"John\", \"Rick\"]:\n",
        "    print(\"Your name is either John or Rick.\")"
      ]
    },
    {
      "cell_type": "markdown",
      "metadata": {
        "id": "hC1W3cu-07Ub"
      },
      "source": [
        "### Code blocks and indentation\n",
        "\n",
        "> A code block is a section of code that is grouped together and executed as a single unit\n",
        "\n",
        "Code blocks are used to group related statements and control the flow of the program. In many programming languages, code blocks are defined using braces, parentheses, or keywords like \"begin\" and \"end.\" However, in Python, code blocks are defined using indentation. The standard indentation requires standard Python code to use four spaces."
      ]
    },
    {
      "cell_type": "code",
      "execution_count": null,
      "metadata": {
        "id": "A6h4TlDu1tU2"
      },
      "outputs": [],
      "source": [
        "x = 1\n",
        "if x == 1:\n",
        "    # indented four spaces\n",
        "    print(\"x is 1\")"
      ]
    },
    {
      "cell_type": "markdown",
      "metadata": {
        "id": "Uzz6CVwlCSD7"
      },
      "source": [
        "#### 🗒 Exercise\n",
        "\n",
        "Change the variables in the first section, so that each if statement resolves as True."
      ]
    },
    {
      "cell_type": "code",
      "execution_count": null,
      "metadata": {
        "id": "g-2I4QK51t6G"
      },
      "outputs": [],
      "source": [
        "# change this code\n",
        "number = 10\n",
        "second_number = 10\n",
        "first_array = []\n",
        "second_array = [1,2,3]\n",
        "\n",
        "if number > 15:\n",
        "    print(\"1\")\n",
        "\n",
        "if first_array:\n",
        "    print(\"2\")\n",
        "\n",
        "if len(second_array) == 2:\n",
        "    print(\"3\")\n",
        "\n",
        "if len(first_array) + len(second_array) == 5:\n",
        "    print(\"4\")\n",
        "\n",
        "if first_array and first_array[0] == 1:\n",
        "    print(\"5\")\n",
        "\n",
        "if not second_number:\n",
        "    print(\"6\")"
      ]
    },
    {
      "cell_type": "markdown",
      "metadata": {
        "id": "oagOcD9sFZBi"
      },
      "source": [
        "## Loops ♻\n",
        "\n",
        "There are two types of loops in Python, for and while."
      ]
    },
    {
      "cell_type": "markdown",
      "metadata": {
        "id": "8sfjY6PWFZb5"
      },
      "source": [
        "### The \"for\" loop\n",
        "\n",
        "For loops iterate over a given sequence. Here is an example:"
      ]
    },
    {
      "cell_type": "code",
      "execution_count": null,
      "metadata": {
        "id": "T2A21QprDMDg"
      },
      "outputs": [],
      "source": [
        "primes = [2, 3, 5, 7]\n",
        "for prime in primes:\n",
        "    print(prime)"
      ]
    },
    {
      "cell_type": "markdown",
      "metadata": {
        "id": "DO4HUrYzFlxM"
      },
      "source": [
        "For loops can iterate over a sequence of numbers using the \"range\" function. Note that the range function is zero based."
      ]
    },
    {
      "cell_type": "code",
      "execution_count": null,
      "metadata": {
        "id": "32f3d1RdFw2N"
      },
      "outputs": [],
      "source": [
        "# Prints out the numbers 0,1,2,3,4\n",
        "for x in range(5):\n",
        "    print(x)\n",
        "\n",
        "# Prints out 3,4,5\n",
        "for x in range(3, 6):\n",
        "    print(x)\n",
        "\n",
        "# # Prints out 3,5,7\n",
        "for x in range(3, 8, 2):\n",
        "    print(x)"
      ]
    },
    {
      "cell_type": "markdown",
      "metadata": {
        "id": "iaTnB8J4Fv_n"
      },
      "source": [
        "### \"while\" loops\n",
        "\n",
        "While loops repeat as long as a certain boolean condition is met. For example:"
      ]
    },
    {
      "cell_type": "code",
      "execution_count": null,
      "metadata": {
        "id": "_8dP8vDrGL89"
      },
      "outputs": [],
      "source": [
        "# Prints out 0,1,2,3,4\n",
        "\n",
        "count = 0\n",
        "while count < 5:\n",
        "    print(count)\n",
        "    count += 1  # This is the same as count = count + 1"
      ]
    },
    {
      "cell_type": "markdown",
      "metadata": {
        "id": "oOBRNAJ-I_79"
      },
      "source": [
        "### 🧗 \"break\" and \"continue\" statements\n",
        "\n",
        "break is used to exit a for loop or a while loop, whereas continue is used to skip the current block, and return to the \"for\" or \"while\" statement. A few examples:"
      ]
    },
    {
      "cell_type": "code",
      "execution_count": null,
      "metadata": {
        "id": "BbKgRczKGPFE"
      },
      "outputs": [],
      "source": [
        "# Prints out 0,1,2,3,4\n",
        "\n",
        "count = 0\n",
        "while True:\n",
        "    print(count)\n",
        "    count += 1\n",
        "    if count >= 5:\n",
        "        break\n",
        "\n",
        "# Prints out only odd numbers - 1,3,5,7,9\n",
        "for x in range(10):\n",
        "    # Check if x is even\n",
        "    if x % 2 == 0:\n",
        "        continue\n",
        "    print(x)"
      ]
    },
    {
      "cell_type": "markdown",
      "metadata": {
        "id": "Vz67DtAtJU49"
      },
      "source": [
        "#### 🗒 Exercise\n",
        "\n",
        "Loop through and print out all even numbers from the numbers list in the same order they are received. Don't print any numbers that come after 237 in the sequence."
      ]
    },
    {
      "cell_type": "code",
      "execution_count": null,
      "metadata": {
        "id": "dNledI9TJD90"
      },
      "outputs": [],
      "source": [
        "numbers = [\n",
        "    951, 402, 984, 651, 360, 69, 408, 319, 601, 485, 980, 507, 725, 547, 544,\n",
        "    615, 83, 165, 141, 501, 263, 617, 865, 575, 219, 390, 984, 592, 236, 105, 942, 941,\n",
        "    386, 462, 47, 418, 907, 344, 236, 375, 823, 566, 597, 978, 328, 615, 953, 345,\n",
        "    399, 162, 758, 219, 918, 237, 412, 566, 826, 248, 866, 950, 626, 949, 687, 217,\n",
        "    815, 67, 104, 58, 512, 24, 892, 894, 767, 553, 81, 379, 843, 831, 445, 742, 717,\n",
        "    958, 609, 842, 451, 688, 753, 854, 685, 93, 857, 440, 380, 126, 721, 328, 753, 470,\n",
        "    743, 527\n",
        "]\n",
        "\n",
        "# your code goes here\n",
        "for number in numbers:"
      ]
    },
    {
      "cell_type": "markdown",
      "metadata": {
        "id": "Brt2eed3J1bf"
      },
      "source": [
        "## Functions\n",
        "\n",
        "What are Functions?\n",
        "\n",
        "> Functions are a convenient way to divide your code into useful blocks, allowing us to order our code, make it more readable, reuse it and save some time. Also functions are a key way to define interfaces so programmers can share their code.\n",
        "\n",
        "How do you write functions in Python?\n",
        "\n",
        "> As we have previously seen, Python makes use of blocks.\n",
        "\n",
        "A block is a area of code written in the format of:\n",
        "```\n",
        "block_head:\n",
        "    1st block line\n",
        "    2nd block line\n",
        "    ...\n",
        "```\n",
        "Where a block line is more Python code (even another block), and the block head is of the following format:\n",
        "```\n",
        "block_keyword block_name(argument1, argument2, ...)\n",
        "```\n",
        "Block keywords you already know are \"if\", \"for\", and \"while\".\n",
        "\n",
        "Functions in python are defined using the block keyword \"def\", followed with the function's name as the block's name. For example:"
      ]
    },
    {
      "cell_type": "code",
      "execution_count": null,
      "metadata": {
        "id": "1_6tmsnbKebM"
      },
      "outputs": [],
      "source": [
        "def my_function():\n",
        "    print(\"Hello From My Function!\")"
      ]
    },
    {
      "cell_type": "markdown",
      "metadata": {
        "id": "Dd0gGG4YLtZz"
      },
      "source": [
        "Functions may also receive arguments (variables passed from the caller to the function). For example:"
      ]
    },
    {
      "cell_type": "code",
      "execution_count": null,
      "metadata": {
        "id": "NoRd4pS0Lc1J"
      },
      "outputs": [],
      "source": [
        "def my_function_with_args(username, greeting):\n",
        "    print(\"Hello, %s , From My Function!, I wish you %s\"%(username, greeting))"
      ]
    },
    {
      "cell_type": "markdown",
      "metadata": {
        "id": "n0Wl63JnMyN0"
      },
      "source": [
        "Functions may return a value to the caller, using the keyword 'return' . For example:"
      ]
    },
    {
      "cell_type": "code",
      "execution_count": null,
      "metadata": {
        "id": "-NhY6BTmM0YF"
      },
      "outputs": [],
      "source": [
        "def sum_two_numbers(a, b):\n",
        "    return a + b"
      ]
    },
    {
      "cell_type": "markdown",
      "metadata": {
        "id": "2eCCDUOAM4wK"
      },
      "source": [
        "### How do you call functions in Python?\n",
        "\n",
        "Simply write the function's name followed by (), placing any required arguments within the brackets. For example, let's call the functions written above (in the previous example):"
      ]
    },
    {
      "cell_type": "code",
      "execution_count": null,
      "metadata": {
        "id": "gICYMw3xNQLD"
      },
      "outputs": [],
      "source": [
        "# Define our 3 functions\n",
        "def my_function():\n",
        "    print(\"Hello From My Function!\")\n",
        "\n",
        "def my_function_with_args(username, greeting):\n",
        "    print(\"Hello, %s, From My Function!, I wish you %s\"%(username, greeting))\n",
        "\n",
        "def sum_two_numbers(a, b):\n",
        "    return a + b\n",
        "\n",
        "# print(a simple greeting)\n",
        "my_function()\n",
        "\n",
        "#prints - \"Hello, John Doe, From My Function!, I wish you a great year!\"\n",
        "my_function_with_args(\"John Doe\", \"a great year!\")\n",
        "\n",
        "# after this line x will hold the value 3!\n",
        "x = sum_two_numbers(1,2)"
      ]
    },
    {
      "cell_type": "code",
      "execution_count": null,
      "metadata": {
        "id": "iYy7dhApn4jE"
      },
      "outputs": [],
      "source": [
        "print(x)"
      ]
    },
    {
      "cell_type": "markdown",
      "metadata": {
        "id": "EpMDL8sNM5Od"
      },
      "source": [
        "### 🤓 Default parameter values"
      ]
    },
    {
      "cell_type": "code",
      "execution_count": null,
      "metadata": {
        "id": "ffhpuPDjM5Od"
      },
      "outputs": [],
      "source": [
        "# In the function call, a parameter is optional if a default value is set\n",
        "# in the header of the function\n",
        "\n",
        "def test_default_parameters(param1, param2 = \"_1\", param3 = \"_2\", param4 = \"_3\"):\n",
        "    print(param1, param2, param3, param4)\n",
        "\n",
        "test_default_parameters(0)\n",
        "test_default_parameters(0,1,2,3)"
      ]
    },
    {
      "cell_type": "code",
      "execution_count": null,
      "metadata": {
        "id": "nWQ_1A0dM5Od"
      },
      "outputs": [],
      "source": [
        "# Using the key=value syntax, the parameters can be given out of order\n",
        "\n",
        "test_default_parameters(param1 = 0, param2 = 1, param3 = 2, param4 = 3)\n",
        "test_default_parameters(param1 = 0, param4 = 3)\n",
        "test_default_parameters(param4 = 3, param1 = 0)"
      ]
    },
    {
      "cell_type": "markdown",
      "metadata": {
        "id": "OSMJ_HHeNcJN"
      },
      "source": [
        "#### 🗒 Exercise\n",
        "\n",
        "In this exercise you'll use an existing function, and adding your own to create a fully functional program.\n",
        "\n",
        "1. Add a function named `list_benefits()` that returns the following list of strings: \"More organized code\", \"More readable code\", \"Easier code reuse\", \"Allowing programmers to share and connect code together\"\n",
        "2. Add a function named `build_sentence(info)` which receives a single argument containing a string and returns a sentence starting with the given string and ending with the string \" is a benefit of functions!\"\n",
        "3. Run and see all the functions work together!"
      ]
    },
    {
      "cell_type": "code",
      "execution_count": null,
      "metadata": {
        "id": "OmZHWLRgNT-v"
      },
      "outputs": [],
      "source": [
        "# Modify this function to return a list of strings as defined above\n",
        "def list_benefits():\n",
        "    return []\n",
        "\n",
        "# Modify this function to concatenate to each benefit - \" is a benefit of functions!\"\n",
        "def build_sentence(benefit):\n",
        "    return \"\"\n",
        "\n",
        "def name_the_benefits_of_functions():\n",
        "    list_of_benefits = list_benefits()\n",
        "    for benefit in list_of_benefits:\n",
        "        print(build_sentence(benefit))\n",
        "\n",
        "name_the_benefits_of_functions()"
      ]
    },
    {
      "cell_type": "markdown",
      "metadata": {
        "id": "OUy_mPn4ivSF"
      },
      "source": [
        "## Dictionaries\n",
        "\n",
        "A dictionary is a data type similar to arrays, but works with keys and values instead of indexes. Each value stored in a dictionary can be accessed using a key, which is any type of object (a string, a number, a list, etc.) instead of using its index to address it.\n",
        "\n",
        "For example, a database of phone numbers could be stored using a dictionary like this:"
      ]
    },
    {
      "cell_type": "code",
      "execution_count": null,
      "metadata": {
        "id": "Yp5em6lXYHyA"
      },
      "outputs": [],
      "source": [
        "phonebook = {}\n",
        "phonebook[\"John\"] = 938477566\n",
        "phonebook[\"Jack\"] = 938377264\n",
        "phonebook[\"Jill\"] = 947662781\n",
        "print(phonebook)"
      ]
    },
    {
      "cell_type": "markdown",
      "metadata": {
        "id": "drtPUf9xi4g4"
      },
      "source": [
        "Alternatively, a dictionary can be initialized with the same values in the following notation:"
      ]
    },
    {
      "cell_type": "code",
      "execution_count": null,
      "metadata": {
        "id": "9KHbJFwdi1Iv"
      },
      "outputs": [],
      "source": [
        "phonebook = {\n",
        "    \"John\" : 938477566,\n",
        "    \"Jack\" : 938377264,\n",
        "    \"Jill\" : 947662781\n",
        "}\n",
        "print(phonebook)"
      ]
    },
    {
      "cell_type": "markdown",
      "metadata": {
        "id": "v2jFuyVFjBo_"
      },
      "source": [
        "### Iterating over dictionaries\n",
        "\n",
        "Dictionaries can be iterated over, just like a list. However, a dictionary, unlike a list, does not keep the order of the values stored in it. To iterate over key value pairs, use the following syntax:\n"
      ]
    },
    {
      "cell_type": "code",
      "execution_count": null,
      "metadata": {
        "id": "5y6lhzvFi6hS"
      },
      "outputs": [],
      "source": [
        "phonebook = {\"John\" : 938477566,\"Jack\" : 938377264,\"Jill\" : 947662781}\n",
        "for name, number in phonebook.items():\n",
        "    print(\"Phone number of %s is %d\" % (name, number))"
      ]
    },
    {
      "cell_type": "markdown",
      "metadata": {
        "id": "544O_yAKjGQw"
      },
      "source": [
        "### Removing a value\n",
        "\n",
        "To remove a specified index, use either one of the following notations:"
      ]
    },
    {
      "cell_type": "code",
      "execution_count": null,
      "metadata": {
        "id": "yPBU9PDijJMn"
      },
      "outputs": [],
      "source": [
        "phonebook = {\n",
        "   \"John\" : 938477566,\n",
        "   \"Jack\" : 938377264,\n",
        "   \"Jill\" : 947662781\n",
        "}\n",
        "del phonebook[\"John\"]\n",
        "print(phonebook)"
      ]
    },
    {
      "cell_type": "markdown",
      "metadata": {
        "id": "MqGoAB5ejNLy"
      },
      "source": [
        "or:"
      ]
    },
    {
      "cell_type": "code",
      "execution_count": null,
      "metadata": {
        "id": "NJCIo6G_jK3F"
      },
      "outputs": [],
      "source": [
        "phonebook = {\n",
        "   \"John\" : 938477566,\n",
        "   \"Jack\" : 938377264,\n",
        "   \"Jill\" : 947662781\n",
        "}\n",
        "phonebook.pop(\"John\")\n",
        "print(phonebook)"
      ]
    },
    {
      "cell_type": "markdown",
      "metadata": {
        "id": "9HAQB3BGM5Oj"
      },
      "source": [
        "### Test if a key is in a dictionary"
      ]
    },
    {
      "cell_type": "code",
      "execution_count": null,
      "metadata": {
        "id": "th3vBwf1M5Ok"
      },
      "outputs": [],
      "source": [
        "'John' in phonebook"
      ]
    },
    {
      "cell_type": "markdown",
      "metadata": {
        "id": "IQBfRCEtjTD5"
      },
      "source": [
        "#### 🗒 Exercise\n",
        "\n",
        "Add \"Jake\" to the phonebook with the phone number 938273443, and remove Jill from the phonebook."
      ]
    },
    {
      "cell_type": "code",
      "execution_count": null,
      "metadata": {
        "id": "UPStyZFojPtb"
      },
      "outputs": [],
      "source": [
        "phonebook = {\n",
        "    \"John\" : 938477566,\n",
        "    \"Jack\" : 938377264,\n",
        "    \"Jill\" : 947662781\n",
        "}\n",
        "# your code goes here\n",
        "\n",
        "# testing code\n",
        "if \"Jake\" in phonebook:\n",
        "    print(\"Jake is listed in the phonebook.\")\n",
        "\n",
        "if \"Jill\" not in phonebook:\n",
        "    print(\"Jill is not listed in the phonebook.\")"
      ]
    },
    {
      "cell_type": "markdown",
      "metadata": {
        "id": "cxXU8GZ4OStj"
      },
      "source": [
        "## 🧗 Classes and Objects\n",
        "\n",
        "Objects are an encapsulation of variables and functions into a single entity. Objects get their variables and functions from classes. Classes are essentially a template to create your objects.\n",
        "\n",
        "A very basic class would look something like this:"
      ]
    },
    {
      "cell_type": "code",
      "execution_count": null,
      "metadata": {
        "id": "l5ofXH3eOOpl"
      },
      "outputs": [],
      "source": [
        "class MyClass:\n",
        "    variable = \"blah\"\n",
        "\n",
        "    def function(self):\n",
        "        print(\"This is a message inside the class.\")"
      ]
    },
    {
      "cell_type": "markdown",
      "metadata": {
        "id": "GAiAHu7eOTDH"
      },
      "source": [
        "We'll explain why you have to include that \"self\" as a parameter a little bit later. First, to assign the above class (template) to an object you would do the following:"
      ]
    },
    {
      "cell_type": "code",
      "execution_count": null,
      "metadata": {
        "id": "fR8gfUHLOVZ0"
      },
      "outputs": [],
      "source": [
        "class MyClass:\n",
        "    variable = \"blah\"\n",
        "\n",
        "    def function(self):\n",
        "        print(\"This is a message inside the class.\")\n",
        "\n",
        "myobjectx = MyClass()"
      ]
    },
    {
      "cell_type": "markdown",
      "metadata": {
        "id": "g_axPal0NPZL"
      },
      "source": [
        "Now the variable \"myobjectx\" holds an object of the class \"MyClass\" that contains the variable and the function defined within the class called \"MyClass\"."
      ]
    },
    {
      "cell_type": "markdown",
      "metadata": {
        "id": "zFfy65dKOsns"
      },
      "source": [
        "### Accessing Object Variables\n",
        "\n",
        "To access the variable inside of the newly created object \"myobjectx\" you would do the following:"
      ]
    },
    {
      "cell_type": "code",
      "execution_count": null,
      "metadata": {
        "id": "GkQv-pz5OvoA"
      },
      "outputs": [],
      "source": [
        "class MyClass:\n",
        "    variable = \"blah\"\n",
        "\n",
        "    def function(self):\n",
        "        print(\"This is a message inside the class.\")\n",
        "\n",
        "myobjectx = MyClass()\n",
        "\n",
        "print(myobjectx.variable)"
      ]
    },
    {
      "cell_type": "markdown",
      "metadata": {
        "id": "NCv7iR_3O93t"
      },
      "source": [
        "You can create multiple different objects that are of the same class (have the same variables and functions defined). However, each object contains independent copies of the variables defined in the class. For instance, if we were to define another object with the \"MyClass\" class and then change the string in the variable above:"
      ]
    },
    {
      "cell_type": "code",
      "execution_count": null,
      "metadata": {
        "id": "1gdcap9xPU8A"
      },
      "outputs": [],
      "source": [
        "class MyClass:\n",
        "    variable = \"blah\"\n",
        "\n",
        "    def function(self):\n",
        "        print(\"This is a message inside the class.\")\n",
        "\n",
        "myobjectx = MyClass()\n",
        "myobjecty = MyClass()\n",
        "\n",
        "myobjecty.variable = \"yackity\"\n",
        "\n",
        "# Then print out both values\n",
        "print(myobjectx.variable)\n",
        "print(myobjecty.variable)"
      ]
    },
    {
      "cell_type": "markdown",
      "metadata": {
        "id": "U3wOqhXtPdde"
      },
      "source": [
        "### Accessing Object Functions\n",
        "\n",
        "To access a function inside of an object you use notation similar to accessing a variable:"
      ]
    },
    {
      "cell_type": "code",
      "execution_count": null,
      "metadata": {
        "id": "g-1kwmxZPcKY"
      },
      "outputs": [],
      "source": [
        "class MyClass:\n",
        "    variable = \"blah\"\n",
        "\n",
        "    def function(self):\n",
        "        print(\"This is a message inside the class.\")\n",
        "\n",
        "myobjectx = MyClass()\n",
        "\n",
        "myobjectx.function()"
      ]
    },
    {
      "cell_type": "markdown",
      "metadata": {
        "id": "oBLQEdsmPlaP"
      },
      "source": [
        "### init()\n",
        "\n",
        "The `__init__()` function, is a special function that is called when the class is being initiated. It's used for assigning values in a class."
      ]
    },
    {
      "cell_type": "code",
      "execution_count": null,
      "metadata": {
        "id": "K96CIRLzPsLS"
      },
      "outputs": [],
      "source": [
        "class NumberHolder:\n",
        "\n",
        "   def __init__(self, number):\n",
        "       self.number = number\n",
        "\n",
        "   def returnNumber(self):\n",
        "       return self.number\n",
        "\n",
        "var = NumberHolder(7)\n",
        "print(var.returnNumber()) #Prints '7'"
      ]
    },
    {
      "cell_type": "markdown",
      "metadata": {
        "id": "D5TJcky-Rzbg"
      },
      "source": [
        "### 🤓 Why classes and objects?\n",
        "\n",
        "Object-oriented programming (OOP - the use of classes and objects) is useful **because it allows programmers to organize code in a modular and reusable way**.\n",
        "\n",
        "In OOP, code is organized around objects, which are instances of classes. Each object has its own properties and methods that define its behavior. This allows us to encapsulate related data and functionality into a single unit, making the code easier to understand, maintain, and modify.\n",
        "In addition, OOP allows for inheritance, which means that we can create a new class that inherits properties and methods from an existing class. This can save time and reduce code duplication, as we can reuse the functionality of an existing class and then customize it as needed in the new class.\n",
        "\n",
        "One note up front: in Python, OOP is entirely optional, and you don’t need to use classes just to get started. You can get plenty of work done with simpler constructs such as functions, or even simple top-level script code. Because using classes well requires some up-front planning, they tend to be of more interest to people who work in strategic mode (doing long-term product development) than to people who work in tactical mode (where time is in very short supply). Still, classes turn out to be one of the most useful tools Python provides. When used well, classes can actually cut development time radically."
      ]
    },
    {
      "cell_type": "markdown",
      "metadata": {
        "id": "tWJTP0ObQUKQ"
      },
      "source": [
        "### A real-world example\n",
        "Let's say we want to create a program to represent cars. We can use classes and objects to do this.\n",
        "\n",
        "First, we create a class called \"Car\" that defines the properties and methods of a car. This class might have properties like \"make\", \"model\", and \"color\", as well as methods like \"start_engine\" and \"stop_engine\"."
      ]
    },
    {
      "cell_type": "code",
      "execution_count": null,
      "metadata": {
        "id": "NAeUi1RFOT1i"
      },
      "outputs": [],
      "source": [
        "class Car:\n",
        "    def __init__(self, make, model, color):\n",
        "        self.make = make\n",
        "        self.model = model\n",
        "        self.color = color\n",
        "        self.engine_running = False\n",
        "\n",
        "    def start_engine(self):\n",
        "        if not self.engine_running:\n",
        "            self.engine_running = True\n",
        "            print(\"Engine started.\")\n",
        "        else:\n",
        "            print(\"Engine is already running.\")\n",
        "\n",
        "    def stop_engine(self):\n",
        "        if self.engine_running:\n",
        "            self.engine_running = False\n",
        "            print(\"Engine stopped.\")\n",
        "        else:\n",
        "            print(\"Engine is already stopped.\")"
      ]
    },
    {
      "cell_type": "markdown",
      "metadata": {
        "id": "7r67KIk3SzIF"
      },
      "source": [
        "\n",
        "Next, we can create an instance of the \"Car\" class, which we can think of as an individual car. This instance, or object, will have its own values for the properties defined in the \"Car\" class. For example, we might create an object called \"my_car\" that has a make of \"Toyota\", a model of \"Camry\", and a color of \"blue\"."
      ]
    },
    {
      "cell_type": "code",
      "execution_count": null,
      "metadata": {
        "id": "KoXACiBxS1J5"
      },
      "outputs": [],
      "source": [
        "# Create a new instance of the Car class\n",
        "my_car = Car(\"Toyota\", \"Camry\", \"blue\")"
      ]
    },
    {
      "cell_type": "markdown",
      "metadata": {
        "id": "SImoLeepTAp0"
      },
      "source": [
        "We can then call the methods defined in the \"Car\" class on the \"my_car\" object. For example, we might call the \"start_engine\" method on the \"my_car\" object to start its engine."
      ]
    },
    {
      "cell_type": "code",
      "execution_count": null,
      "metadata": {
        "id": "s74DsqpvTBnH"
      },
      "outputs": [],
      "source": [
        "# Call the start_engine method on the my_car object\n",
        "my_car.start_engine()"
      ]
    },
    {
      "cell_type": "markdown",
      "metadata": {
        "id": "AMs1PMtPTdIn"
      },
      "source": [
        "And we can also stop the engine!"
      ]
    },
    {
      "cell_type": "code",
      "execution_count": null,
      "metadata": {
        "id": "G35mW1MPTHBv"
      },
      "outputs": [],
      "source": [
        "# Call the stop_engine method on the my_car object\n",
        "my_car.stop_engine()"
      ]
    },
    {
      "cell_type": "markdown",
      "metadata": {
        "id": "YHKVUukITJTk"
      },
      "source": [
        "By using classes and objects, we can create multiple instances of the \"Car\" class, each with its own unique set of property values, and perform methods on each object individually. This allows us to create a program that can represent and manipulate multiple cars in a structured and organized way."
      ]
    },
    {
      "cell_type": "code",
      "execution_count": null,
      "metadata": {
        "id": "75rW4bM7Til2"
      },
      "outputs": [],
      "source": [
        "riccardos_car = Car(\"Fiat\", \"Punto\", \"Black\")"
      ]
    },
    {
      "cell_type": "markdown",
      "metadata": {
        "id": "fyJ5fH0wQDiL"
      },
      "source": [
        "#### 🗒 Exercise\n",
        "\n",
        "We have a class defined for vehicles. Create two new vehicles called car1 and car2. Set car1 to be a red convertible worth \\\\$ 60,000.00 with a name of Fer, and car2 to be a blue van named Jump worth $ 10,000.00."
      ]
    },
    {
      "cell_type": "code",
      "execution_count": null,
      "metadata": {
        "id": "axhRH07oQAl_"
      },
      "outputs": [],
      "source": [
        "# define the Vehicle class\n",
        "class Vehicle:\n",
        "    name = \"\"\n",
        "    kind = \"car\"\n",
        "    color = \"\"\n",
        "    value = 100.00\n",
        "    def description(self):\n",
        "        desc_str = \"%s is a %s %s worth $%.2f.\" % (self.name, self.color, self.kind, self.value)\n",
        "        return desc_str\n",
        "\n",
        "# your code goes here\n",
        "\n",
        "# test code\n",
        "print(car1.description())\n",
        "print(car2.description())"
      ]
    },
    {
      "cell_type": "markdown",
      "metadata": {
        "id": "C88_v5bWjjdp"
      },
      "source": [
        "## Basic String Operations\n",
        "\n",
        "Strings are bits of text. They can be defined as anything between quotes:"
      ]
    },
    {
      "cell_type": "code",
      "execution_count": null,
      "metadata": {
        "id": "R8F3eAixj8Z-"
      },
      "outputs": [],
      "source": [
        "astring = \"Hello world!\"\n",
        "astring2 = 'Hello world!'"
      ]
    },
    {
      "cell_type": "markdown",
      "metadata": {
        "id": "JN386AGukBBZ"
      },
      "source": [
        "The first thing you learned was printing a simple sentence, and this sentence was stored by Python as a string. However, instead of immediately printing strings out, we will explore the various things you can do to them. You can also use single quotes to assign a string. However, you will face problems if the value to be assigned itself contains single quotes. For example to assign the string in these bracket(single quotes are ' ') you need to use double quotes only like this"
      ]
    },
    {
      "cell_type": "code",
      "execution_count": null,
      "metadata": {
        "id": "O_CHh0UAj9vZ"
      },
      "outputs": [],
      "source": [
        "astring = \"Hello world!\"\n",
        "print(\"single quotes are ' '\")\n",
        "\n",
        "print(len(astring))"
      ]
    },
    {
      "cell_type": "markdown",
      "metadata": {
        "id": "qFddlXNPkF9q"
      },
      "source": [
        "That prints out 12, because \"Hello world!\" is 12 characters long, including punctuation and spaces."
      ]
    },
    {
      "cell_type": "code",
      "execution_count": null,
      "metadata": {
        "id": "oaXd2drnkDPf"
      },
      "outputs": [],
      "source": [
        "astring = \"Hello world!\"\n",
        "print(astring.index(\"o\"))"
      ]
    },
    {
      "cell_type": "markdown",
      "metadata": {
        "id": "U_qIYLkvkRVc"
      },
      "source": [
        "That prints out 4, because the location of the first occurrence of the letter \"o\" is 4 characters away from the first character. Notice how there are actually two o's in the phrase - this method only recognizes the first.\n",
        "\n",
        "But why didn't it print out 5? Isn't \"o\" the fifth character in the string? To make things more simple, Python (and most other programming languages) start things at 0 instead of 1. So the index of \"o\" is 4."
      ]
    },
    {
      "cell_type": "code",
      "execution_count": null,
      "metadata": {
        "id": "74xdesJ2kII_"
      },
      "outputs": [],
      "source": [
        "astring = \"Hello world!\"\n",
        "print(astring.count(\"l\"))"
      ]
    },
    {
      "cell_type": "markdown",
      "metadata": {
        "id": "OwkLGbuLkf_B"
      },
      "source": [
        "For those of you using silly fonts, that is a lowercase L, not a number one. This counts the number of l's in the string. Therefore, it should print 3."
      ]
    },
    {
      "cell_type": "code",
      "execution_count": null,
      "metadata": {
        "id": "iw8kvfRpkW1m"
      },
      "outputs": [],
      "source": [
        "astring = \"Hello world!\"\n",
        "print(astring[3:7])"
      ]
    },
    {
      "cell_type": "markdown",
      "metadata": {
        "id": "jfBTkq1ukxmd"
      },
      "source": [
        "This prints a slice of the string, starting at index 3, and ending at index 6. But why 6 and not 7? Again, most programming languages do this - it makes doing math inside those brackets easier.\n",
        "\n",
        "If you just have one number in the brackets, it will give you the single character at that index. If you leave out the first number but keep the colon, it will give you a slice from the start to the number you left in. If you leave out the second number, it will give you a slice from the first number to the end.\n",
        "\n",
        "You can even put negative numbers inside the brackets. They are an easy way of starting at the end of the string instead of the beginning. This way, -3 means \"3rd character from the end\"."
      ]
    },
    {
      "cell_type": "code",
      "execution_count": null,
      "metadata": {
        "id": "894-A2PIksry"
      },
      "outputs": [],
      "source": [
        "astring = \"Hello world!\"\n",
        "print(astring[3:7:2])"
      ]
    },
    {
      "cell_type": "markdown",
      "metadata": {
        "id": "y0qS2y9Wk9Qj"
      },
      "source": [
        "This prints the characters of string from 3 to 7 skipping one character. This is extended slice syntax. The general form is [start:stop:step]."
      ]
    },
    {
      "cell_type": "code",
      "execution_count": null,
      "metadata": {
        "id": "XxwNEUK2k12F"
      },
      "outputs": [],
      "source": [
        "astring = \"Hello world!\"\n",
        "print(astring[3:7])\n",
        "print(astring[3:7:1])"
      ]
    },
    {
      "cell_type": "markdown",
      "metadata": {
        "id": "kwCqWPnOlAl6"
      },
      "source": [
        "Note that both of them produce same output\n",
        "\n",
        "There is no function to reverse a string. But with the above mentioned type of slice syntax you can easily reverse a string like this"
      ]
    },
    {
      "cell_type": "code",
      "execution_count": null,
      "metadata": {
        "id": "Z58e_OA5k_z0"
      },
      "outputs": [],
      "source": [
        "astring = \"Hello world!\"\n",
        "print(astring[::-1])"
      ]
    },
    {
      "cell_type": "markdown",
      "metadata": {
        "id": "8KqQiTtflOXq"
      },
      "source": [
        "These make a new string with all letters converted to uppercase and lowercase, respectively."
      ]
    },
    {
      "cell_type": "code",
      "execution_count": null,
      "metadata": {
        "id": "sG6T5XABlGyl"
      },
      "outputs": [],
      "source": [
        "astring = \"Hello world!\"\n",
        "print(astring.upper())\n",
        "print(astring.lower())"
      ]
    },
    {
      "cell_type": "markdown",
      "metadata": {
        "id": "_IXkxuVGlR4D"
      },
      "source": [
        "This is used to determine whether the string starts with something or ends with something, respectively. The first one will print True, as the string starts with \"Hello\". The second one will print False, as the string certainly does not end with \"asdfasdfasdf\"."
      ]
    },
    {
      "cell_type": "code",
      "execution_count": null,
      "metadata": {
        "id": "7yoZO1MslO7L"
      },
      "outputs": [],
      "source": [
        "astring = \"Hello world!\"\n",
        "print(astring.startswith(\"Hello\"))\n",
        "print(astring.endswith(\"asdfasdfasdf\"))"
      ]
    },
    {
      "cell_type": "markdown",
      "metadata": {
        "id": "oYAgBou-lYup"
      },
      "source": [
        "This splits the string into a bunch of strings grouped together in a list. Since this example splits at a space, the first item in the list will be \"Hello\", and the second will be \"world!\"."
      ]
    },
    {
      "cell_type": "code",
      "execution_count": null,
      "metadata": {
        "id": "rR62uh2_lWkd"
      },
      "outputs": [],
      "source": [
        "astring = \"Hello world!\"\n",
        "afewwords = astring.split(\" \")"
      ]
    },
    {
      "cell_type": "markdown",
      "metadata": {
        "id": "Kue9Yh85ldO3"
      },
      "source": [
        "#### 🗒 Exercise\n",
        "\n",
        "Try to fix the code to print out the correct information by changing the string."
      ]
    },
    {
      "cell_type": "code",
      "execution_count": null,
      "metadata": {
        "id": "oUA2h5fSla7s"
      },
      "outputs": [],
      "source": [
        "s = \"Hey there! what should this string be?\"\n",
        "# Length should be 20\n",
        "print(\"Length of s = %d\" % len(s))\n",
        "\n",
        "# First occurrence of \"a\" should be at index 8\n",
        "print(\"The first occurrence of the letter a = %d\" % s.index(\"a\"))\n",
        "\n",
        "# Number of a's should be 2\n",
        "print(\"a occurs %d times\" % s.count(\"a\"))\n",
        "\n",
        "# Slicing the string into bits\n",
        "print(\"The first five characters are '%s'\" % s[:5]) # Start to 5\n",
        "print(\"The next five characters are '%s'\" % s[5:10]) # 5 to 10\n",
        "print(\"The thirteenth character is '%s'\" % s[12]) # Just number 12\n",
        "print(\"The characters with odd index are '%s'\" %s[1::2]) #(0-based indexing)\n",
        "print(\"The last five characters are '%s'\" % s[-5:]) # 5th-from-last to end\n",
        "\n",
        "# Convert everything to uppercase\n",
        "print(\"String in uppercase: %s\" % s.upper())\n",
        "\n",
        "# Convert everything to lowercase\n",
        "print(\"String in lowercase: %s\" % s.lower())\n",
        "\n",
        "# Check how a string starts\n",
        "if s.startswith(\"Str\"):\n",
        "    print(\"String starts with 'Str'. Good!\")\n",
        "\n",
        "# Check how a string ends\n",
        "if s.endswith(\"ome!\"):\n",
        "    print(\"String ends with 'ome!'. Good!\")\n",
        "\n",
        "# Split the string into three separate strings,\n",
        "# each containing only a word\n",
        "print(\"Split the words of the string: %s\" % s.split(\" \"))"
      ]
    },
    {
      "cell_type": "markdown",
      "metadata": {
        "id": "qFLKajvRlwJZ"
      },
      "source": [
        "## String Formatting\n",
        "\n",
        "In Python, you can format strings using the `str.format()` method or using f-strings (formatted string literals)."
      ]
    },
    {
      "cell_type": "markdown",
      "metadata": {
        "id": "UxqfKezTnlI3"
      },
      "source": [
        "### str.format()\n",
        "\n",
        "The str.format() method allows you to create a formatted string by inserting values into placeholders inside a string. The placeholders are represented by curly braces {} that can contain a field name, index or expression, depending on how you want to format the string.\n",
        "\n",
        "Here is an example of using str.format() method:"
      ]
    },
    {
      "cell_type": "code",
      "execution_count": null,
      "metadata": {
        "id": "nHr4CEGvlfdc"
      },
      "outputs": [],
      "source": [
        "name = 'John'\n",
        "age = 35\n",
        "print(\"My name is {} and I'm {} years old\".format(name, age))"
      ]
    },
    {
      "cell_type": "markdown",
      "metadata": {
        "id": "c2jJ_JyanIQ4"
      },
      "source": [
        "You can also specify the position of the arguments in the format string:"
      ]
    },
    {
      "cell_type": "code",
      "execution_count": null,
      "metadata": {
        "id": "bxIHFJctnDqg"
      },
      "outputs": [],
      "source": [
        "name = 'John'\n",
        "age = 35\n",
        "print(\"My name is {0} and I'm {1} years old. {0} is my name.\".format(name, age))"
      ]
    },
    {
      "cell_type": "markdown",
      "metadata": {
        "id": "9favj9mFn94e"
      },
      "source": [
        "To format the output of a string you need to use format specifiers. These are symbols placed inside curly braces {} and are used to specify how a particular value should be formatted.\n",
        "\n",
        "There are many different format specifiers available in Python, each with its own specific syntax and meaning.\n",
        "\n",
        "Some common ones include:\n",
        "*   **%d**: format specifier for integers\n",
        "*   **%f**: format specifier for floats\n",
        "*   **%s**: format specifier for strings\n",
        "*   **%e** or **%E**: format specifier for scientific notation\n",
        "*   **%x** or **%X**: format specifier for hexadecimal notation"
      ]
    },
    {
      "cell_type": "markdown",
      "metadata": {
        "id": "_IHxOQ14pZjW"
      },
      "source": [
        "Here are some examples of using format specifiers:\n",
        "\n",
        "For formatting floats, you can use the **f** format specifier:"
      ]
    },
    {
      "cell_type": "code",
      "execution_count": null,
      "metadata": {
        "id": "XH7rjHTzpdJ7"
      },
      "outputs": [],
      "source": [
        "# Formatting a float value\n",
        "num = 3.14159\n",
        "print(\"The value of pi is {:.2f}\".format(num))"
      ]
    },
    {
      "cell_type": "markdown",
      "metadata": {
        "id": "yh51wtwupf8n"
      },
      "source": [
        "The **:.2f** format specifier indicates that the value should be formatted as a float with 2 decimal places.\n",
        "\n",
        "For formatting strings, you can use the **s** format specifier:"
      ]
    },
    {
      "cell_type": "code",
      "execution_count": null,
      "metadata": {
        "id": "T-usWSjdpmah"
      },
      "outputs": [],
      "source": [
        "# Formatting a string value\n",
        "name = \"Alice\"\n",
        "print(\"Hello, {}!\".format(name))"
      ]
    },
    {
      "cell_type": "markdown",
      "metadata": {
        "id": "itAkRQhSppQm"
      },
      "source": [
        "Here, the default format specifier for a string is **s**, so you don't need to specify it explicitly.\n",
        "\n",
        "For formatting integers, you can use the **d** format specifier:"
      ]
    },
    {
      "cell_type": "code",
      "execution_count": null,
      "metadata": {
        "id": "7ffnX0pKpwSf"
      },
      "outputs": [],
      "source": [
        "# Formatting an integer value\n",
        "num = 42\n",
        "print(\"The answer is {:d}\".format(num))"
      ]
    },
    {
      "cell_type": "markdown",
      "metadata": {
        "id": "OtdBKLCNneZA"
      },
      "source": [
        "### f-strings\n",
        "Alternatively, you can use f-strings, which are a newer feature introduced in Python 3.6. F-strings allow you to embed expressions inside string literals, using curly braces {}. The expressions inside the braces are evaluated at runtime and the result is inserted into the string.\n",
        "\n",
        "Here is an example of using f-strings:"
      ]
    },
    {
      "cell_type": "code",
      "execution_count": null,
      "metadata": {
        "id": "z8XYhcjUnbGe"
      },
      "outputs": [],
      "source": [
        "name = 'John'\n",
        "age = 35\n",
        "print(f\"My name is {name} and I'm {age} years old\")"
      ]
    },
    {
      "cell_type": "markdown",
      "metadata": {
        "id": "tf1jv5XRqqAJ"
      },
      "source": [
        "You can also use format specifiers with f-strings to format the output of a string.\n",
        "\n",
        "To use format specifiers with f-strings, simply include them inside the curly braces {} after the variable name. For example, to format a float variable num with two decimal places, you can use the **:.2f** format specifier like this:"
      ]
    },
    {
      "cell_type": "code",
      "execution_count": null,
      "metadata": {
        "id": "ESNrxXvnnyFJ"
      },
      "outputs": [],
      "source": [
        "num = 3.14159\n",
        "print(f\"The value of pi is {num:.2f}\")\n",
        "# Output: The value of pi is 3.14"
      ]
    },
    {
      "cell_type": "markdown",
      "metadata": {
        "id": "TpWNTcZjM5PB"
      },
      "source": [
        "## 🧗 Scopes and Namespaces\n",
        "\n",
        "Scopes and namespaces are fundamental concepts in programming that help organize and manage the visibility and accessibility of variables, functions, and other identifiers within a program.\n",
        "\n",
        "### Scopes\n",
        "\n",
        "**Scope** refers to the region or context within a program where a variable or function is defined and accessible. There are different types of scopes in programming:\n",
        "- **Global scope**: variables declared in the global scope are accessible from anywhere in the program\n",
        "- **Local scope**: variables declared within a function or block are local to that function or block\n",
        "\n",
        "Scope came about because **early programming languages (like BASIC) only had global names**. With this kind of name, **any part of the program could modify any variable at any time**, so maintaining and debugging large programs could become a real nightmare. To work with global names, you’d need to keep all the code in mind at the same time to know what the value of a given name is at any time. This was an important side-effect of not having scopes.\n",
        "\n",
        "When you use a language that implements scope, there’s no way for you to access all the variables in a program at all locations in that program. In this case, your ability to access a given name will depend on where you’ve defined that name. Note: The term **name** to refer to the **identifiers of variables, constants, functions, classes, or any other object** that can be assigned a name.\n",
        "\n",
        "You can create Pyhon names through one of the following operations:\n",
        "- Assignments: `x = value`\n",
        "- Import operations: `import module`, `from module import name`\n",
        "- Function definitions: `def my_func(): ...`\n",
        "- Argument definitions in the context of functions: `def my_func(arg1, arg2, ..., argN): ...`\n",
        "- Class definitions: `class MyClass: ...`\n",
        "\n",
        "Python uses the location of the name assignment or definition to associate it with a particular scope. In other words, **where you assign or define a name in your code determines the scope or visibility of that name**.\n",
        "\n",
        "### Namespaces\n",
        "\n",
        "In Python, the concept of scope is closely related to the concept of the namespace. As you’ve learned so far, a Python scope determines where in your program a name is visible. **Python scopes are implemented as dictionaries that map names to objects**. These dictionaries are commonly called namespaces. These are the concrete mechanisms that Python uses to store names. They’re stored in a special attribute called `.__dict__`.\n",
        "\n",
        "**Names at the top level of a module are stored in the module’s namespace**. After you import sys, you can use `.keys()` to inspect the keys of `sys.__dict__`. This returns a list with all the names defined at the top level of the module."
      ]
    },
    {
      "cell_type": "code",
      "execution_count": null,
      "metadata": {
        "id": "qR0o4e9yM5PB",
        "outputId": "dcc252b0-3d01-4262-c9af-542820496284"
      },
      "outputs": [
        {
          "data": {
            "text/plain": [
              "dict_keys(['__name__', '__doc__', '__package__', '__loader__', '__spec__', 'addaudithook', 'audit', 'breakpointhook', '_clear_type_cache', '_current_frames', '_current_exceptions', 'displayhook', 'exception', 'exc_info', 'excepthook', 'exit', 'getdefaultencoding', 'getallocatedblocks', 'getfilesystemencoding', 'getfilesystemencodeerrors', '_getquickenedcount', 'getrefcount', 'getrecursionlimit', 'getsizeof', '_getframe', 'getwindowsversion', '_enablelegacywindowsfsencoding', 'intern', 'is_finalizing', 'setswitchinterval', 'getswitchinterval', 'setprofile', 'getprofile', 'setrecursionlimit', 'settrace', 'gettrace', 'call_tracing', '_debugmallocstats', 'set_coroutine_origin_tracking_depth', 'get_coroutine_origin_tracking_depth', 'set_asyncgen_hooks', 'get_asyncgen_hooks', 'unraisablehook', 'get_int_max_str_digits', 'set_int_max_str_digits', 'modules', 'stderr', '__stderr__', '__displayhook__', '__excepthook__', '__breakpointhook__', '__unraisablehook__', 'version', 'hexversion', '_git', '_framework', 'api_version', 'copyright', 'platform', 'maxsize', 'float_info', 'int_info', 'hash_info', 'maxunicode', 'builtin_module_names', 'stdlib_module_names', 'byteorder', 'dllhandle', 'winver', 'version_info', 'implementation', 'flags', '_vpath', 'float_repr_style', 'thread_info', 'meta_path', 'path_importer_cache', 'path_hooks', 'path', 'executable', '_base_executable', 'prefix', 'base_prefix', 'exec_prefix', 'base_exec_prefix', 'platlibdir', 'pycache_prefix', 'argv', 'orig_argv', 'warnoptions', '_xoptions', '_stdlib_dir', 'dont_write_bytecode', '__stdin__', 'stdin', '__stdout__', 'stdout', '_home', '__interactivehook__', 'ps1', 'ps2', 'ps3', 'last_type', 'last_value', 'last_traceback'])"
            ]
          },
          "execution_count": 4,
          "metadata": {},
          "output_type": "execute_result"
        }
      ],
      "source": [
        "import sys\n",
        "sys.__dict__.keys()"
      ]
    },
    {
      "cell_type": "code",
      "execution_count": null,
      "metadata": {
        "id": "kNGYazTPM5PE",
        "outputId": "69f2c521-05c7-4cfc-bdab-f2a8483a9beb"
      },
      "outputs": [
        {
          "data": {
            "text/plain": [
              "'3.11.5 | packaged by Anaconda, Inc. | (main, Sep 11 2023, 13:26:23) [MSC v.1916 64 bit (AMD64)]'"
            ]
          },
          "execution_count": 10,
          "metadata": {},
          "output_type": "execute_result"
        }
      ],
      "source": [
        "sys.version"
      ]
    },
    {
      "cell_type": "markdown",
      "metadata": {
        "id": "3Q9uR_S4M5PF"
      },
      "source": [
        "Whenever you use a name, such as a variable or a function name, Python searches through different scope levels (or namespaces) to determine whether the name exists or not. If the name exists, then you’ll always get the first occurrence of it. Otherwise, you’ll get an error. **Python resolves names using the so-called LEGB rule**. The letters in LEGB stand for **Local, Enclosing, Global, and Built-in**. Here’s a quick overview of what these terms mean:\n",
        "- **Local (or function) scope** is the body of any **Python function or lambda expression**. This Python scope contains the names that you define inside the function. It’s **created at function call**, not at function definition, so you’ll have as many different local scopes as function calls.\n",
        "- **Enclosing (or nonlocal) scope** is a special scope that only exists for nested functions. The enclosing scope is the scope of the outer (or enclosing) function and it **contains the names that you define in the enclosing function**. The names in the enclosing scope are **visible from the code of the inner and enclosing functions**.\n",
        "- **Global (or module) scope** is the top-most scope in a Python program, script, or module. This Python scope contains all of the names that you define at the top level of a program or a module.\n",
        "- **Built-in scope** is a special Python scope that’s created or loaded whenever you run a script or open an interactive session. This scope **contains names such as keywords, functions, exceptions, and other attributes that are built into Python**.\n",
        "\n",
        "The LEGB rule is a kind of name lookup procedure, which determines the order in which Python looks up names. For example, if you reference a given name, then **Python will look that name up sequentially in the local, enclosing, global, and built-in scope**."
      ]
    },
    {
      "cell_type": "markdown",
      "metadata": {
        "id": "jalgGGUdM5PG"
      },
      "source": [
        "You can inspect the names and parameters of a function using `.__code__`, which is an attribute that holds information on the function’s internal code. Take a look at the code below:"
      ]
    },
    {
      "cell_type": "code",
      "execution_count": null,
      "metadata": {
        "id": "USY4EqEcM5PH"
      },
      "outputs": [],
      "source": [
        "def square(base):\n",
        "    result = base ** 2\n",
        "    print(f'The square of {base} is: {result}')"
      ]
    },
    {
      "cell_type": "code",
      "execution_count": null,
      "metadata": {
        "id": "q8N63xtSM5PH",
        "outputId": "7efe074a-eb67-412d-cee0-b878c62eb5ff"
      },
      "outputs": [
        {
          "name": "stdout",
          "output_type": "stream",
          "text": [
            "('base', 'result')\n",
            "1\n",
            "(None, 2, 'The square of ', ' is: ')\n",
            "square\n"
          ]
        }
      ],
      "source": [
        "print(square.__code__.co_varnames)  # contains names defined inside the function\n",
        "\n",
        "print(square.__code__.co_argcount)\n",
        "\n",
        "print(square.__code__.co_consts)  # constants used inside the funtion (None is the returned value)\n",
        "\n",
        "print(square.__code__.co_name)"
      ]
    },
    {
      "cell_type": "markdown",
      "metadata": {
        "id": "nqykyW_mM5PI"
      },
      "source": [
        "All the names that you create in the enclosing scope are visible from inside the inner function, except for those created after you call the inner function."
      ]
    },
    {
      "cell_type": "code",
      "execution_count": null,
      "metadata": {
        "id": "CQhr-tqaM5PJ",
        "outputId": "5ea91bf9-32cc-4be2-8d53-e0f4ebac1a8e"
      },
      "outputs": [
        {
          "name": "stdout",
          "output_type": "stream",
          "text": [
            "Printing var from inner_func(): 100\n"
          ]
        },
        {
          "ename": "NameError",
          "evalue": "cannot access free variable 'another_var' where it is not associated with a value in enclosing scope",
          "output_type": "error",
          "traceback": [
            "\u001b[1;31m---------------------------------------------------------------------------\u001b[0m",
            "\u001b[1;31mNameError\u001b[0m                                 Traceback (most recent call last)",
            "Cell \u001b[1;32mIn[20], line 11\u001b[0m\n\u001b[0;32m      8\u001b[0m     another_var \u001b[38;5;241m=\u001b[39m \u001b[38;5;241m200\u001b[39m  \u001b[38;5;66;03m# This is defined after calling inner_func()\u001b[39;00m\n\u001b[0;32m      9\u001b[0m     \u001b[38;5;28mprint\u001b[39m(\u001b[38;5;124mf\u001b[39m\u001b[38;5;124m\"\u001b[39m\u001b[38;5;124mPrinting var from outer_func(): \u001b[39m\u001b[38;5;132;01m{\u001b[39;00mvar\u001b[38;5;132;01m}\u001b[39;00m\u001b[38;5;124m\"\u001b[39m)\n\u001b[1;32m---> 11\u001b[0m outer_func()\n",
            "Cell \u001b[1;32mIn[20], line 7\u001b[0m, in \u001b[0;36mouter_func\u001b[1;34m()\u001b[0m\n\u001b[0;32m      4\u001b[0m     \u001b[38;5;28mprint\u001b[39m(\u001b[38;5;124mf\u001b[39m\u001b[38;5;124m\"\u001b[39m\u001b[38;5;124mPrinting var from inner_func(): \u001b[39m\u001b[38;5;132;01m{\u001b[39;00mvar\u001b[38;5;132;01m}\u001b[39;00m\u001b[38;5;124m\"\u001b[39m)\n\u001b[0;32m      5\u001b[0m     \u001b[38;5;28mprint\u001b[39m(\u001b[38;5;124mf\u001b[39m\u001b[38;5;124m\"\u001b[39m\u001b[38;5;124mPrinting another_var from inner_func(): \u001b[39m\u001b[38;5;132;01m{\u001b[39;00manother_var\u001b[38;5;132;01m}\u001b[39;00m\u001b[38;5;124m\"\u001b[39m)\n\u001b[1;32m----> 7\u001b[0m inner_func()\n\u001b[0;32m      8\u001b[0m another_var \u001b[38;5;241m=\u001b[39m \u001b[38;5;241m200\u001b[39m  \u001b[38;5;66;03m# This is defined after calling inner_func()\u001b[39;00m\n\u001b[0;32m      9\u001b[0m \u001b[38;5;28mprint\u001b[39m(\u001b[38;5;124mf\u001b[39m\u001b[38;5;124m\"\u001b[39m\u001b[38;5;124mPrinting var from outer_func(): \u001b[39m\u001b[38;5;132;01m{\u001b[39;00mvar\u001b[38;5;132;01m}\u001b[39;00m\u001b[38;5;124m\"\u001b[39m)\n",
            "Cell \u001b[1;32mIn[20], line 5\u001b[0m, in \u001b[0;36mouter_func.<locals>.inner_func\u001b[1;34m()\u001b[0m\n\u001b[0;32m      3\u001b[0m \u001b[38;5;28;01mdef\u001b[39;00m \u001b[38;5;21minner_func\u001b[39m():\n\u001b[0;32m      4\u001b[0m     \u001b[38;5;28mprint\u001b[39m(\u001b[38;5;124mf\u001b[39m\u001b[38;5;124m\"\u001b[39m\u001b[38;5;124mPrinting var from inner_func(): \u001b[39m\u001b[38;5;132;01m{\u001b[39;00mvar\u001b[38;5;132;01m}\u001b[39;00m\u001b[38;5;124m\"\u001b[39m)\n\u001b[1;32m----> 5\u001b[0m     \u001b[38;5;28mprint\u001b[39m(\u001b[38;5;124mf\u001b[39m\u001b[38;5;124m\"\u001b[39m\u001b[38;5;124mPrinting another_var from inner_func(): \u001b[39m\u001b[38;5;132;01m{\u001b[39;00manother_var\u001b[38;5;132;01m}\u001b[39;00m\u001b[38;5;124m\"\u001b[39m)\n",
            "\u001b[1;31mNameError\u001b[0m: cannot access free variable 'another_var' where it is not associated with a value in enclosing scope"
          ]
        }
      ],
      "source": [
        "def outer_func():\n",
        "    var = 100\n",
        "    def inner_func():\n",
        "        print(f\"Printing var from inner_func(): {var}\")\n",
        "        print(f\"Printing another_var from inner_func(): {another_var}\")\n",
        "\n",
        "    inner_func()\n",
        "    another_var = 200  # This is defined after calling inner_func()\n",
        "    print(f\"Printing var from outer_func(): {var}\")\n",
        "\n",
        "outer_func()"
      ]
    },
    {
      "cell_type": "markdown",
      "metadata": {
        "id": "34YWkKSiM5PJ"
      },
      "source": [
        "From the moment you **start a Python program, you’re in the global Python scope**. Internally, Python turns your program’s main script into **a module called `__main__`** to hold the main program’s execution. When a Python module or package is imported, the `__name__` special variable is set to the module’s name. However, if the module is executed in the top-level code environment, its `__name__` is set to the string `__main__`."
      ]
    },
    {
      "cell_type": "code",
      "execution_count": null,
      "metadata": {
        "id": "LdkwRvVZM5PK",
        "outputId": "a951defb-463c-4313-d3a1-b48f057a6cfc"
      },
      "outputs": [
        {
          "data": {
            "text/plain": [
              "'__main__'"
            ]
          },
          "execution_count": 22,
          "metadata": {},
          "output_type": "execute_result"
        }
      ],
      "source": [
        "__name__"
      ]
    },
    {
      "cell_type": "markdown",
      "metadata": {
        "id": "ojiUfphGM5PK"
      },
      "source": [
        "To inspect the names within your main global scope, you can use `dir()`. If you call `dir()` without arguments, then you’ll get the list of names that live in your current global scope."
      ]
    },
    {
      "cell_type": "code",
      "execution_count": null,
      "metadata": {
        "id": "JrVfk6Y2M5PK",
        "outputId": "56f3a650-e8b3-44f1-9ea9-4ad819bd67b1"
      },
      "outputs": [
        {
          "data": {
            "text/plain": [
              "['In',\n",
              " 'Out',\n",
              " '_',\n",
              " '_10',\n",
              " '_12',\n",
              " '_13',\n",
              " '_14',\n",
              " '_21',\n",
              " '_22',\n",
              " '_4',\n",
              " '_5',\n",
              " '_6',\n",
              " '_7',\n",
              " '_8',\n",
              " '_9',\n",
              " '__',\n",
              " '___',\n",
              " '__builtin__',\n",
              " '__builtins__',\n",
              " '__doc__',\n",
              " '__loader__',\n",
              " '__name__',\n",
              " '__package__',\n",
              " '__spec__',\n",
              " '__vsc_ipynb_file__',\n",
              " '_dh',\n",
              " '_i',\n",
              " '_i1',\n",
              " '_i10',\n",
              " '_i11',\n",
              " '_i12',\n",
              " '_i13',\n",
              " '_i14',\n",
              " '_i15',\n",
              " '_i16',\n",
              " '_i17',\n",
              " '_i18',\n",
              " '_i19',\n",
              " '_i2',\n",
              " '_i20',\n",
              " '_i21',\n",
              " '_i22',\n",
              " '_i23',\n",
              " '_i3',\n",
              " '_i4',\n",
              " '_i5',\n",
              " '_i6',\n",
              " '_i7',\n",
              " '_i8',\n",
              " '_i9',\n",
              " '_ih',\n",
              " '_ii',\n",
              " '_iii',\n",
              " '_oh',\n",
              " 'dis',\n",
              " 'exit',\n",
              " 'foo',\n",
              " 'get_ipython',\n",
              " 'global_var',\n",
              " 'open',\n",
              " 'outer_func',\n",
              " 'quit',\n",
              " 'square',\n",
              " 'sys']"
            ]
          },
          "execution_count": 23,
          "metadata": {},
          "output_type": "execute_result"
        }
      ],
      "source": [
        "dir()"
      ]
    },
    {
      "cell_type": "markdown",
      "metadata": {
        "id": "ZxGywgfyM5PK"
      },
      "source": [
        "Whenever you assign a value to a name in Python, one of two things can happen:\n",
        "- You create a new name\n",
        "- You update an existing name\n",
        "\n",
        "The concrete behavior will depend on the Python scope in which you’re assigning the name. If you try to **assign a value to a global name inside a function**, then you’ll be creating that name in the function’s local scope, **shadowing or overriding the global name**. This means that you won’t be able to change most variables that have been defined outside the function from within the function."
      ]
    },
    {
      "cell_type": "code",
      "execution_count": null,
      "metadata": {
        "id": "ognk0QKBM5PL",
        "outputId": "54d68f4b-18f3-49d2-f978-f823a7308529"
      },
      "outputs": [
        {
          "ename": "UnboundLocalError",
          "evalue": "cannot access local variable 'var' where it is not associated with a value",
          "output_type": "error",
          "traceback": [
            "\u001b[1;31m---------------------------------------------------------------------------\u001b[0m",
            "\u001b[1;31mUnboundLocalError\u001b[0m                         Traceback (most recent call last)",
            "Cell \u001b[1;32mIn[24], line 5\u001b[0m\n\u001b[0;32m      2\u001b[0m \u001b[38;5;28;01mdef\u001b[39;00m \u001b[38;5;21mincrement\u001b[39m():\n\u001b[0;32m      3\u001b[0m     var \u001b[38;5;241m=\u001b[39m var \u001b[38;5;241m+\u001b[39m \u001b[38;5;241m1\u001b[39m  \u001b[38;5;66;03m# Try to update a global variable\u001b[39;00m\n\u001b[1;32m----> 5\u001b[0m increment()\n",
            "Cell \u001b[1;32mIn[24], line 3\u001b[0m, in \u001b[0;36mincrement\u001b[1;34m()\u001b[0m\n\u001b[0;32m      2\u001b[0m \u001b[38;5;28;01mdef\u001b[39;00m \u001b[38;5;21mincrement\u001b[39m():\n\u001b[1;32m----> 3\u001b[0m     var \u001b[38;5;241m=\u001b[39m var \u001b[38;5;241m+\u001b[39m \u001b[38;5;241m1\u001b[39m\n",
            "\u001b[1;31mUnboundLocalError\u001b[0m: cannot access local variable 'var' where it is not associated with a value"
          ]
        }
      ],
      "source": [
        "var = 100  # A global variable\n",
        "def increment():\n",
        "    var = var + 1  # Try to update a global variable\n",
        "\n",
        "increment()"
      ]
    },
    {
      "cell_type": "code",
      "execution_count": null,
      "metadata": {
        "id": "RfHUUirjM5PL",
        "outputId": "f7573c08-5223-4f7a-c8f6-9e19b2331045"
      },
      "outputs": [
        {
          "ename": "UnboundLocalError",
          "evalue": "cannot access local variable 'var' where it is not associated with a value",
          "output_type": "error",
          "traceback": [
            "\u001b[1;31m---------------------------------------------------------------------------\u001b[0m",
            "\u001b[1;31mUnboundLocalError\u001b[0m                         Traceback (most recent call last)",
            "Cell \u001b[1;32mIn[25], line 6\u001b[0m\n\u001b[0;32m      3\u001b[0m     \u001b[38;5;28mprint\u001b[39m(var)  \u001b[38;5;66;03m# Reference the global variable, var\u001b[39;00m\n\u001b[0;32m      4\u001b[0m     var \u001b[38;5;241m=\u001b[39m \u001b[38;5;241m200\u001b[39m   \u001b[38;5;66;03m# Define a new local variable using the same name, var\u001b[39;00m\n\u001b[1;32m----> 6\u001b[0m func()\n",
            "Cell \u001b[1;32mIn[25], line 3\u001b[0m, in \u001b[0;36mfunc\u001b[1;34m()\u001b[0m\n\u001b[0;32m      2\u001b[0m \u001b[38;5;28;01mdef\u001b[39;00m \u001b[38;5;21mfunc\u001b[39m():\n\u001b[1;32m----> 3\u001b[0m     \u001b[38;5;28mprint\u001b[39m(var)  \u001b[38;5;66;03m# Reference the global variable, var\u001b[39;00m\n\u001b[0;32m      4\u001b[0m     var \u001b[38;5;241m=\u001b[39m \u001b[38;5;241m200\u001b[39m\n",
            "\u001b[1;31mUnboundLocalError\u001b[0m: cannot access local variable 'var' where it is not associated with a value"
          ]
        }
      ],
      "source": [
        "var = 100  # A global variable\n",
        "def func():\n",
        "    print(var)  # Reference the global variable, var\n",
        "    var = 200   # Define a new local variable using the same name, var\n",
        "\n",
        "func()"
      ]
    },
    {
      "cell_type": "markdown",
      "metadata": {
        "id": "03mW3Ut_M5PL"
      },
      "source": [
        "What happens here is that when you run the body of `func()`, Python decides that `var` is a local variable because it’s assigned within the function scope. This isn’t a bug, but a design choice. **Python assumes that names assigned in the body of a function are local to that function**."
      ]
    },
    {
      "cell_type": "markdown",
      "metadata": {
        "id": "g9OgRN81M5PL"
      },
      "source": [
        "In the output of the first call to dir(), you can see that `__builtins__` is always present in the global Python scope. If you inspect `__builtins__` itself using `dir()`, then you’ll get the whole list of Python built-in names."
      ]
    },
    {
      "cell_type": "code",
      "execution_count": null,
      "metadata": {
        "id": "w7Kom0LTM5PM",
        "outputId": "f8fffb84-a1d2-490c-f684-693956fc3042"
      },
      "outputs": [
        {
          "data": {
            "text/plain": [
              "['ArithmeticError',\n",
              " 'AssertionError',\n",
              " 'AttributeError',\n",
              " 'BaseException',\n",
              " 'BaseExceptionGroup',\n",
              " 'BlockingIOError',\n",
              " 'BrokenPipeError',\n",
              " 'BufferError',\n",
              " 'BytesWarning',\n",
              " 'ChildProcessError',\n",
              " 'ConnectionAbortedError',\n",
              " 'ConnectionError',\n",
              " 'ConnectionRefusedError',\n",
              " 'ConnectionResetError',\n",
              " 'DeprecationWarning',\n",
              " 'EOFError',\n",
              " 'Ellipsis',\n",
              " 'EncodingWarning',\n",
              " 'EnvironmentError',\n",
              " 'Exception',\n",
              " 'ExceptionGroup',\n",
              " 'False',\n",
              " 'FileExistsError',\n",
              " 'FileNotFoundError',\n",
              " 'FloatingPointError',\n",
              " 'FutureWarning',\n",
              " 'GeneratorExit',\n",
              " 'IOError',\n",
              " 'ImportError',\n",
              " 'ImportWarning',\n",
              " 'IndentationError',\n",
              " 'IndexError',\n",
              " 'InterruptedError',\n",
              " 'IsADirectoryError',\n",
              " 'KeyError',\n",
              " 'KeyboardInterrupt',\n",
              " 'LookupError',\n",
              " 'MemoryError',\n",
              " 'ModuleNotFoundError',\n",
              " 'NameError',\n",
              " 'None',\n",
              " 'NotADirectoryError',\n",
              " 'NotImplemented',\n",
              " 'NotImplementedError',\n",
              " 'OSError',\n",
              " 'OverflowError',\n",
              " 'PendingDeprecationWarning',\n",
              " 'PermissionError',\n",
              " 'ProcessLookupError',\n",
              " 'RecursionError',\n",
              " 'ReferenceError',\n",
              " 'ResourceWarning',\n",
              " 'RuntimeError',\n",
              " 'RuntimeWarning',\n",
              " 'StopAsyncIteration',\n",
              " 'StopIteration',\n",
              " 'SyntaxError',\n",
              " 'SyntaxWarning',\n",
              " 'SystemError',\n",
              " 'SystemExit',\n",
              " 'TabError',\n",
              " 'TimeoutError',\n",
              " 'True',\n",
              " 'TypeError',\n",
              " 'UnboundLocalError',\n",
              " 'UnicodeDecodeError',\n",
              " 'UnicodeEncodeError',\n",
              " 'UnicodeError',\n",
              " 'UnicodeTranslateError',\n",
              " 'UnicodeWarning',\n",
              " 'UserWarning',\n",
              " 'ValueError',\n",
              " 'Warning',\n",
              " 'WindowsError',\n",
              " 'ZeroDivisionError',\n",
              " '__IPYTHON__',\n",
              " '__build_class__',\n",
              " '__debug__',\n",
              " '__doc__',\n",
              " '__import__',\n",
              " '__loader__',\n",
              " '__name__',\n",
              " '__package__',\n",
              " '__spec__',\n",
              " 'abs',\n",
              " 'aiter',\n",
              " 'all',\n",
              " 'anext',\n",
              " 'any',\n",
              " 'ascii',\n",
              " 'bin',\n",
              " 'bool',\n",
              " 'breakpoint',\n",
              " 'bytearray',\n",
              " 'bytes',\n",
              " 'callable',\n",
              " 'chr',\n",
              " 'classmethod',\n",
              " 'compile',\n",
              " 'complex',\n",
              " 'copyright',\n",
              " 'credits',\n",
              " 'delattr',\n",
              " 'dict',\n",
              " 'dir',\n",
              " 'display',\n",
              " 'divmod',\n",
              " 'enumerate',\n",
              " 'eval',\n",
              " 'exec',\n",
              " 'execfile',\n",
              " 'filter',\n",
              " 'float',\n",
              " 'format',\n",
              " 'frozenset',\n",
              " 'get_ipython',\n",
              " 'getattr',\n",
              " 'globals',\n",
              " 'hasattr',\n",
              " 'hash',\n",
              " 'help',\n",
              " 'hex',\n",
              " 'id',\n",
              " 'input',\n",
              " 'int',\n",
              " 'isinstance',\n",
              " 'issubclass',\n",
              " 'iter',\n",
              " 'len',\n",
              " 'license',\n",
              " 'list',\n",
              " 'locals',\n",
              " 'map',\n",
              " 'max',\n",
              " 'memoryview',\n",
              " 'min',\n",
              " 'next',\n",
              " 'object',\n",
              " 'oct',\n",
              " 'open',\n",
              " 'ord',\n",
              " 'pow',\n",
              " 'print',\n",
              " 'property',\n",
              " 'range',\n",
              " 'repr',\n",
              " 'reversed',\n",
              " 'round',\n",
              " 'runfile',\n",
              " 'set',\n",
              " 'setattr',\n",
              " 'slice',\n",
              " 'sorted',\n",
              " 'staticmethod',\n",
              " 'str',\n",
              " 'sum',\n",
              " 'super',\n",
              " 'tuple',\n",
              " 'type',\n",
              " 'vars',\n",
              " 'zip']"
            ]
          },
          "execution_count": 27,
          "metadata": {},
          "output_type": "execute_result"
        }
      ],
      "source": [
        "dir(__builtins__)"
      ]
    },
    {
      "cell_type": "markdown",
      "metadata": {
        "id": "IGKYMG0UM5PM"
      },
      "source": [
        "### Beyond the default behavior\n",
        "\n",
        "So far we have said that we can access or reference global names from any place in your code, but they can be modified or updated from within the global Python scope. We can also access local names only from inside the local Python scope they were created in or from inside a nested function, but we can’t access them from the global Python scope or from other local scopes. Additionally, nonlocal names can be accessed from inside nested functions, but they can’t be modified or updated from there.\n",
        "\n",
        "Even though Python scopes follow these general rules by default, there are ways to modify this standard behavior. Python provides two keywords that allow you to modify the content of global and nonlocal names. These two keywords are:\n",
        "- `global`\n",
        "- `nonlocal`"
      ]
    },
    {
      "cell_type": "markdown",
      "metadata": {
        "id": "DCTUuQVjM5PM"
      },
      "source": [
        "You already know that when you try to assign a value to a global name inside a function, you create a new local name in the function scope. To modify this behavior, you can use a `global` statement. With this statement, you can define names that are going to be treated as global names."
      ]
    },
    {
      "cell_type": "code",
      "execution_count": null,
      "metadata": {
        "id": "f8Qqom15M5PM",
        "outputId": "65137929-32ea-4e08-9399-e02445aa1c94"
      },
      "outputs": [
        {
          "name": "stdout",
          "output_type": "stream",
          "text": [
            "1\n",
            "2\n"
          ]
        }
      ],
      "source": [
        "counter = 0  # A global name\n",
        "def update_counter():\n",
        "    global counter  # Declare counter as global\n",
        "    counter = counter + 1\n",
        "\n",
        "update_counter()\n",
        "print(counter)\n",
        "update_counter()\n",
        "print(counter)"
      ]
    },
    {
      "cell_type": "markdown",
      "metadata": {
        "id": "ph9Sjpo0M5PN"
      },
      "source": [
        "**Note: The use of global is considered bad practice in general**. If you find yourself using global to fix problems like the one above, then stop and think if there is a better way to write your code."
      ]
    },
    {
      "cell_type": "markdown",
      "metadata": {
        "id": "4NpCCdayM5PN"
      },
      "source": [
        "Similarly to global names, nonlocal names can be accessed from inner functions, but not assigned or updated. If you want to modify them, then you need to use a `nonlocal` statement. With a nonlocal statement, you can define names that are going to be treated as nonlocal."
      ]
    },
    {
      "cell_type": "markdown",
      "metadata": {
        "id": "CTLb1IOFM5PN"
      },
      "source": [
        "### import statement\n",
        "When you write a Python program, you typically organize the code into several modules. For your program to work, you’ll need to bring the names in those separate modules to your `__main__` module. To do that, you need to import the modules or the names explicitly:"
      ]
    },
    {
      "cell_type": "code",
      "execution_count": null,
      "metadata": {
        "id": "suBVkpd5M5PN",
        "outputId": "849ddad5-2f06-4360-8c02-88aaf33115c1"
      },
      "outputs": [
        {
          "data": {
            "text/plain": [
              "['In',\n",
              " 'Out',\n",
              " '_',\n",
              " '_10',\n",
              " '_12',\n",
              " '_13',\n",
              " '_14',\n",
              " '_21',\n",
              " '_22',\n",
              " '_23',\n",
              " '_27',\n",
              " '_31',\n",
              " '_4',\n",
              " '_5',\n",
              " '_6',\n",
              " '_7',\n",
              " '_8',\n",
              " '_9',\n",
              " '__',\n",
              " '___',\n",
              " '__builtin__',\n",
              " '__builtins__',\n",
              " '__doc__',\n",
              " '__loader__',\n",
              " '__name__',\n",
              " '__package__',\n",
              " '__spec__',\n",
              " '__vsc_ipynb_file__',\n",
              " '_dh',\n",
              " '_i',\n",
              " '_i1',\n",
              " '_i10',\n",
              " '_i11',\n",
              " '_i12',\n",
              " '_i13',\n",
              " '_i14',\n",
              " '_i15',\n",
              " '_i16',\n",
              " '_i17',\n",
              " '_i18',\n",
              " '_i19',\n",
              " '_i2',\n",
              " '_i20',\n",
              " '_i21',\n",
              " '_i22',\n",
              " '_i23',\n",
              " '_i24',\n",
              " '_i25',\n",
              " '_i26',\n",
              " '_i27',\n",
              " '_i28',\n",
              " '_i29',\n",
              " '_i3',\n",
              " '_i30',\n",
              " '_i31',\n",
              " '_i32',\n",
              " '_i4',\n",
              " '_i5',\n",
              " '_i6',\n",
              " '_i7',\n",
              " '_i8',\n",
              " '_i9',\n",
              " '_ih',\n",
              " '_ii',\n",
              " '_iii',\n",
              " '_oh',\n",
              " 'counter',\n",
              " 'dis',\n",
              " 'exit',\n",
              " 'foo',\n",
              " 'func',\n",
              " 'get_ipython',\n",
              " 'global_var',\n",
              " 'increment',\n",
              " 'open',\n",
              " 'os',\n",
              " 'outer_func',\n",
              " 'partial',\n",
              " 'quit',\n",
              " 'square',\n",
              " 'sys',\n",
              " 'update_counter',\n",
              " 'var']"
            ]
          },
          "execution_count": 32,
          "metadata": {},
          "output_type": "execute_result"
        }
      ],
      "source": [
        "dir()"
      ]
    },
    {
      "cell_type": "code",
      "execution_count": null,
      "metadata": {
        "id": "nm1Lif7cM5PN",
        "outputId": "a4f393f7-ca95-4a3a-f0e6-5fc053e9e747"
      },
      "outputs": [
        {
          "data": {
            "text/plain": [
              "['In',\n",
              " 'Out',\n",
              " '_',\n",
              " '_10',\n",
              " '_12',\n",
              " '_13',\n",
              " '_14',\n",
              " '_21',\n",
              " '_22',\n",
              " '_23',\n",
              " '_27',\n",
              " '_31',\n",
              " '_32',\n",
              " '_4',\n",
              " '_5',\n",
              " '_6',\n",
              " '_7',\n",
              " '_8',\n",
              " '_9',\n",
              " '__',\n",
              " '___',\n",
              " '__builtin__',\n",
              " '__builtins__',\n",
              " '__doc__',\n",
              " '__loader__',\n",
              " '__name__',\n",
              " '__package__',\n",
              " '__spec__',\n",
              " '__vsc_ipynb_file__',\n",
              " '_dh',\n",
              " '_i',\n",
              " '_i1',\n",
              " '_i10',\n",
              " '_i11',\n",
              " '_i12',\n",
              " '_i13',\n",
              " '_i14',\n",
              " '_i15',\n",
              " '_i16',\n",
              " '_i17',\n",
              " '_i18',\n",
              " '_i19',\n",
              " '_i2',\n",
              " '_i20',\n",
              " '_i21',\n",
              " '_i22',\n",
              " '_i23',\n",
              " '_i24',\n",
              " '_i25',\n",
              " '_i26',\n",
              " '_i27',\n",
              " '_i28',\n",
              " '_i29',\n",
              " '_i3',\n",
              " '_i30',\n",
              " '_i31',\n",
              " '_i32',\n",
              " '_i33',\n",
              " '_i4',\n",
              " '_i5',\n",
              " '_i6',\n",
              " '_i7',\n",
              " '_i8',\n",
              " '_i9',\n",
              " '_ih',\n",
              " '_ii',\n",
              " '_iii',\n",
              " '_oh',\n",
              " 'counter',\n",
              " 'dis',\n",
              " 'exit',\n",
              " 'foo',\n",
              " 'func',\n",
              " 'get_ipython',\n",
              " 'global_var',\n",
              " 'increment',\n",
              " 'open',\n",
              " 'os',\n",
              " 'outer_func',\n",
              " 'partial',\n",
              " 'quit',\n",
              " 'square',\n",
              " 'sys',\n",
              " 'update_counter',\n",
              " 'var']"
            ]
          },
          "execution_count": 33,
          "metadata": {},
          "output_type": "execute_result"
        }
      ],
      "source": [
        "import os\n",
        "dir()"
      ]
    },
    {
      "cell_type": "code",
      "execution_count": null,
      "metadata": {
        "id": "TBnoPZoNM5PO",
        "outputId": "f2b06984-d263-48eb-d63b-e653df034bc8"
      },
      "outputs": [
        {
          "data": {
            "text/plain": [
              "['In',\n",
              " 'Out',\n",
              " '_',\n",
              " '_10',\n",
              " '_12',\n",
              " '_13',\n",
              " '_14',\n",
              " '_21',\n",
              " '_22',\n",
              " '_23',\n",
              " '_27',\n",
              " '_31',\n",
              " '_32',\n",
              " '_33',\n",
              " '_4',\n",
              " '_5',\n",
              " '_6',\n",
              " '_7',\n",
              " '_8',\n",
              " '_9',\n",
              " '__',\n",
              " '___',\n",
              " '__builtin__',\n",
              " '__builtins__',\n",
              " '__doc__',\n",
              " '__loader__',\n",
              " '__name__',\n",
              " '__package__',\n",
              " '__spec__',\n",
              " '__vsc_ipynb_file__',\n",
              " '_dh',\n",
              " '_i',\n",
              " '_i1',\n",
              " '_i10',\n",
              " '_i11',\n",
              " '_i12',\n",
              " '_i13',\n",
              " '_i14',\n",
              " '_i15',\n",
              " '_i16',\n",
              " '_i17',\n",
              " '_i18',\n",
              " '_i19',\n",
              " '_i2',\n",
              " '_i20',\n",
              " '_i21',\n",
              " '_i22',\n",
              " '_i23',\n",
              " '_i24',\n",
              " '_i25',\n",
              " '_i26',\n",
              " '_i27',\n",
              " '_i28',\n",
              " '_i29',\n",
              " '_i3',\n",
              " '_i30',\n",
              " '_i31',\n",
              " '_i32',\n",
              " '_i33',\n",
              " '_i34',\n",
              " '_i4',\n",
              " '_i5',\n",
              " '_i6',\n",
              " '_i7',\n",
              " '_i8',\n",
              " '_i9',\n",
              " '_ih',\n",
              " '_ii',\n",
              " '_iii',\n",
              " '_oh',\n",
              " 'counter',\n",
              " 'dis',\n",
              " 'exit',\n",
              " 'foo',\n",
              " 'func',\n",
              " 'get_ipython',\n",
              " 'global_var',\n",
              " 'increment',\n",
              " 'open',\n",
              " 'os',\n",
              " 'outer_func',\n",
              " 'partial',\n",
              " 'quit',\n",
              " 'square',\n",
              " 'sys',\n",
              " 'update_counter',\n",
              " 'var']"
            ]
          },
          "execution_count": 34,
          "metadata": {},
          "output_type": "execute_result"
        }
      ],
      "source": [
        "from functools import partial\n",
        "dir()"
      ]
    },
    {
      "cell_type": "markdown",
      "metadata": {
        "id": "Xr4gLLQVM5PO"
      },
      "source": [
        "In the latest import operation, you use the form `from <module> import <name>`. This way, you can use the imported name directly in your code. In other words, you don’t need to explicitly use the dot notation."
      ]
    },
    {
      "cell_type": "markdown",
      "metadata": {
        "id": "fOt1d-u9M5PO"
      },
      "source": [
        "### Unusual Python Scopes\n",
        "\n",
        "#### Comprehension Variables Scope\n",
        "Comprehensions consist of a pair of brackets ([]) or curly braces ({}) containing an expression, followed by one or more for clauses and then zero or one if clause per for clause."
      ]
    },
    {
      "cell_type": "code",
      "execution_count": null,
      "metadata": {
        "id": "Aau2CE7SM5PO",
        "outputId": "286036e7-d6c1-44f8-e129-63124f6fa04a"
      },
      "outputs": [
        {
          "ename": "NameError",
          "evalue": "name 'item' is not defined",
          "output_type": "error",
          "traceback": [
            "\u001b[1;31m---------------------------------------------------------------------------\u001b[0m",
            "\u001b[1;31mNameError\u001b[0m                                 Traceback (most recent call last)",
            "Cell \u001b[1;32mIn[35], line 3\u001b[0m\n\u001b[0;32m      1\u001b[0m [item \u001b[38;5;28;01mfor\u001b[39;00m item \u001b[38;5;129;01min\u001b[39;00m \u001b[38;5;28mrange\u001b[39m(\u001b[38;5;241m5\u001b[39m)]\n\u001b[1;32m----> 3\u001b[0m item\n",
            "\u001b[1;31mNameError\u001b[0m: name 'item' is not defined"
          ]
        }
      ],
      "source": [
        "[item for item in range(5)]\n",
        "\n",
        "item"
      ]
    },
    {
      "cell_type": "markdown",
      "metadata": {
        "id": "rC9kLe1FM5PP"
      },
      "source": [
        "#### Exception Variables Scope\n",
        "\n",
        "Another atypical case of Python scope that you’ll encounter is the case of the exception variable:"
      ]
    },
    {
      "cell_type": "code",
      "execution_count": null,
      "metadata": {
        "id": "lCpfT8r7M5PQ",
        "outputId": "811a4e08-f948-4254-c224-b72643ce7f89"
      },
      "outputs": [
        {
          "name": "stdout",
          "output_type": "stream",
          "text": [
            "list index out of range\n"
          ]
        },
        {
          "ename": "NameError",
          "evalue": "name 'err' is not defined",
          "output_type": "error",
          "traceback": [
            "\u001b[1;31m---------------------------------------------------------------------------\u001b[0m",
            "\u001b[1;31mNameError\u001b[0m                                 Traceback (most recent call last)",
            "Cell \u001b[1;32mIn[36], line 9\u001b[0m\n\u001b[0;32m      4\u001b[0m \u001b[38;5;28;01mexcept\u001b[39;00m \u001b[38;5;167;01mIndexError\u001b[39;00m \u001b[38;5;28;01mas\u001b[39;00m err:\n\u001b[0;32m      5\u001b[0m     \u001b[38;5;66;03m# The variable err is local to this block\u001b[39;00m\n\u001b[0;32m      6\u001b[0m     \u001b[38;5;66;03m# Here you can do anything with err\u001b[39;00m\n\u001b[0;32m      7\u001b[0m     \u001b[38;5;28mprint\u001b[39m(err)\n\u001b[1;32m----> 9\u001b[0m err\n",
            "\u001b[1;31mNameError\u001b[0m: name 'err' is not defined"
          ]
        }
      ],
      "source": [
        "lst = [1, 2, 3]\n",
        "try:\n",
        "    lst[4]\n",
        "except IndexError as err:\n",
        "    # The variable err is local to this block\n",
        "    # Here you can do anything with err\n",
        "    print(err)\n",
        "\n",
        "err"
      ]
    },
    {
      "cell_type": "markdown",
      "metadata": {
        "id": "FKdTu1ElM5PR"
      },
      "source": [
        "#### Class and Instance Attributes Scope\n",
        "\n",
        "When you define a class, you’re creating a new local Python scope. The names assigned at the top level of the class live in this local scope. The names that you assigned inside a class statement don’t clash with names elsewhere. You can say that these names follow the LEGB rule, where the class block represents the **L** level. **Unlike functions, the class local scope isn’t created at call time, but at execution time**."
      ]
    },
    {
      "cell_type": "code",
      "execution_count": null,
      "metadata": {
        "id": "1K7jeC3rM5PR",
        "outputId": "55df63d6-409e-47e1-ab1a-847672c6531b"
      },
      "outputs": [
        {
          "data": {
            "text/plain": [
              "dict_keys(['__module__', 'attr', '__dict__', '__weakref__', '__doc__'])"
            ]
          },
          "execution_count": 37,
          "metadata": {},
          "output_type": "execute_result"
        }
      ],
      "source": [
        "class A:\n",
        "    attr = 100\n",
        "\n",
        "A.__dict__.keys()"
      ]
    },
    {
      "cell_type": "code",
      "execution_count": null,
      "metadata": {
        "id": "-cYN4OKMM5PS",
        "outputId": "25e47396-4add-4791-9963-75eaf9788b55"
      },
      "outputs": [
        {
          "data": {
            "text/plain": [
              "100"
            ]
          },
          "execution_count": 38,
          "metadata": {},
          "output_type": "execute_result"
        }
      ],
      "source": [
        "A.attr"
      ]
    },
    {
      "cell_type": "code",
      "execution_count": null,
      "metadata": {
        "id": "lR93qegcM5PT",
        "outputId": "b40abad0-9773-4b6d-f98f-8f30735bf0d7"
      },
      "outputs": [
        {
          "data": {
            "text/plain": [
              "100"
            ]
          },
          "execution_count": 39,
          "metadata": {},
          "output_type": "execute_result"
        }
      ],
      "source": [
        "obj = A()\n",
        "obj.attr"
      ]
    },
    {
      "cell_type": "code",
      "execution_count": null,
      "metadata": {
        "id": "-XXNd3ssM5PV",
        "outputId": "a4089318-cd08-4670-c568-c40e6bfdcc02"
      },
      "outputs": [
        {
          "data": {
            "text/plain": [
              "100"
            ]
          },
          "execution_count": 44,
          "metadata": {},
          "output_type": "execute_result"
        },
        {
          "data": {
            "text/plain": [
              "100"
            ]
          },
          "execution_count": 44,
          "metadata": {},
          "output_type": "execute_result"
        }
      ],
      "source": [
        "obj2 = A()\n",
        "obj2.attr = 7\n",
        "obj.attr\n",
        "A.attr"
      ]
    },
    {
      "cell_type": "markdown",
      "metadata": {
        "id": "M3UB8cLfM5PX"
      },
      "source": [
        "Class attributes are specific to the class object, but you can access them from any instances of the class. It’s worth noting that class attributes are common to all instances of a class. If you modify a class attribute, then the changes will be visible in all instances of the class."
      ]
    },
    {
      "cell_type": "code",
      "execution_count": null,
      "metadata": {
        "id": "erdvnORUM5PZ",
        "outputId": "9f9afd4b-dd64-46e9-9987-01cb5022a9cf"
      },
      "outputs": [
        {
          "data": {
            "text/plain": [
              "99"
            ]
          },
          "execution_count": 46,
          "metadata": {},
          "output_type": "execute_result"
        },
        {
          "data": {
            "text/plain": [
              "7"
            ]
          },
          "execution_count": 46,
          "metadata": {},
          "output_type": "execute_result"
        }
      ],
      "source": [
        "A.attr = 99\n",
        "obj.attr  # this is accessing to the class attribute\n",
        "obj2.attr  # this is creating an instance attribute"
      ]
    },
    {
      "cell_type": "code",
      "execution_count": null,
      "metadata": {
        "id": "SpORjZCsM5Pa",
        "outputId": "e656f8ce-81cd-41fb-eee7-bb43d9951b28"
      },
      "outputs": [
        {
          "data": {
            "text/plain": [
              "mappingproxy({'__module__': '__main__',\n",
              "              'attr': 99,\n",
              "              '__dict__': <attribute '__dict__' of 'A' objects>,\n",
              "              '__weakref__': <attribute '__weakref__' of 'A' objects>,\n",
              "              '__doc__': None})"
            ]
          },
          "execution_count": 48,
          "metadata": {},
          "output_type": "execute_result"
        },
        {
          "data": {
            "text/plain": [
              "{}"
            ]
          },
          "execution_count": 48,
          "metadata": {},
          "output_type": "execute_result"
        },
        {
          "data": {
            "text/plain": [
              "{'attr': 7}"
            ]
          },
          "execution_count": 48,
          "metadata": {},
          "output_type": "execute_result"
        }
      ],
      "source": [
        "A.__dict__\n",
        "obj.__dict__\n",
        "obj2.__dict__"
      ]
    },
    {
      "cell_type": "markdown",
      "metadata": {
        "id": "_td7pZTEM5Pa"
      },
      "source": [
        "To create, update, or access any instance attribute from inside the class, you need to use self along with the dot notation. Here, self is a special attribute that represents the current instance. On the other hand, to update or access any instance attribute from outside the class, you need to create an instance and then use the dot notation. **Note**: Even though you can create instance attributes within any method in a class, **it’s good practice to create and initialize them inside `.__init__()`.**"
      ]
    },
    {
      "cell_type": "code",
      "execution_count": null,
      "metadata": {
        "id": "f00H9FOsM5Pb",
        "outputId": "305ba193-6068-4813-dce1-585caa46b24f"
      },
      "outputs": [
        {
          "data": {
            "text/plain": [
              "{'var': 200}"
            ]
          },
          "execution_count": 51,
          "metadata": {},
          "output_type": "execute_result"
        },
        {
          "data": {
            "text/plain": [
              "200"
            ]
          },
          "execution_count": 51,
          "metadata": {},
          "output_type": "execute_result"
        }
      ],
      "source": [
        "class B:\n",
        "    def __init__(self, var):\n",
        "        self.var = var  # Create a new instance attribute\n",
        "        self.var *= 2  # Update the instance attribute\n",
        "\n",
        "obj = B(100)\n",
        "obj.__dict__\n",
        "obj.var"
      ]
    },
    {
      "cell_type": "code",
      "execution_count": null,
      "metadata": {
        "id": "vGoDt56jM5Pb",
        "outputId": "dfc0ca6b-749d-4c1c-ee71-2c1121927fd4"
      },
      "outputs": [
        {
          "ename": "AttributeError",
          "evalue": "type object 'B' has no attribute 'var'",
          "output_type": "error",
          "traceback": [
            "\u001b[1;31m---------------------------------------------------------------------------\u001b[0m",
            "\u001b[1;31mAttributeError\u001b[0m                            Traceback (most recent call last)",
            "Cell \u001b[1;32mIn[52], line 1\u001b[0m\n\u001b[1;32m----> 1\u001b[0m B\u001b[38;5;241m.\u001b[39mvar\n",
            "\u001b[1;31mAttributeError\u001b[0m: type object 'B' has no attribute 'var'"
          ]
        }
      ],
      "source": [
        "B.var"
      ]
    },
    {
      "cell_type": "markdown",
      "metadata": {
        "id": "pIDAdFFDM5Pb"
      },
      "source": [
        "Although classes define a class local scope or namespace, they don’t create an enclosing scope for methods. Therefore, when you’re implementing a class, references to attributes and methods must be done using the dot notation"
      ]
    },
    {
      "cell_type": "code",
      "execution_count": null,
      "metadata": {
        "id": "sFtrTYbHM5Pb",
        "outputId": "e6cbb425-49d5-482a-b162-df4f24baf12c"
      },
      "outputs": [
        {
          "ename": "NameError",
          "evalue": "name 'c_var' is not defined",
          "output_type": "error",
          "traceback": [
            "\u001b[1;31m---------------------------------------------------------------------------\u001b[0m",
            "\u001b[1;31mNameError\u001b[0m                                 Traceback (most recent call last)",
            "Cell \u001b[1;32mIn[59], line 6\u001b[0m\n\u001b[0;32m      3\u001b[0m     \u001b[38;5;28;01mdef\u001b[39;00m \u001b[38;5;21mprint_var\u001b[39m(\u001b[38;5;28mself\u001b[39m):\n\u001b[0;32m      4\u001b[0m         \u001b[38;5;28mprint\u001b[39m(c_var)\n\u001b[1;32m----> 6\u001b[0m C()\u001b[38;5;241m.\u001b[39mprint_var()\n",
            "Cell \u001b[1;32mIn[59], line 4\u001b[0m, in \u001b[0;36mC.print_var\u001b[1;34m(self)\u001b[0m\n\u001b[0;32m      3\u001b[0m \u001b[38;5;28;01mdef\u001b[39;00m \u001b[38;5;21mprint_var\u001b[39m(\u001b[38;5;28mself\u001b[39m):\n\u001b[1;32m----> 4\u001b[0m     \u001b[38;5;28mprint\u001b[39m(c_var)\n",
            "\u001b[1;31mNameError\u001b[0m: name 'c_var' is not defined"
          ]
        }
      ],
      "source": [
        "class C:\n",
        "    c_var = 100\n",
        "    def print_var(self):\n",
        "        print(c_var)\n",
        "\n",
        "C().print_var()"
      ]
    },
    {
      "cell_type": "code",
      "execution_count": null,
      "metadata": {
        "id": "7dEfcuUoM5Pc",
        "outputId": "f9d5b707-1011-47f8-a084-a274865034e2"
      },
      "outputs": [
        {
          "name": "stdout",
          "output_type": "stream",
          "text": [
            "The instance attribute is: 200\n",
            "The class attribute is: 100\n"
          ]
        }
      ],
      "source": [
        "class D:\n",
        "    d_var = 100\n",
        "    def __init__(self):\n",
        "        self.d_var = 200\n",
        "\n",
        "    def access_attr(self):\n",
        "        # Use dot notation to access class and instance attributes\n",
        "        print(f'The instance attribute is: {self.d_var}')\n",
        "        print(f'The class attribute is: {D.d_var}')\n",
        "\n",
        "obj = D()\n",
        "obj.access_attr()"
      ]
    },
    {
      "cell_type": "markdown",
      "metadata": {
        "id": "lRIeC3n_UjSU"
      },
      "source": [
        "## 🧗 Modules and Packages\n",
        "\n",
        "In programming, a module is a piece of software that has a specific functionality. For example, when building a ping pong game, one module may be responsible for the game logic, and another module draws the game on the screen. Each module consists of a different file, which may be edited separately."
      ]
    },
    {
      "cell_type": "markdown",
      "metadata": {
        "id": "d64cHNvUVLRm"
      },
      "source": [
        "### Writing modules\n",
        "\n",
        "Modules in Python are just Python files with a .py extension. The name of the module is the same as the file name. A Python module can contain executable statements as well as function definitions. These statements are intended to initialize the module. They are executed only the first time the module name is encountered in an import statement. (They are also run if the file is executed as a script.)\n",
        "\n",
        "The ping pong example above includes two files:\n",
        "\n",
        "```\n",
        "mygame/\n",
        "       game.py\n",
        "       draw.py\n",
        "```\n",
        "\n",
        "The Python script `game.py` implements the game. It uses the function `draw_game` from the file `draw.py`, or in other words, the `draw` module that implements the logic for drawing the game on the screen.\n",
        "\n",
        "Modules are imported from other modules using the `import` command. In this example, the `game.py` script may look something like this:\n",
        "\n",
        "```python\n",
        "# game.py\n",
        "# import the draw module\n",
        "import draw\n",
        "\n",
        "def play_game():\n",
        "    ...\n",
        "\n",
        "def main():\n",
        "    result = play_game()\n",
        "    draw.draw_game(result)\n",
        "\n",
        "# this means that if this script is executed, then\n",
        "# main() will be executed\n",
        "if __name__ == '__main__':\n",
        "    main()\n",
        "```\n",
        "The draw module may look something like this:\n",
        "```python\n",
        "# draw.py\n",
        "\n",
        "def draw_game():\n",
        "    ...\n",
        "\n",
        "def clear_screen(screen):\n",
        "    ...\n",
        "```\n",
        "\n",
        "When you run a Python module with\n",
        "```\n",
        "python game.py\n",
        "```\n",
        "the code in the module will be executed, just as if you imported it, but with the `__name__` set to `__main__`. That means that by adding this code at the end of your module:\n",
        "\n",
        "```python\n",
        "if __name__ == '__main__':\n",
        "    main()\n",
        "```\n",
        "you can make the file usable as a script as well as an importable module, because the code that parses the command line only runs if the module is executed as the \"main\" file. This is often used either to provide a convenient user interface to a module, or for testing purposes (running the module as a script executes a test suite)."
      ]
    },
    {
      "cell_type": "markdown",
      "metadata": {
        "id": "lCmytHzgYGY4"
      },
      "source": [
        "### Importing module objects to the current namespace\n",
        "\n",
        "A namespace is a system where every object is named and can be accessed in Python. We import the function draw_game into the main script's namespace by using the from command.\n",
        "```python\n",
        "# game.py\n",
        "# import the draw module\n",
        "from draw import draw_game\n",
        "\n",
        "def main():\n",
        "    result = play_game()\n",
        "    draw_game(result)\n",
        "```"
      ]
    },
    {
      "cell_type": "markdown",
      "metadata": {
        "id": "9JWFCvMWZA9a"
      },
      "source": [
        "You may have noticed that in this example, the name of the module does not precede the call of the `draw_game` function, because we've specified the module name using the import command. Indeed, the simple `import draw` statement does not add the names of the functions defined in `draw` directly to the current namespace (see Python Scopes and Namespaces for more details); it only adds the module name `draw` there. On the other hand, the `from .. import ...` statement does not introduce the module name from which the imports are taken in the local namespace (so in the example, `draw` is not defined).\n",
        "\n",
        "The advantages of this notation is that you don't have to reference the module over and over. However, a namespace cannot have two objects with the same name, so the import command may replace an existing object in the namespace."
      ]
    },
    {
      "cell_type": "markdown",
      "metadata": {
        "id": "Hrcgo5NKakBs"
      },
      "source": [
        "### Importing all objects from a module\n",
        "\n",
        "You can use the import * command to import all the objects in a module like this:\n",
        "```python\n",
        "# game.py\n",
        "# import the draw module\n",
        "from draw import *\n",
        "\n",
        "def main():\n",
        "    result = play_game()\n",
        "    draw_game(result)\n",
        "```"
      ]
    },
    {
      "cell_type": "markdown",
      "metadata": {
        "id": "fWpqAdABbJdg"
      },
      "source": [
        "This imports all names except those beginning with an underscore (_). In most cases Python programmers do not use this facility since it introduces an unknown set of names into the interpreter, possibly hiding some things you have already defined.\n",
        "\n",
        "Note that in general the practice of importing * from a module or package is frowned upon, since it often causes poorly readable code. However, it is okay to use it to save typing in interactive sessions.\n",
        "\n",
        "### Custom import name\n",
        "\n",
        "Modules may be loaded under any name you want. This is useful when importing a module conditionally to use the same name in the rest of the code.\n",
        "\n",
        "For example, if you have two draw modules with slighty different names, you may do the following:\n",
        "```python\n",
        "# game.py\n",
        "# import the draw module\n",
        "if visual_mode:\n",
        "    # in visual mode, we draw using graphics\n",
        "    import draw_visual as draw\n",
        "else:\n",
        "    # in textual mode, we print out text\n",
        "    import draw_textual as draw\n",
        "\n",
        "def main():\n",
        "    result = play_game()\n",
        "    # this can either be visual or textual depending on visual_mode\n",
        "    draw.draw_game(result)\n",
        "```"
      ]
    },
    {
      "cell_type": "markdown",
      "metadata": {
        "id": "aBVNoUdkM5Pd"
      },
      "source": [
        "### Packages\n",
        "\n",
        "**Tutorial from the [official documentation](https://docs.python.org/3/tutorial/modules.html#packages).**\n",
        "\n",
        "Packages are a way of structuring Python’s module namespace by using “dotted module names”. For example, the module name A.B designates a submodule named B in a package named A. Just like the use of modules saves the authors of different modules from having to worry about each other’s global variable names, the use of dotted module names saves the authors of multi-module packages like NumPy or Pillow from having to worry about each other’s module names.\n",
        "\n",
        "Suppose you want to design a collection of modules (a “package”) for the uniform handling of sound files and sound data. There are many different sound file formats (usually recognized by their extension, for example: .wav, .aiff, .au), so you may need to create and maintain a growing collection of modules for the conversion between the various file formats. There are also many different operations you might want to perform on sound data (such as mixing, adding echo, applying an equalizer function, creating an artificial stereo effect), so in addition you will be writing a never-ending stream of modules to perform these operations. Here’s a possible structure for your package (expressed in terms of a hierarchical filesystem):\n",
        "\n",
        "```\n",
        "sound/                          Top-level package\n",
        "      __init__.py               Initialize the sound package\n",
        "      formats/                  Subpackage for file format conversions\n",
        "              __init__.py\n",
        "              wavread.py\n",
        "              wavwrite.py\n",
        "              aiffread.py\n",
        "              aiffwrite.py\n",
        "              auread.py\n",
        "              auwrite.py\n",
        "              ...\n",
        "      effects/                  Subpackage for sound effects\n",
        "              __init__.py\n",
        "              echo.py\n",
        "              surround.py\n",
        "              reverse.py\n",
        "              ...\n",
        "      filters/                  Subpackage for filters\n",
        "              __init__.py\n",
        "              equalizer.py\n",
        "              vocoder.py\n",
        "              karaoke.py\n",
        "              ...\n",
        "```"
      ]
    },
    {
      "cell_type": "markdown",
      "metadata": {
        "id": "Xna-N6zoM5Pe"
      },
      "source": [
        "When importing the package, Python searches through the directories on `sys.path` looking for the package subdirectory.\n",
        "\n",
        "The `__init__.py` files are required to make Python treat directories containing the file as packages (unless using a namespace package, a relatively advanced feature). This prevents directories with a common name, such as string, from unintentionally hiding valid modules that occur later on the module search path. In the simplest case, `__init__.py` can just be an empty file, but it can also execute initialization code for the package or set the `__all__` variable ([read here if interested](https://docs.python.org/3/tutorial/modules.html#importing-from-a-package)).\n",
        "\n",
        "Users of the package can import individual modules from the package, for example:\n",
        "```python\n",
        "import sound.effects.echo\n",
        "```\n",
        "This loads the submodule `sound.effects.echo`. It must be referenced with its full name.\n",
        "```python\n",
        "sound.effects.echo.echofilter(input, output, delay=0.7, atten=4)\n",
        "```\n",
        "An alternative way of importing the submodule is:\n",
        "```python\n",
        "from sound.effects import echo\n",
        "```\n",
        "This also loads the submodule echo, and makes it available without its package prefix, so it can be used as follows:\n",
        "```python\n",
        "echo.echofilter(input, output, delay=0.7, atten=4)\n",
        "```\n",
        "Yet another variation is to import the desired function or variable directly:\n",
        "```python\n",
        "from sound.effects.echo import echofilter\n",
        "```\n",
        "Again, this loads the submodule echo, but this makes its function `echofilter()` directly available:\n",
        "```python\n",
        "echofilter(input, output, delay=0.7, atten=4)\n",
        "```\n",
        "Note that when using `from package import item`, the item can be either a submodule (or subpackage) of the package, or some other name defined in the package, like a function, class or variable. The import statement first tests whether the item is defined in the package; if not, it assumes it is a module and attempts to load it. If it fails to find it, an `ImportError` exception is raised.\n",
        "\n",
        "Contrarily, when using syntax like `import item.subitem.subsubitem`, each item except for the last must be a package; the last item can be a module or a package but can’t be a class or function or variable defined in the previous item."
      ]
    },
    {
      "cell_type": "markdown",
      "metadata": {
        "id": "hCBhejdNM5Pe"
      },
      "source": [
        "### Intra-package References\n",
        "\n",
        "When packages are structured into subpackages (as with the sound package in the example), you can use absolute imports to refer to submodules of siblings packages. For example, if the module `sound.filters.vocoder` needs to use the echo module in the `sound.effects` package, it can use `from sound.effects import echo`.\n",
        "\n",
        "You can also write relative imports, with the `from module import name` form of import statement. These imports use leading dots to indicate the current and parent packages involved in the relative import. From the surround module for example, you might use:\n",
        "```python\n",
        "from . import echo\n",
        "from .. import formats\n",
        "from ..filters import equalizer\n",
        "```\n",
        "Note that relative imports are based on the name of the current module. Since the name of the main module is always `__main__`, modules intended for use as the main module of a Python application must always use absolute imports.\n",
        "\n",
        "**In general, it is suggested to opt for absolute imports over relative ones, unless the path is complex and would make the statement too long. PEP 8 explicitly recommends absolute imports.** [Read here for more information](https://realpython.com/absolute-vs-relative-python-imports)."
      ]
    }
  ],
  "metadata": {
    "colab": {
      "provenance": []
    },
    "kernelspec": {
      "display_name": "Python 3 (ipykernel)",
      "language": "python",
      "name": "python3"
    },
    "language_info": {
      "codemirror_mode": {
        "name": "ipython",
        "version": 3
      },
      "file_extension": ".py",
      "mimetype": "text/x-python",
      "name": "python",
      "nbconvert_exporter": "python",
      "pygments_lexer": "ipython3",
      "version": "3.11.5"
    }
  },
  "nbformat": 4,
  "nbformat_minor": 0
}